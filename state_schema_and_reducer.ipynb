{
 "cells": [
  {
   "cell_type": "markdown",
   "metadata": {},
   "source": [
    "# State Schema\n",
    "\n",
    "We are going to build a deeper understanding of State Schema and its components. \n",
    "\n",
    "### Schema\n",
    "\n",
    "When we define LangGraph `StateGraph`, we use a state schema. \n",
    "\n",
    "It provides a communication structure (a way to communicate) between nodes along with types of data (channels) through which information flows.\n",
    "\n",
    "### TypedDict\n",
    "\n",
    "It is a dictionary subclass from Python's standard library that allows to specify channels and corresponding value types.\n",
    "\n",
    "Not that these are type hints. This indicates that the expected input value is of a particular type."
   ]
  },
  {
   "cell_type": "code",
   "execution_count": 5,
   "metadata": {},
   "outputs": [],
   "source": [
    "from typing import TypedDict\n",
    "\n",
    "class TypedDictState(TypedDict):\n",
    "    foo: str\n",
    "    bar: int\n",
    "\n",
    "# Here, the channels indicated by foo and bar will be updated based on the interaction with the nodes.\n",
    "# The data type indicated by the channels tells the type of the data that will be sent through the channels.\n",
    "# The data type of the channels should be consistent with the data type of the TypedDictState."
   ]
  },
  {
   "cell_type": "code",
   "execution_count": 4,
   "metadata": {},
   "outputs": [],
   "source": [
    "# For more specific constraints, we can use things like `Literal` type hint\n",
    "# Here, mood can only be either 'happy' or 'sad'\n",
    "\n",
    "from typing import Literal\n",
    "class TypedDictStateWithLiteral(TypedDict):\n",
    "    foo: str\n",
    "    bar: int\n",
    "    mood: Literal['happy', 'sad']"
   ]
  },
  {
   "cell_type": "markdown",
   "metadata": {},
   "source": [
    "### Dataclass\n",
    "\n",
    "Python's dataclass provides another way to define structured data.\n",
    "\n",
    "It offers a concise syntax for creating classes that are primarily used to store data.\n",
    "\n",
    "In the return statement for nodes, we still return a dictionary even though our state is a `dataclass`.\n"
   ]
  },
  {
   "cell_type": "code",
   "execution_count": 7,
   "metadata": {},
   "outputs": [],
   "source": [
    "from dataclasses import dataclass\n",
    "\n",
    "@dataclass\n",
    "class DataClassState:\n",
    "    foo: str\n",
    "    bar: int\n",
    "    mood: Literal['happy', 'sad']\n",
    "\n",
    "# In dataclass, access the values using the dot operator instead of the key operator\n",
    "# For example, `state.foo` instead of `state['foo']\n",
    "\n",
    "# But now we can't invoke our graph with a dictionary, we need to use the dataclass instance\n",
    "# state = DataClassState(foo='hello', bar=42, mood='happy')\n",
    "# app.invoke(state)"
   ]
  },
  {
   "cell_type": "markdown",
   "metadata": {},
   "source": [
    "### Pydantic\n",
    "\n",
    "Pydantic is a powerful data validation and settings management library using Python type annotations.\n",
    "\n",
    "As mentioned, TypedDict and Dataclasses provide type hints but they don't enforce types at runtime.\n",
    "\n",
    "This means we can potentially provide invalid values without raising an error!\n",
    "\n",
    "Pydantic is well-suited for defining state schemas in LangGraph due to its robust validation capabilities.\n",
    "\n",
    "It runs checks whether data conforms to the specified types and constraints at runtime."
   ]
  },
  {
   "cell_type": "code",
   "execution_count": null,
   "metadata": {},
   "outputs": [],
   "source": []
  },
  {
   "cell_type": "code",
   "execution_count": null,
   "metadata": {},
   "outputs": [],
   "source": []
  },
  {
   "cell_type": "code",
   "execution_count": null,
   "metadata": {},
   "outputs": [],
   "source": []
  },
  {
   "cell_type": "code",
   "execution_count": null,
   "metadata": {},
   "outputs": [],
   "source": []
  },
  {
   "cell_type": "code",
   "execution_count": null,
   "metadata": {},
   "outputs": [],
   "source": []
  },
  {
   "cell_type": "code",
   "execution_count": null,
   "metadata": {},
   "outputs": [],
   "source": []
  },
  {
   "cell_type": "code",
   "execution_count": null,
   "metadata": {},
   "outputs": [],
   "source": []
  },
  {
   "cell_type": "code",
   "execution_count": null,
   "metadata": {},
   "outputs": [],
   "source": []
  },
  {
   "cell_type": "code",
   "execution_count": null,
   "metadata": {},
   "outputs": [],
   "source": []
  },
  {
   "cell_type": "code",
   "execution_count": null,
   "metadata": {},
   "outputs": [],
   "source": []
  },
  {
   "cell_type": "code",
   "execution_count": null,
   "metadata": {},
   "outputs": [],
   "source": []
  }
 ],
 "metadata": {
  "kernelspec": {
   "display_name": "ai-agent-langgraph-env",
   "language": "python",
   "name": "python3"
  },
  "language_info": {
   "codemirror_mode": {
    "name": "ipython",
    "version": 3
   },
   "file_extension": ".py",
   "mimetype": "text/x-python",
   "name": "python",
   "nbconvert_exporter": "python",
   "pygments_lexer": "ipython3",
   "version": "3.11.0"
  }
 },
 "nbformat": 4,
 "nbformat_minor": 2
}
