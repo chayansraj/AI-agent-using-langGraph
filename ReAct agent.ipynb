{
 "cells": [
  {
   "cell_type": "markdown",
   "metadata": {},
   "source": [
    "## Goal\n",
    "\n",
    "Build a ReAct architecture that takes feedback from the tool calls.\n",
    "- Use a prebuilt `ToolNode` and pass in the list of tools.\n",
    "- Use `tools_condition` edge to route the llm's output.\n",
    "- If the llm calls the tool, send the feedback to llm and repeat."
   ]
  },
  {
   "cell_type": "code",
   "execution_count": 2,
   "metadata": {},
   "outputs": [],
   "source": [
    "# general imports\n",
    "import sys\n",
    "import os, getpass\n",
    "from openai import OpenAI\n",
    "from utils import *\n",
    "from IPython.display import Image\n",
    "from pprint import pprint\n",
    "\n",
    "# Import langgraph modules to create and visualize the graph\n",
    "from langgraph.graph import StateGraph, START, END\n",
    "from langchain_core.messages import AIMessage, HumanMessage, SystemMessage \n",
    "from typing_extensions import TypedDict\n",
    "from typing import Literal\n",
    "from pydantic import BaseModel, Field\n",
    "\n",
    "# Install the missing package\n",
    "# %pip install langchain_anthropic\n",
    "# %pip install langchain_groq\n",
    "from langchain_groq import ChatGroq\n",
    "from langchain_anthropic import ChatAnthropic\n",
    "from langchain_core.tools import tool"
   ]
  },
  {
   "cell_type": "code",
   "execution_count": 3,
   "metadata": {},
   "outputs": [
    {
     "name": "stdout",
     "output_type": "stream",
     "text": [
      "API key found in .env file for GROQ_API_KEY\n",
      "API key found in .env file for ANTHROPIC_API_KEY\n"
     ]
    }
   ],
   "source": [
    "# Let's make sure we have the API key set\n",
    "load_dotenv()\n",
    "GROQ_API_KEY = set_api_key('GROQ_API_KEY')\n",
    "ANTHROPIC_API_KEY = set_api_key('ANTHROPIC_API_KEY')"
   ]
  },
  {
   "cell_type": "markdown",
   "metadata": {},
   "source": [
    "#### Messages\n",
    "\n",
    "Chat models can use `messages`, which captures different roles within a conversation (e.g., \"system\", \"human\", \"assistant\").\n",
    "Messages also feature one or more content blocks that contain text or potentially multimodal data (e.g., images, audio, video).\n",
    "\n",
    "<h5>Let's create a list of messages. Each message can be supplied with a few things:</h5>\n",
    "\n",
    "- `content` - content of the message\n",
    "- `name` - optionally, who is creating the message\n",
    "-  `response_metadata` - optionally, a dict of metadata that is oftern specific to each model provider"
   ]
  },
  {
   "cell_type": "code",
   "execution_count": 4,
   "metadata": {},
   "outputs": [],
   "source": [
    "\n",
    "messages = [AIMessage(content=f'So you wanted to know more starwars conception idea?', name = 'AI')]\n",
    "messages.extend([HumanMessage(content=f'Yes, I am interested in starwars', name = 'Human')])\n",
    "messages.extend([AIMessage(content=f'What do you want to know about starwars?', name = 'AI')])\n",
    "messages.extend([HumanMessage(content=f'What is the starwars universe?', name = 'Human')])\n"
   ]
  },
  {
   "cell_type": "code",
   "execution_count": 5,
   "metadata": {},
   "outputs": [
    {
     "name": "stdout",
     "output_type": "stream",
     "text": [
      "==================================\u001b[1m Ai Message \u001b[0m==================================\n",
      "Name: AI\n",
      "\n",
      "So you wanted to know more starwars conception idea?\n",
      "================================\u001b[1m Human Message \u001b[0m=================================\n",
      "Name: Human\n",
      "\n",
      "Yes, I am interested in starwars\n",
      "==================================\u001b[1m Ai Message \u001b[0m==================================\n",
      "Name: AI\n",
      "\n",
      "What do you want to know about starwars?\n",
      "================================\u001b[1m Human Message \u001b[0m=================================\n",
      "Name: Human\n",
      "\n",
      "What is the starwars universe?\n"
     ]
    }
   ],
   "source": [
    "for m in messages:\n",
    "    m.pretty_print()"
   ]
  },
  {
   "cell_type": "markdown",
   "metadata": {},
   "source": [
    "### Chat Models\n",
    "\n",
    "Chat models use a sequence of message as input and support message roles.\n",
    "\n",
    "There are many chat models available out there to choose from, in our case, we will use Groq.\n",
    "\n",
    "We can load the AI model and invoke it with our list of messages.\n"
   ]
  },
  {
   "cell_type": "code",
   "execution_count": 6,
   "metadata": {},
   "outputs": [],
   "source": [
    "ai = ChatGroq(model=\"llama-3.3-70b-versatile\", api_key=GROQ_API_KEY, temperature=0, max_retries=2)"
   ]
  },
  {
   "cell_type": "code",
   "execution_count": 7,
   "metadata": {},
   "outputs": [
    {
     "name": "stdout",
     "output_type": "stream",
     "text": [
      "==================================\u001b[1m Ai Message \u001b[0m==================================\n",
      "\n",
      "The Star Wars universe, also known as the Star Wars galaxy, is a vast, fictional universe created by George Lucas. It's a sprawling, epic space opera that spans thousands of years, numerous planets, and a wide range of alien species, technologies, and cultures.\n",
      "\n",
      "The Star Wars universe is set in a distant galaxy, where a variety of planets, star systems, and regions are connected by a network of trade routes, hyperspace lanes, and political alliances. The galaxy is home to numerous factions, including:\n",
      "\n",
      "1. **The Galactic Republic**: A democratic government that spans the galaxy, promoting peace, justice, and cooperation among its member worlds.\n",
      "2. **The Galactic Empire**: A tyrannical regime that rises from the ashes of the Republic, seeking to dominate and control the galaxy through fear, intimidation, and military might.\n",
      "3. **The Rebel Alliance**: A coalition of planets and factions that resist Imperial rule, fighting for freedom, democracy, and the restoration of the Republic.\n",
      "4. **The First Order**: A new, evil force that emerges from the remnants of the Empire, seeking to destroy the Republic and rule the galaxy.\n",
      "\n",
      "The Star Wars universe is populated by a diverse array of characters, including:\n",
      "\n",
      "* **Humans**: The dominant species in the galaxy, with a wide range of cultures, societies, and occupations.\n",
      "* **Alien species**: Hundreds of unique, intelligent species, such as Wookiees, Rodians, Twi'leks, and many others, each with their own biology, culture, and history.\n",
      "* **Droids**: Artificially intelligent robots, like C-3PO and R2-D2, that play important roles in the galaxy.\n",
      "* **Jedi** and **Sith**: Powerful, ancient orders of warriors who wield the mystical energy known as the Force, using it for good or evil.\n",
      "\n",
      "The Star Wars universe is also home to a wide range of technologies, including:\n",
      "\n",
      "* **Hyperspace**: A method of faster-than-light travel that allows ships to traverse vast distances in a short period.\n",
      "* **Lightsabers**: Energy swords used by Jedi and Sith for combat and self-defense.\n",
      "* **Blasters**: Energy weapons used by various factions for combat and hunting.\n",
      "* **Starships**: A wide range of vessels, from small fighters to massive capital ships, used for transportation, commerce, and warfare.\n",
      "\n",
      "The Star Wars universe is rich in history, with a complex, epic narrative that spans thousands of years, including:\n",
      "\n",
      "* **The Old Republic**: A ancient era of galactic history, marked by the rise and fall of great civilizations.\n",
      "* **The High Republic**: A period of peace and prosperity, marked by the formation of the Galactic Republic.\n",
      "* **The Fall of the Jedi**: A catastrophic event that leads to the rise of the Empire and the downfall of the Jedi Order.\n",
      "* **The Original Trilogy**: The classic story of Luke Skywalker, Han Solo, and the Rebel Alliance's fight against the Empire.\n",
      "* **The Prequel Trilogy**: The story of Anakin Skywalker, Obi-Wan Kenobi, and the fall of the Galactic Republic.\n",
      "* **The Sequel Trilogy**: The story of Rey, Finn, and the Resistance's fight against the First Order.\n",
      "\n",
      "This is just a brief overview of the Star Wars universe. There's much more to explore, and I'm happy to delve deeper into any aspect that interests you!\n"
     ]
    }
   ],
   "source": [
    "result = ai.invoke(messages)\n",
    "result.pretty_print()"
   ]
  },
  {
   "cell_type": "code",
   "execution_count": 74,
   "metadata": {},
   "outputs": [
    {
     "data": {
      "text/plain": [
       "{'token_usage': {'completion_tokens': 526,\n",
       "  'prompt_tokens': 90,\n",
       "  'total_tokens': 616,\n",
       "  'completion_time': 1.912727273,\n",
       "  'prompt_time': 0.006402538,\n",
       "  'queue_time': 0.232141683,\n",
       "  'total_time': 1.919129811},\n",
       " 'model_name': 'llama-3.3-70b-versatile',\n",
       " 'system_fingerprint': 'fp_e669a124b2',\n",
       " 'finish_reason': 'stop',\n",
       " 'logprobs': None}"
      ]
     },
     "execution_count": 74,
     "metadata": {},
     "output_type": "execute_result"
    }
   ],
   "source": [
    "result.response_metadata"
   ]
  },
  {
   "cell_type": "code",
   "execution_count": 8,
   "metadata": {},
   "outputs": [
    {
     "name": "stdout",
     "output_type": "stream",
     "text": [
      "============================\u001b[1m Aimessagechunk Message \u001b[0m============================\n",
      "\n",
      "The Star Wars universe, also known as the Star Wars galaxy, is a vast, fictional universe created by George Lucas. It's a sprawling, epic space opera that spans thousands of years, numerous planets, and a wide range of alien species, technologies, and cultures.\n",
      "\n",
      "The Star Wars universe is set in a distant galaxy, where a variety of planets, star systems, and regions are connected by a network of trade routes, hyperspace lanes, and political alliances. The galaxy is home to numerous factions, including:\n",
      "\n",
      "1. **The Galactic Republic**: A democratic government that spans the galaxy, promoting peace, justice, and cooperation among its member worlds.\n",
      "2. **The Galactic Empire**: A tyrannical regime that rises from the ashes of the Republic, seeking to dominate and control the galaxy through fear, intimidation, and military might.\n",
      "3. **The Rebel Alliance**: A coalition of planets and factions that resist Imperial rule, fighting for freedom, democracy, and the restoration of the Republic.\n",
      "4. **The First Order**: A new, evil force that emerges from the remnants of the Empire, seeking to destroy the Republic and rule the galaxy.\n",
      "\n",
      "The Star Wars universe is populated by a diverse array of characters, including:\n",
      "\n",
      "* **Humans**: The dominant species in the galaxy, with a wide range of cultures, societies, and occupations.\n",
      "* **Alien species**: Hundreds of unique, intelligent species, such as Wookiees, Rodians, Twi'leks, and many others, each with their own biology, culture, and history.\n",
      "* **Droids**: Artificially intelligent robots, like C-3PO and R2-D2, that play important roles in the galaxy.\n",
      "* **Jedi** and **Sith**: Powerful, ancient orders of warriors who wield the mystical energy known as the Force, using it for good or evil.\n",
      "\n",
      "The Star Wars universe is also home to a wide range of technologies, including:\n",
      "\n",
      "* **Hyperspace**: A method of faster-than-light travel that allows ships to traverse vast distances in a short period.\n",
      "* **Lightsabers**: Energy swords used by Jedi and Sith for combat and self-defense.\n",
      "* **Blasters**: Energy weapons used by various factions for combat and hunting.\n",
      "* **Starships**: A wide range of vessels, from small fighters to massive capital ships, used for transportation, commerce, and warfare.\n",
      "\n",
      "The Star Wars universe is rich in history, with a complex, epic narrative that spans thousands of years, including:\n",
      "\n",
      "* **The Old Republic**: A ancient era of galactic history, marked by the rise and fall of great civilizations.\n",
      "* **The High Republic**: A period of peace and prosperity, marked by the formation of the Galactic Republic.\n",
      "* **The Fall of the Jedi**: A catastrophic event that leads to the rise of the Empire and the downfall of the Jedi Order.\n",
      "* **The Original Trilogy**: The classic story of Luke Skywalker, Han Solo, and the Rebel Alliance's fight against the Empire.\n",
      "* **The Prequel Trilogy**: The story of Anakin Skywalker, Obi-Wan Kenobi, and the fall of the Galactic Republic.\n",
      "* **The Sequel Trilogy**: The story of Rey, Finn, and the Resistance's fight against the First Order.\n",
      "\n",
      "This is just a brief overview of the Star Wars universe. There's much more to explore, and I'm happy to delve deeper into any aspect that interests you!\n"
     ]
    }
   ],
   "source": [
    "stream = ai.stream(messages)\n",
    "full = next(stream)\n",
    "for chunk in stream:\n",
    "    full += chunk\n",
    "full.pretty_print()"
   ]
  },
  {
   "cell_type": "markdown",
   "metadata": {},
   "source": [
    "<h4> Tools </h4>\n",
    "\n",
    "Tools are an additional capability provided to LLMs that can be used to interact with outside world.\n",
    "\n",
    "It could be leveraged to control different parts of the code, call an external API, interact with database, trigger a lambda function, etc.\n",
    "\n",
    "Tools can be as simple as Python functions or as complex as integrating LLM with RAG for real time analysis."
   ]
  },
  {
   "cell_type": "code",
   "execution_count": 43,
   "metadata": {},
   "outputs": [],
   "source": [
    "@tool\n",
    "def get_weather(location: str):\n",
    "    \"\"\"Call to get the current weather.\"\"\"\n",
    "    if location.lower() in [\"sf\", \"san francisco\"]:\n",
    "        return \"It's 60 degrees and foggy.\"\n",
    "    else:\n",
    "        return \"It's 90 degrees and sunny.\"\n",
    "\n",
    "\n",
    "@tool\n",
    "def get_coolest_cities():\n",
    "    \"\"\"Get a list of coolest cities\"\"\"\n",
    "    return \"sf, nyc\""
   ]
  },
  {
   "cell_type": "code",
   "execution_count": 44,
   "metadata": {},
   "outputs": [],
   "source": [
    "ai_tools = ai.bind_tools([get_weather, get_coolest_cities])"
   ]
  },
  {
   "cell_type": "code",
   "execution_count": 26,
   "metadata": {},
   "outputs": [],
   "source": [
    "tool_call = ai_tools.invoke([HumanMessage(content='What\"s the weather in SF?', name='Human')])"
   ]
  },
  {
   "cell_type": "code",
   "execution_count": 27,
   "metadata": {},
   "outputs": [
    {
     "data": {
      "text/plain": [
       "AIMessage(content='', additional_kwargs={'tool_calls': [{'id': 'call_zqp8', 'function': {'arguments': '{\"location\": \"San Francisco\"}', 'name': 'get_weather'}, 'type': 'function'}]}, response_metadata={'token_usage': {'completion_tokens': 15, 'prompt_tokens': 267, 'total_tokens': 282, 'completion_time': 0.054545455, 'prompt_time': 0.01397054, 'queue_time': 0.236006884, 'total_time': 0.068515995}, 'model_name': 'llama-3.3-70b-versatile', 'system_fingerprint': 'fp_2ca0059abb', 'finish_reason': 'tool_calls', 'logprobs': None}, id='run-3a6c33b1-a027-4acc-bb65-f6571e9b6183-0', tool_calls=[{'name': 'get_weather', 'args': {'location': 'San Francisco'}, 'id': 'call_zqp8', 'type': 'tool_call'}], usage_metadata={'input_tokens': 267, 'output_tokens': 15, 'total_tokens': 282})"
      ]
     },
     "execution_count": 27,
     "metadata": {},
     "output_type": "execute_result"
    }
   ],
   "source": [
    "tool_call"
   ]
  },
  {
   "cell_type": "markdown",
   "metadata": {},
   "source": [
    "<h5>ToolNode</h5>\n",
    "\n",
    "It is basically a LangChain Runnable that takes graph state (with a list of messages) as input and outputs state update with the result of tool calls. \n",
    "\n",
    "The state must have `messages` channel with an appropriate reducer for ToolNode to work. Multiple tools can be passed to this node.\n",
    "\n",
    "There are two ways to call `ToolNode` i.e Either manually using an AIMessage or use a ChatModel with bind tools to call ToolNode\n",
    "\n",
    "If triggered manually, the last AIMessage must contain the `tool_calls` parameter to determine which tool to call. \n",
    "\n",
    "If the input is coming from ChatModel, that already contains the `tool_calls` parameter."
   ]
  },
  {
   "cell_type": "code",
   "execution_count": 16,
   "metadata": {},
   "outputs": [],
   "source": [
    "from typing import Annotated\n",
    "from langchain_core.messages import AnyMessage\n",
    "from langgraph.graph.message import add_messages\n",
    "\n",
    "class MessagesState(TypedDict):\n",
    "    messages: Annotated[list[AnyMessage], add_messages]"
   ]
  },
  {
   "cell_type": "code",
   "execution_count": 17,
   "metadata": {},
   "outputs": [
    {
     "data": {
      "text/plain": [
       "[AIMessage(content='Hello, I am a calculator assistant. I can help you with mathematical operations.', additional_kwargs={}, response_metadata={}, name='AI', id='44bdbaef-91b6-4b37-9615-e4b274ad3583'),\n",
       " HumanMessage(content='I am looking for information on how to perform exponentiation', additional_kwargs={}, response_metadata={}, name='Human', id='27cb371b-7e94-4121-a9cf-7906de708ada'),\n",
       " AIMessage(content='I can help you with that. What is the base number and the exponent number?', additional_kwargs={}, response_metadata={}, name='AI', id='b5098d76-665c-4ea1-8d86-19f13474a034')]"
      ]
     },
     "execution_count": 17,
     "metadata": {},
     "output_type": "execute_result"
    }
   ],
   "source": [
    "# Let's define an initial state with an initial message\n",
    "initial_messages= [AIMessage(content='Hello, I am a calculator assistant. I can help you with mathematical operations.', name='AI'),\n",
    "                   HumanMessage(content='I am looking for information on how to perform exponentiation', name='Human')]\n",
    "\n",
    "# New message to add\n",
    "new_message = AIMessage(content='I can help you with that. What is the base number and the exponent number?', name='AI')\n",
    "\n",
    "# test \n",
    "add_messages(initial_messages, new_message)"
   ]
  },
  {
   "cell_type": "code",
   "execution_count": 46,
   "metadata": {},
   "outputs": [
    {
     "data": {
      "image/png": "[encoded data removed]",
      "text/plain": [
       "<IPython.core.display.Image object>"
      ]
     },
     "metadata": {},
     "output_type": "display_data"
    }
   ],
   "source": [
    "# Since this message update is so common, Langgraph has prebuilt MessagesState\n",
    "from langgraph.graph import MessagesState # MessagesState and State work equivalently\n",
    "from langgraph.prebuilt import ToolNode\n",
    "from langgraph.prebuilt import tools_condition\n",
    "# Let's build our graph\n",
    "\n",
    "class MessagesState(MessagesState):\n",
    "    messages: Annotated[list[AnyMessage], add_messages] # we need to add this line to the class to make it a Pydantic model\n",
    "\n",
    "def should_continue(state: MessagesState):\n",
    "    messages = state[\"messages\"]\n",
    "    if messages[-1].tool_calls:\n",
    "        return 'tools'\n",
    "    return END\n",
    "\n",
    "# node function\n",
    "def model_with_tools(state: MessagesState):\n",
    "    return {\"messages\": [ai_tools.invoke(state[\"messages\"])]} # invoke the tool_calling_ai tool\n",
    "\n",
    "tool_node =ToolNode([get_weather, get_coolest_cities])\n",
    "# build graph\n",
    "builder = StateGraph(MessagesState)\n",
    "builder.add_node('agent', model_with_tools)\n",
    "builder.add_node('tools', tool_node)\n",
    "builder.add_edge(START, 'agent')\n",
    "builder.add_conditional_edges('agent', should_continue, ['tools', END])\n",
    "builder.add_edge('tools', 'agent')\n",
    "# builder.add_edge('agent', END)\n",
    "\n",
    "app = builder.compile()\n",
    "\n",
    "display(Image(app.get_graph().draw_mermaid_png()))"
   ]
  },
  {
   "cell_type": "code",
   "execution_count": null,
   "metadata": {},
   "outputs": [
    {
     "data": {
      "text/plain": [
       "{'messages': [HumanMessage(content='Hello!', additional_kwargs={}, response_metadata={}, id='c354f14f-3ee5-43a7-989a-5baa6b265dde'),\n",
       "  AIMessage(content='Hello! Is there something I can help you with, or would you like to know the current weather or the coolest cities?', additional_kwargs={}, response_metadata={'token_usage': {'completion_tokens': 26, 'prompt_tokens': 262, 'total_tokens': 288, 'completion_time': 0.094545455, 'prompt_time': 0.015309591, 'queue_time': 0.264442325, 'total_time': 0.109855046}, 'model_name': 'llama-3.3-70b-versatile', 'system_fingerprint': 'fp_7b42aeb9fa', 'finish_reason': 'stop', 'logprobs': None}, id='run-d5dcfd08-1c05-4ab4-97e4-fd562fa2f731-0', usage_metadata={'input_tokens': 262, 'output_tokens': 26, 'total_tokens': 288})]}"
      ]
     },
     "execution_count": 35,
     "metadata": {},
     "output_type": "execute_result"
    }
   ],
   "source": [
    "message_invoke = app.invoke({\"messages\" : HumanMessage(content='Hello!')} )\n",
    "message_invoke"
   ]
  },
  {
   "cell_type": "code",
   "execution_count": null,
   "metadata": {},
   "outputs": [
    {
     "data": {
      "text/plain": [
       "{'messages': [HumanMessage(content='You are a weather assitant who has all the tools for answering queries about the weather. Use those tools and use the tools no more than 3 times and tell What\"s the weather in sf?', additional_kwargs={}, response_metadata={}, id='c100fcbb-0ca7-4dc9-959b-ba92206c5938'),\n",
       "  AIMessage(content='', additional_kwargs={'tool_calls': [{'id': 'call_7fj2', 'function': {'arguments': '{\"location\": \"San Francisco\"}', 'name': 'get_weather'}, 'type': 'function'}]}, response_metadata={'token_usage': {'completion_tokens': 15, 'prompt_tokens': 300, 'total_tokens': 315, 'completion_time': 0.054545455, 'prompt_time': 0.015596899, 'queue_time': 0.298022014, 'total_time': 0.070142354}, 'model_name': 'llama-3.3-70b-versatile', 'system_fingerprint': 'fp_7b42aeb9fa', 'finish_reason': 'tool_calls', 'logprobs': None}, id='run-383ea1e2-bbbc-4b7d-b9bf-1685589a8bc6-0', tool_calls=[{'name': 'get_weather', 'args': {'location': 'San Francisco'}, 'id': 'call_7fj2', 'type': 'tool_call'}], usage_metadata={'input_tokens': 300, 'output_tokens': 15, 'total_tokens': 315}),\n",
       "  ToolMessage(content=\"It's 60 degrees and foggy.\", name='get_weather', id='57a2e8b4-c723-4608-affe-cba36279b55a', tool_call_id='call_7fj2'),\n",
       "  AIMessage(content='The current weather in San Francisco is 60 degrees and foggy.', additional_kwargs={}, response_metadata={'token_usage': {'completion_tokens': 15, 'prompt_tokens': 334, 'total_tokens': 349, 'completion_time': 0.057203758, 'prompt_time': 0.016277207, 'queue_time': 0.223874808, 'total_time': 0.073480965}, 'model_name': 'llama-3.3-70b-versatile', 'system_fingerprint': 'fp_2ca0059abb', 'finish_reason': 'stop', 'logprobs': None}, id='run-6eb02ea4-786e-45f1-befa-512d852f49b6-0', usage_metadata={'input_tokens': 334, 'output_tokens': 15, 'total_tokens': 349})]}"
      ]
     },
     "execution_count": 36,
     "metadata": {},
     "output_type": "execute_result"
    }
   ],
   "source": [
    "message_invoke = app.invoke({\"messages\" :HumanMessage(content = 'You are a weather assitant who has all the tools for answering queries about the weather. Use those tools and use the tools no more than 3 times and tell What\"s the weather in sf?')} )\n",
    "message_invoke"
   ]
  },
  {
   "cell_type": "code",
   "execution_count": null,
   "metadata": {},
   "outputs": [
    {
     "data": {
      "text/plain": [
       "{'messages': [HumanMessage(content='You are a weather assitant who has all the tools for answering queries about the weather. Use those tools no more than 3 times and tell me What\"s the weather in the coolest cities?', additional_kwargs={}, response_metadata={}, id='ab0c8f83-98cf-4ab3-9d81-56020d271206'),\n",
       "  AIMessage(content='', additional_kwargs={'tool_calls': [{'id': 'call_a08q', 'function': {'arguments': '{}', 'name': 'get_coolest_cities'}, 'type': 'function'}, {'id': 'call_m6ja', 'function': {'arguments': '{\"location\": \"First coolest city\"}', 'name': 'get_weather'}, 'type': 'function'}, {'id': 'call_vfsn', 'function': {'arguments': '{\"location\": \"Second coolest city\"}', 'name': 'get_weather'}, 'type': 'function'}]}, response_metadata={'token_usage': {'completion_tokens': 42, 'prompt_tokens': 597, 'total_tokens': 639, 'completion_time': 0.152727273, 'prompt_time': 0.030382115, 'queue_time': -0.17712026600000003, 'total_time': 0.183109388}, 'model_name': 'llama-3.3-70b-versatile', 'system_fingerprint': 'fp_7b42aeb9fa', 'finish_reason': 'tool_calls', 'logprobs': None}, id='run-63d90326-038f-4c5b-ba9e-2266a91e826d-0', tool_calls=[{'name': 'get_coolest_cities', 'args': {}, 'id': 'call_a08q', 'type': 'tool_call'}, {'name': 'get_weather', 'args': {'location': 'First coolest city'}, 'id': 'call_m6ja', 'type': 'tool_call'}, {'name': 'get_weather', 'args': {'location': 'Second coolest city'}, 'id': 'call_vfsn', 'type': 'tool_call'}], usage_metadata={'input_tokens': 597, 'output_tokens': 42, 'total_tokens': 639}),\n",
       "  ToolMessage(content='nyc, sf', name='get_coolest_cities', id='2bb8e327-8f40-46ff-bddc-dd81b595b11d', tool_call_id='call_a08q'),\n",
       "  ToolMessage(content=\"It's 90 degrees and sunny.\", name='get_weather', id='418dd207-3504-4b6c-8388-3f68959c9b78', tool_call_id='call_m6ja'),\n",
       "  ToolMessage(content=\"It's 90 degrees and sunny.\", name='get_weather', id='cc7da3ee-57e1-4254-83aa-93f981223e8b', tool_call_id='call_vfsn'),\n",
       "  AIMessage(content='The weather in the coolest cities, which are New York City and San Francisco, is 90 degrees and sunny.', additional_kwargs={}, response_metadata={'token_usage': {'completion_tokens': 24, 'prompt_tokens': 383, 'total_tokens': 407, 'completion_time': 0.087272727, 'prompt_time': 0.020160743, 'queue_time': 0.285972857, 'total_time': 0.10743347}, 'model_name': 'llama-3.3-70b-versatile', 'system_fingerprint': 'fp_2ca0059abb', 'finish_reason': 'stop', 'logprobs': None}, id='run-b1cad7ae-1e57-4335-8bad-e8f169d6849c-0', usage_metadata={'input_tokens': 383, 'output_tokens': 24, 'total_tokens': 407})]}"
      ]
     },
     "execution_count": 37,
     "metadata": {},
     "output_type": "execute_result"
    }
   ],
   "source": [
    "message_invoke = app.invoke({\"messages\" :HumanMessage(content = 'You are a weather assitant who has all the tools for answering queries about the weather. Use those tools no more than 3 times and tell me What\"s the weather in the coolest cities?')} )\n",
    "message_invoke"
   ]
  },
  {
   "cell_type": "code",
   "execution_count": 47,
   "metadata": {},
   "outputs": [
    {
     "name": "stdout",
     "output_type": "stream",
     "text": [
      "================================\u001b[1m Human Message \u001b[0m=================================\n",
      "\n",
      "You are a weather assitant who has all the tools for answering queries about the weather.                                                     Use those tools no more than 3 times and tell me What\"s the weather in sf?\n",
      "==================================\u001b[1m Ai Message \u001b[0m==================================\n",
      "Tool Calls:\n",
      "  get_weather (call_5383)\n",
      " Call ID: call_5383\n",
      "  Args:\n",
      "    location: San Francisco\n",
      "=================================\u001b[1m Tool Message \u001b[0m=================================\n",
      "Name: get_weather\n",
      "\n",
      "It's 60 degrees and foggy.\n",
      "==================================\u001b[1m Ai Message \u001b[0m==================================\n",
      "\n",
      "The current weather in San Francisco is 60 degrees and foggy.\n"
     ]
    }
   ],
   "source": [
    "for chunk in app.stream({\"messages\" :HumanMessage(content = 'You are a weather assitant who has all the tools for answering queries about the weather.\\\n",
    "                                                     Use those tools no more than 3 times and tell me What\"s the weather in sf?')}, stream_mode = 'values' ):\n",
    "    chunk[\"messages\"][-1].pretty_print()"
   ]
  },
  {
   "cell_type": "code",
   "execution_count": 48,
   "metadata": {},
   "outputs": [
    {
     "name": "stdout",
     "output_type": "stream",
     "text": [
      "================================\u001b[1m Human Message \u001b[0m=================================\n",
      "\n",
      "You are a weather assitant who has all the tools for answering queries about the weather.                                                     Use those tools no more than 3 times and tell me What\"s the weather in the coolest cities?\n",
      "==================================\u001b[1m Ai Message \u001b[0m==================================\n",
      "Tool Calls:\n",
      "  get_coolest_cities (call_434z)\n",
      " Call ID: call_434z\n",
      "  Args:\n",
      "  get_weather (call_n3ym)\n",
      " Call ID: call_n3ym\n",
      "  Args:\n",
      "    location: coolest city\n",
      "  get_weather (call_c327)\n",
      " Call ID: call_c327\n",
      "  Args:\n",
      "    location: coolest city\n",
      "=================================\u001b[1m Tool Message \u001b[0m=================================\n",
      "Name: get_weather\n",
      "\n",
      "It's 90 degrees and sunny.\n",
      "==================================\u001b[1m Ai Message \u001b[0m==================================\n",
      "Tool Calls:\n",
      "  get_weather (call_szpx)\n",
      " Call ID: call_szpx\n",
      "  Args:\n",
      "    location: San Francisco\n",
      "=================================\u001b[1m Tool Message \u001b[0m=================================\n",
      "Name: get_weather\n",
      "\n",
      "It's 60 degrees and foggy.\n",
      "==================================\u001b[1m Ai Message \u001b[0m==================================\n",
      "\n",
      "The weather in the coolest cities is 60 degrees and foggy in San Francisco, and 90 degrees and sunny in New York City.\n"
     ]
    }
   ],
   "source": [
    "for chunk in app.stream({\"messages\" :HumanMessage(content = 'You are a weather assitant who has all the tools for answering queries about the weather.\\\n",
    "                                                     Use those tools no more than 3 times and tell me What\"s the weather in the coolest cities?')}, stream_mode = 'values' ):\n",
    "    chunk[\"messages\"][-1].pretty_print()"
   ]
  },
  {
   "cell_type": "markdown",
   "metadata": {},
   "source": [
    "We can see here the model is not that smart to understand that get_coolest_cities has 'nyc','sf' as arguments, instead the model used the argument as 'location':'coolest city' with AI sending the call to tool.\n",
    "\n",
    "If we don't explicitly tell the model to not iterate more than 3 times, it goes into graph recursion error, which is dangerous because each call to the model consumes your API calls. "
   ]
  },
  {
   "cell_type": "markdown",
   "metadata": {},
   "source": []
  }
 ],
 "metadata": {
  "kernelspec": {
   "display_name": "ai-agent-langgraph-env",
   "language": "python",
   "name": "python3"
  },
  "language_info": {
   "codemirror_mode": {
    "name": "ipython",
    "version": 3
   },
   "file_extension": ".py",
   "mimetype": "text/x-python",
   "name": "python",
   "nbconvert_exporter": "python",
   "pygments_lexer": "ipython3",
   "version": "3.11.0"
  }
 },
 "nbformat": 4,
 "nbformat_minor": 2
}
