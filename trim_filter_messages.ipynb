{
 "cells": [
  {
   "cell_type": "markdown",
   "metadata": {},
   "source": [
    "## Review\n",
    "\n",
    "Now, we have some understanding of a few things:\n",
    "\n",
    "- How to customize the graph state schema\n",
    "- How to define custom state reducers\n",
    "- How to use multiple graph state schemas\n",
    "\n",
    "## Goals\n",
    "\n",
    "- We build a chatbot that has long-term memory.\n",
    "- use advanced techniques to to work with messages."
   ]
  },
  {
   "cell_type": "code",
   "execution_count": 1,
   "metadata": {},
   "outputs": [],
   "source": [
    "# general imports\n",
    "import sys\n",
    "import os, getpass\n",
    "from openai import OpenAI\n",
    "from utils import *\n",
    "from IPython.display import Image\n",
    "from pprint import pprint\n",
    "\n",
    "# Import langgraph modules to create and visualize the graph\n",
    "from langgraph.graph import StateGraph, START, END\n",
    "from langchain_core.messages import AIMessage, HumanMessage, SystemMessage \n",
    "from typing_extensions import TypedDict\n",
    "from typing import Literal\n",
    "from pydantic import BaseModel, Field\n",
    "\n",
    "# Install the missing package\n",
    "# %pip install langchain_anthropic\n",
    "# %pip install langchain_groq\n",
    "from langchain_groq import ChatGroq\n",
    "from langchain_anthropic import ChatAnthropic\n",
    "from langchain_core.tools import tool"
   ]
  },
  {
   "cell_type": "code",
   "execution_count": 4,
   "metadata": {},
   "outputs": [],
   "source": [
    "messages = [AIMessage(f'So you said you were researching about Hindu mythology Ramayana.', name='AI')]\n",
    "messages.append(HumanMessage(f'Yes, I am researching about Hindu mythology Ramayana. But I also want to understand the time it happened and what was its significance.', name='Human'))"
   ]
  },
  {
   "cell_type": "code",
   "execution_count": 3,
   "metadata": {},
   "outputs": [
    {
     "name": "stdout",
     "output_type": "stream",
     "text": [
      "API key found in .env file for GROQ_API_KEY\n",
      "API key found in .env file for ANTHROPIC_API_KEY\n"
     ]
    }
   ],
   "source": [
    "# Let's make sure we have the API key set\n",
    "load_dotenv()\n",
    "GROQ_API_KEY = set_api_key('GROQ_API_KEY')\n",
    "ANTHROPIC_API_KEY = set_api_key('ANTHROPIC_API_KEY')"
   ]
  },
  {
   "cell_type": "code",
   "execution_count": 5,
   "metadata": {},
   "outputs": [],
   "source": [
    "ai = ChatGroq(model=\"llama-3.3-70b-versatile\", api_key=GROQ_API_KEY, temperature=0, max_retries=2)"
   ]
  },
  {
   "cell_type": "code",
   "execution_count": 6,
   "metadata": {},
   "outputs": [
    {
     "name": "stdout",
     "output_type": "stream",
     "text": [
      "==================================\u001b[1m Ai Message \u001b[0m==================================\n",
      "\n",
      "The Ramayana is an ancient Indian epic that has been a significant part of Hindu mythology for centuries. The story revolves around the life of Lord Rama, a king of Ayodhya, and his journey to rescue his wife Sita from the clutches of the demon king Ravana.\n",
      "\n",
      "**Time Period:**\n",
      "The exact time period of the Ramayana is not known, but it is believed to have occurred during the Treta Yuga, which is the second of the four yugas (ages) in Hindu mythology. According to traditional Hindu accounts, the Treta Yuga lasted from approximately 1,296,000 BCE to 867,000 BCE. However, most historians and scholars believe that the Ramayana is a work of fiction that was composed between 500 BCE to 100 BCE.\n",
      "\n",
      "**Significance:**\n",
      "The Ramayana has immense significance in Hindu mythology and Indian culture. It is considered one of the most important epics in Hinduism, along with the Mahabharata. The story of the Ramayana has been passed down for generations and has had a profound impact on Indian society, culture, and philosophy.\n",
      "\n",
      "Some of the key significance of the Ramayana include:\n",
      "\n",
      "1. **Dharma:** The Ramayana is a story about the struggle between good and evil, with Lord Rama representing the ideal of dharma (duty, righteousness, and morality). The epic teaches us about the importance of following one's duty and upholding righteousness, even in the face of adversity.\n",
      "2. **Family Values:** The Ramayana emphasizes the importance of family values, such as loyalty, duty, and respect for elders. The story highlights the strong bond between Lord Rama and his brother Lakshmana, as well as the devotion of Sita to her husband.\n",
      "3. **Social Hierarchy:** The Ramayana reflects the social hierarchy of ancient India, with the king and the nobility at the top and the lower castes at the bottom. However, the epic also challenges this hierarchy by portraying characters like Hanuman, a monkey god, who rises above his social status to become a hero.\n",
      "4. **Spiritual Significance:** The Ramayana has deep spiritual significance, with Lord Rama representing the divine and Sita representing the soul. The story is often seen as an allegory for the journey of the soul towards self-realization and liberation.\n",
      "\n",
      "**Influence on Indian Culture:**\n",
      "The Ramayana has had a profound impact on Indian culture, influencing art, literature, music, and film. The epic has been translated into many languages and has inspired countless adaptations, including plays, ballets, and movies. The story of the Ramayana is still widely celebrated and retold in India, with the festival of Diwali (the festival of lights) commemorating Lord Rama's return to Ayodhya after his victory over Ravana.\n",
      "\n",
      "I hope this gives you a good overview of the Ramayana and its significance! Do you have any specific questions or aspects you'd like to explore further?\n"
     ]
    }
   ],
   "source": [
    "result = ai.invoke(messages)\n",
    "result.pretty_print()"
   ]
  },
  {
   "cell_type": "code",
   "execution_count": null,
   "metadata": {},
   "outputs": [],
   "source": []
  },
  {
   "cell_type": "code",
   "execution_count": null,
   "metadata": {},
   "outputs": [],
   "source": []
  },
  {
   "cell_type": "code",
   "execution_count": null,
   "metadata": {},
   "outputs": [],
   "source": []
  }
 ],
 "metadata": {
  "kernelspec": {
   "display_name": "ai-agent-langgraph-env",
   "language": "python",
   "name": "python3"
  },
  "language_info": {
   "codemirror_mode": {
    "name": "ipython",
    "version": 3
   },
   "file_extension": ".py",
   "mimetype": "text/x-python",
   "name": "python",
   "nbconvert_exporter": "python",
   "pygments_lexer": "ipython3",
   "version": "3.11.0"
  }
 },
 "nbformat": 4,
 "nbformat_minor": 2
}
