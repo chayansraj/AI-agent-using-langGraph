{
 "cells": [
  {
   "cell_type": "markdown",
   "metadata": {},
   "source": [
    "## Review\n",
    "\n",
    "Now, we have some understanding of a few things:\n",
    "\n",
    "- How to customize the graph state schema\n",
    "- How to define custom state reducers\n",
    "- How to use multiple graph state schemas\n",
    "\n",
    "## Goals\n",
    "\n",
    "- We build a chatbot that has long-term memory.\n",
    "- use advanced techniques to to work with messages."
   ]
  },
  {
   "cell_type": "code",
   "execution_count": 1,
   "metadata": {},
   "outputs": [],
   "source": [
    "# general imports\n",
    "import sys\n",
    "import os, getpass\n",
    "from openai import OpenAI\n",
    "from utils import *\n",
    "from IPython.display import Image\n",
    "from pprint import pprint\n",
    "\n",
    "# Import langgraph modules to create and visualize the graph\n",
    "from langgraph.graph import StateGraph, START, END\n",
    "from langchain_core.messages import AIMessage, HumanMessage, SystemMessage \n",
    "from typing_extensions import TypedDict\n",
    "from typing import Literal\n",
    "from pydantic import BaseModel, Field\n",
    "\n",
    "# Install the missing package\n",
    "# %pip install langchain_anthropic\n",
    "# %pip install langchain_groq\n",
    "from langchain_groq import ChatGroq\n",
    "from langchain_anthropic import ChatAnthropic\n",
    "from langchain_core.tools import tool"
   ]
  },
  {
   "cell_type": "code",
   "execution_count": 4,
   "metadata": {},
   "outputs": [],
   "source": [
    "messages = [AIMessage(f'So you said you were researching about Hindu mythology Ramayana.', name='AI')]\n",
    "messages.append(HumanMessage(f'Yes, I am researching about Hindu mythology Ramayana. But I also want to understand the time it happened and what was its significance.', name='Human'))"
   ]
  },
  {
   "cell_type": "code",
   "execution_count": 3,
   "metadata": {},
   "outputs": [
    {
     "name": "stdout",
     "output_type": "stream",
     "text": [
      "API key found in .env file for GROQ_API_KEY\n",
      "API key found in .env file for ANTHROPIC_API_KEY\n"
     ]
    }
   ],
   "source": [
    "# Let's make sure we have the API key set\n",
    "load_dotenv()\n",
    "GROQ_API_KEY = set_api_key('GROQ_API_KEY')\n",
    "ANTHROPIC_API_KEY = set_api_key('ANTHROPIC_API_KEY')"
   ]
  },
  {
   "cell_type": "code",
   "execution_count": null,
   "metadata": {},
   "outputs": [],
   "source": []
  },
  {
   "cell_type": "code",
   "execution_count": null,
   "metadata": {},
   "outputs": [],
   "source": []
  },
  {
   "cell_type": "code",
   "execution_count": null,
   "metadata": {},
   "outputs": [],
   "source": []
  },
  {
   "cell_type": "code",
   "execution_count": null,
   "metadata": {},
   "outputs": [],
   "source": []
  },
  {
   "cell_type": "code",
   "execution_count": null,
   "metadata": {},
   "outputs": [],
   "source": []
  }
 ],
 "metadata": {
  "kernelspec": {
   "display_name": "ai-agent-langgraph-env",
   "language": "python",
   "name": "python3"
  },
  "language_info": {
   "codemirror_mode": {
    "name": "ipython",
    "version": 3
   },
   "file_extension": ".py",
   "mimetype": "text/x-python",
   "name": "python",
   "nbconvert_exporter": "python",
   "pygments_lexer": "ipython3",
   "version": "3.11.0"
  }
 },
 "nbformat": 4,
 "nbformat_minor": 2
}
