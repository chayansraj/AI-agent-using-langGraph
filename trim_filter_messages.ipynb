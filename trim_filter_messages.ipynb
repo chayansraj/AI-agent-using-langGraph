{
 "cells": [
  {
   "cell_type": "markdown",
   "metadata": {},
   "source": [
    "## Review\n",
    "\n",
    "Now, we have some understanding of a few things:\n",
    "\n",
    "- How to customize the graph state schema\n",
    "- How to define custom state reducers\n",
    "- How to use multiple graph state schemas\n",
    "\n",
    "## Goals\n",
    "\n",
    "- We build a chatbot that has long-term memory.\n",
    "- use advanced techniques to to work with messages."
   ]
  },
  {
   "cell_type": "code",
   "execution_count": 7,
   "metadata": {},
   "outputs": [],
   "source": [
    "# general imports\n",
    "import sys\n",
    "import os, getpass\n",
    "from openai import OpenAI\n",
    "from utils import *\n",
    "from IPython.display import Image\n",
    "from pprint import pprint\n",
    "\n",
    "# Import langgraph modules to create and visualize the graph\n",
    "from langgraph.graph import StateGraph, START, END, MessagesState\n",
    "from langchain_core.messages import AIMessage, HumanMessage, SystemMessage \n",
    "from typing_extensions import TypedDict\n",
    "from typing import Literal\n",
    "from pydantic import BaseModel, Field\n",
    "\n",
    "# Install the missing package\n",
    "# %pip install langchain_anthropic\n",
    "# %pip install langchain_groq\n",
    "from langchain_groq import ChatGroq\n",
    "from langchain_anthropic import ChatAnthropic\n",
    "from langchain_core.tools import tool"
   ]
  },
  {
   "cell_type": "code",
   "execution_count": 2,
   "metadata": {},
   "outputs": [],
   "source": [
    "messages = [AIMessage(f'So you said you were researching about Hindu mythology Ramayana.', name='AI')]\n",
    "messages.append(HumanMessage(f'Yes, I am researching about Hindu mythology Ramayana. But I also want to understand the time it happened and what was its significance.', name='Human'))"
   ]
  },
  {
   "cell_type": "code",
   "execution_count": 3,
   "metadata": {},
   "outputs": [
    {
     "name": "stdout",
     "output_type": "stream",
     "text": [
      "API key found in .env file for GROQ_API_KEY\n",
      "API key found in .env file for ANTHROPIC_API_KEY\n"
     ]
    }
   ],
   "source": [
    "# Let's make sure we have the API key set\n",
    "load_dotenv()\n",
    "GROQ_API_KEY = set_api_key('GROQ_API_KEY')\n",
    "ANTHROPIC_API_KEY = set_api_key('ANTHROPIC_API_KEY')"
   ]
  },
  {
   "cell_type": "code",
   "execution_count": 4,
   "metadata": {},
   "outputs": [],
   "source": [
    "ai = ChatGroq(model=\"llama-3.3-70b-versatile\", api_key=GROQ_API_KEY, temperature=0, max_retries=2)"
   ]
  },
  {
   "cell_type": "code",
   "execution_count": 5,
   "metadata": {},
   "outputs": [
    {
     "name": "stdout",
     "output_type": "stream",
     "text": [
      "==================================\u001b[1m Ai Message \u001b[0m==================================\n",
      "\n",
      "The Ramayana is an ancient Indian epic that has been a significant part of Hindu mythology for centuries. The story revolves around the life of Lord Rama, a king of Ayodhya, and his journey to rescue his wife Sita from the clutches of the demon king Ravana.\n",
      "\n",
      "**Time Period:**\n",
      "The exact time period of the Ramayana is not known, but it is believed to have occurred during the Treta Yuga, which is the second of the four yugas (ages) in Hindu mythology. According to traditional Hindu accounts, the Treta Yuga began around 1.7 million years ago and lasted for 1.2 million years. However, most scholars and historians estimate that the events of the Ramayana took place around 5000-7000 years ago, during the late Bronze Age or early Iron Age.\n",
      "\n",
      "**Significance:**\n",
      "The Ramayana has immense significance in Hindu mythology and culture. It is considered one of the most important epics in Hinduism, along with the Mahabharata. The story of the Ramayana has been passed down for generations through oral tradition, and its significance can be seen in various aspects:\n",
      "\n",
      "1. **Dharma:** The Ramayana is a story about the struggle between good and evil, with Lord Rama representing the ideal of dharma (righteousness) and Ravana representing adharma (unrighteousness).\n",
      "2. **Duty and Responsibility:** The epic teaches about the importance of duty, responsibility, and loyalty, as seen in the characters of Rama, Sita, and Hanuman.\n",
      "3. **Morality and Ethics:** The Ramayana provides valuable lessons on morality and ethics, such as the importance of honesty, integrity, and self-control.\n",
      "4. **Spiritual Growth:** The story is also a spiritual journey, with Lord Rama's quest for self-realization and enlightenment serving as a model for spiritual growth and self-improvement.\n",
      "5. **Cultural Significance:** The Ramayana has had a profound impact on Indian culture, influencing art, literature, music, and film. It has also been a source of inspiration for many other works of literature and art.\n",
      "\n",
      "**Historical Evidence:**\n",
      "While the Ramayana is a mythological epic, there are some historical and archaeological evidence that suggest the existence of a kingdom like Ayodhya and a king like Rama. For example:\n",
      "\n",
      "1. **Excavations at Ayodhya:** Archaeological excavations at Ayodhya have uncovered a ancient city that dates back to the 6th century BCE, which is around the time period when the Ramayana is believed to have taken place.\n",
      "2. **Inscriptions and Coins:** Some inscriptions and coins have been found that mention the name of Rama and other characters from the Ramayana.\n",
      "3. **Oral Tradition:** The Ramayana has been passed down through oral tradition for centuries, with many versions and adaptations of the story existing across different regions and cultures.\n",
      "\n",
      "Overall, the Ramayana is a rich and complex epic that has had a profound impact on Hindu mythology, culture, and society. Its significance extends beyond its historical context, offering valuable lessons on morality, ethics, and spiritual growth that are still relevant today.\n"
     ]
    }
   ],
   "source": [
    "result = ai.invoke(messages)\n",
    "result.pretty_print()"
   ]
  },
  {
   "cell_type": "code",
   "execution_count": 6,
   "metadata": {},
   "outputs": [],
   "source": [
    "from langchain_core.messages import trim_messages"
   ]
  },
  {
   "cell_type": "code",
   "execution_count": 8,
   "metadata": {},
   "outputs": [],
   "source": [
    "def chat_model_node(state:MessagesState):\n",
    "    messages = trim_messages(\n",
    "        state[\"messages\"],\n",
    "        max_token= 100,\n",
    "        strategy = 'last',\n",
    "        token_counter = ai.get_num_tokens,\n",
    "        allow_partial=True\n",
    "    )\n",
    "    return {\"messages\": ai.invoke(messages)} "
   ]
  },
  {
   "cell_type": "code",
   "execution_count": 9,
   "metadata": {},
   "outputs": [],
   "source": [
    "builder = StateGraph(MessagesState)\n",
    "builder.add_node(\"chat_model\", chat_model_node)\n",
    "builder.add_edge(START, \"chat_model\")\n",
    "builder.add_edge(\"chat_model\", END)\n",
    "graph = builder.compile() "
   ]
  },
  {
   "cell_type": "code",
   "execution_count": null,
   "metadata": {},
   "outputs": [],
   "source": []
  },
  {
   "cell_type": "code",
   "execution_count": null,
   "metadata": {},
   "outputs": [],
   "source": []
  },
  {
   "cell_type": "code",
   "execution_count": null,
   "metadata": {},
   "outputs": [],
   "source": []
  },
  {
   "cell_type": "code",
   "execution_count": null,
   "metadata": {},
   "outputs": [],
   "source": []
  },
  {
   "cell_type": "code",
   "execution_count": null,
   "metadata": {},
   "outputs": [],
   "source": []
  }
 ],
 "metadata": {
  "kernelspec": {
   "display_name": "ai-agent-langgraph-env",
   "language": "python",
   "name": "python3"
  },
  "language_info": {
   "codemirror_mode": {
    "name": "ipython",
    "version": 3
   },
   "file_extension": ".py",
   "mimetype": "text/x-python",
   "name": "python",
   "nbconvert_exporter": "python",
   "pygments_lexer": "ipython3",
   "version": "3.11.0"
  }
 },
 "nbformat": 4,
 "nbformat_minor": 2
}
