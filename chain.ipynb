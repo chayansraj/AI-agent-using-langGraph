{
 "cells": [
  {
   "cell_type": "markdown",
   "metadata": {},
   "source": [
    "## Goal\n",
    "\n",
    "Build a simple chain within our graph that uses 4 concepts/tools\n",
    "- Use chat messages in the graph\n",
    "- Invoking chat models within graph\n",
    "- Binding tools to out LLM\n",
    "- Executing tool calls in our graph"
   ]
  },
  {
   "cell_type": "code",
   "execution_count": 37,
   "metadata": {},
   "outputs": [],
   "source": [
    "# general imports\n",
    "import sys\n",
    "import os, getpass\n",
    "from openai import OpenAI\n",
    "from utils import *\n",
    "from IPython.display import Image\n",
    "from pprint import pprint\n",
    "\n",
    "# Import langgraph modules to create and visualize the graph\n",
    "from langgraph.graph import StateGraph, START, END\n",
    "from langchain_core.messages import AIMessage, HumanMessage, SystemMessage \n",
    "from typing_extensions import TypedDict\n",
    "from typing import Literal\n",
    "from pydantic import BaseModel, Field\n",
    "\n",
    "# Install the missing package\n",
    "# %pip install langchain_anthropic\n",
    "# %pip install langchain_groq\n",
    "from langchain_groq import ChatGroq"
   ]
  },
  {
   "cell_type": "code",
   "execution_count": 3,
   "metadata": {},
   "outputs": [
    {
     "name": "stdout",
     "output_type": "stream",
     "text": [
      "API key found in .env file for GROQ_API_KEY\n"
     ]
    }
   ],
   "source": [
    "# Let's make sure we have the API key set\n",
    "GROQ_API_KEY = set_api_key('GROQ_API_KEY')"
   ]
  },
  {
   "cell_type": "markdown",
   "metadata": {},
   "source": [
    "#### Messages\n",
    "\n",
    "Chat models can use `messages`, which captures different roles within a conversation (e.g., \"system\", \"human\", \"assistant\").\n",
    "Messages also feature one or more content blocks that contain text or potentially multimodal data (e.g., images, audio, video).\n",
    "\n",
    "<h5>Let's create a list of messages. Each message can be supplied with a few things:</h5>\n",
    "\n",
    "- `content` - content of the message\n",
    "- `name` - optionally, who is creating the message\n",
    "-  `response_metadata` - optionally, a dict of metadata that is oftern specific to each model provider"
   ]
  },
  {
   "cell_type": "code",
   "execution_count": 4,
   "metadata": {},
   "outputs": [],
   "source": [
    "\n",
    "messages = [AIMessage(content=f'So you wanted to know more starwars conception idea?', name = 'AI')]\n",
    "messages.extend([HumanMessage(content=f'Yes, I am interested in starwars', name = 'Human')])\n",
    "messages.extend([AIMessage(content=f'What do you want to know about starwars?', name = 'AI')])\n",
    "messages.extend([HumanMessage(content=f'What is the starwars universe?', name = 'Human')])\n"
   ]
  },
  {
   "cell_type": "code",
   "execution_count": 5,
   "metadata": {},
   "outputs": [
    {
     "name": "stdout",
     "output_type": "stream",
     "text": [
      "==================================\u001b[1m Ai Message \u001b[0m==================================\n",
      "Name: AI\n",
      "\n",
      "So you wanted to know more starwars conception idea?\n",
      "================================\u001b[1m Human Message \u001b[0m=================================\n",
      "Name: Human\n",
      "\n",
      "Yes, I am interested in starwars\n",
      "==================================\u001b[1m Ai Message \u001b[0m==================================\n",
      "Name: AI\n",
      "\n",
      "What do you want to know about starwars?\n",
      "================================\u001b[1m Human Message \u001b[0m=================================\n",
      "Name: Human\n",
      "\n",
      "What is the starwars universe?\n"
     ]
    }
   ],
   "source": [
    "for m in messages:\n",
    "    m.pretty_print()"
   ]
  },
  {
   "cell_type": "markdown",
   "metadata": {},
   "source": [
    "### Chat Models\n",
    "\n",
    "Chat models use a sequence of message as input and support message roles.\n",
    "\n",
    "There are many chat models available out there to choose from, in our case, we will use Groq.\n",
    "\n",
    "We can load the AI model and invoke it with our list of messages.\n"
   ]
  },
  {
   "cell_type": "code",
   "execution_count": 103,
   "metadata": {},
   "outputs": [],
   "source": [
    "ai = ChatGroq(model=\"llama-3.3-70b-versatile\", api_key=GROQ_API_KEY, temperature=0.8, max_retries=2)"
   ]
  },
  {
   "cell_type": "code",
   "execution_count": 89,
   "metadata": {},
   "outputs": [
    {
     "name": "stdout",
     "output_type": "stream",
     "text": [
      "==================================\u001b[1m Ai Message \u001b[0m==================================\n",
      "\n",
      "The Star Wars universe is a vast, fictional galaxy created by George Lucas. It's a sprawling, epic space fantasy that spans thousands of years, numerous planets, and a diverse array of alien species, technologies, and cultures.\n",
      "\n",
      "The Star Wars universe is set in a galaxy far, far away, where various factions, empires, and alliances have risen and fallen over time. The galaxy is divided into different regions, including:\n",
      "\n",
      "1. **The Core Worlds**: The central, densely populated region of the galaxy, where the Galactic Republic and later the Galactic Empire were formed.\n",
      "2. **The Outer Rim**: A peripheral region of the galaxy, home to many independent systems and a hotbed of smuggling and piracy.\n",
      "3. **The Unknown Regions**: A vast, uncharted area of the galaxy, home to many mysterious and unexplored worlds.\n",
      "\n",
      "The Star Wars universe is filled with a wide range of characters, including:\n",
      "\n",
      "* **Jedi and Sith**: Powerful, lightsaber-wielding warriors who wield the Force, a metaphysical energy that binds the galaxy together.\n",
      "* **Alien species**: A diverse array of intelligent, non-human species, such as Wookiees, Rodians, and Twi'leks.\n",
      "* **Droids**: Artificially intelligent robots, like C-3PO and R2-D2, that play important roles in the galaxy.\n",
      "* **Smugglers and bounty hunters**: Colorful characters who operate on the fringes of the galaxy, like Han Solo and Boba Fett.\n",
      "\n",
      "The Star Wars universe is also home to many iconic technologies, including:\n",
      "\n",
      "* **Lightsabers**: Energy swords used by Jedi and Sith.\n",
      "* **Starships**: Faster-than-light vehicles, like the Millennium Falcon and X-wing fighters.\n",
      "* **The Force**: A metaphysical energy that binds the galaxy together and is wielded by Jedi and Sith.\n",
      "\n",
      "The Star Wars saga is divided into several distinct eras, including:\n",
      "\n",
      "* **The Old Republic**: A ancient period of galactic history, thousands of years before the events of the original trilogy.\n",
      "* **The Rise of the Empire**: A period of galactic history marked by the fall of the Jedi Order and the rise of the Galactic Empire.\n",
      "* **The Rebellion**: A period of galactic history marked by the formation of the Rebel Alliance and its struggle against the Galactic Empire.\n",
      "* **The New Republic**: A period of galactic history marked by the formation of a new galactic government and the rebuilding of the galaxy after the fall of the Empire.\n",
      "\n",
      "This is just a brief overview of the Star Wars universe. Is there something specific you'd like to know more about?\n"
     ]
    }
   ],
   "source": [
    "result = ai.invoke(messages)\n",
    "result.pretty_print()"
   ]
  },
  {
   "cell_type": "code",
   "execution_count": 90,
   "metadata": {},
   "outputs": [
    {
     "data": {
      "text/plain": [
       "{'token_usage': {'completion_tokens': 531,\n",
       "  'prompt_tokens': 90,\n",
       "  'total_tokens': 621,\n",
       "  'completion_time': 1.930909091,\n",
       "  'prompt_time': 0.00608742,\n",
       "  'queue_time': 0.232749072,\n",
       "  'total_time': 1.936996511},\n",
       " 'model_name': 'llama-3.3-70b-versatile',\n",
       " 'system_fingerprint': 'fp_7b42aeb9fa',\n",
       " 'finish_reason': 'stop',\n",
       " 'logprobs': None}"
      ]
     },
     "execution_count": 90,
     "metadata": {},
     "output_type": "execute_result"
    }
   ],
   "source": [
    "result.response_metadata"
   ]
  },
  {
   "cell_type": "code",
   "execution_count": 91,
   "metadata": {},
   "outputs": [
    {
     "name": "stdout",
     "output_type": "stream",
     "text": [
      "============================\u001b[1m Aimessagechunk Message \u001b[0m============================\n",
      "\n",
      "The Star Wars universe, also known as the Star Wars galaxy, is a vast, fictional universe created by George Lucas. It's a sprawling, epic space fantasy that spans thousands of years, numerous planets, and a diverse array of alien species.\n",
      "\n",
      "The Star Wars universe is set in a distant galaxy, where a variety of planets, star systems, and regions are connected by a network of hyperspace lanes. The universe is home to a multitude of civilizations, including humans, aliens, robots, and other sentient beings.\n",
      "\n",
      "The Star Wars universe is divided into several key components:\n",
      "\n",
      "1. **Galactic Government**: The galaxy is governed by various factions, including the Galactic Republic, the Galactic Empire, and the New Republic. Each of these governments has its own system of governance, military, and laws.\n",
      "2. **Planets and Star Systems**: The Star Wars universe features a vast array of planets, moons, and star systems, each with its own unique environment, climate, and inhabitants. Some notable planets include Tatooine, Coruscant, Dagobah, and Endor.\n",
      "3. **Alien Species**: The Star Wars universe is home to a diverse array of alien species, including humans, Jedi, Sith, Wookiees, Rodians, and many others. Each species has its own culture, language, and customs.\n",
      "4. **Technology**: The Star Wars universe features advanced technologies, including lightsabers, blasters, starships, and hyperspace travel. The technology is often driven by the needs of the various factions and civilizations.\n",
      "5. **The Force**: The Star Wars universe is also home to a metaphysical energy known as the Force, which is a binding, mystical energy that surrounds and penetrates the galaxy. The Force is wielded by Jedi and Sith, who use it to perform incredible feats and achieve their goals.\n",
      "\n",
      "Some of the key events and eras in the Star Wars universe include:\n",
      "\n",
      "* **The Old Republic**: A ancient era of peace and prosperity, marked by the rise of the Jedi and the Galactic Republic.\n",
      "* **The Rise of the Empire**: A period of darkness and tyranny, marked by the rise of the Galactic Empire and the fall of the Jedi Order.\n",
      "* **The Rebellion**: A era of resistance and rebellion, marked by the formation of the Rebel Alliance and the battle against the Galactic Empire.\n",
      "* **The New Republic**: A modern era of peace and prosperity, marked by the rise of the New Republic and the rebuilding of the galaxy.\n",
      "\n",
      "The Star Wars universe is vast and complex, with a rich history and a wide range of characters, planets, and technologies. It's a universe that has captured the imaginations of millions of fans around the world, and continues to inspire new stories, films, and other creative works.\n",
      "\n",
      "What aspect of the Star Wars universe are you most interested in?\n"
     ]
    }
   ],
   "source": [
    "stream = ai.stream(messages)\n",
    "full = next(stream)\n",
    "for chunk in stream:\n",
    "    full += chunk\n",
    "full.pretty_print()"
   ]
  },
  {
   "cell_type": "markdown",
   "metadata": {},
   "source": [
    "<h4> Tools </h4>\n",
    "\n",
    "Tools are an additional capability provided to LLMs that can be used to interact with outside world.\n",
    "\n",
    "It could be leveraged to control different parts of the code, call an external API, interact with database, trigger a lambda function, etc.\n",
    "\n",
    "Tools can be as simple as Python functions or as complex as integrating LLM with RAG for real time analysis."
   ]
  },
  {
   "cell_type": "code",
   "execution_count": 92,
   "metadata": {},
   "outputs": [],
   "source": [
    "class GetExponent(BaseModel):\n",
    "    \"\"\"\n",
    "    Raise x to the power of y.\n",
    "    \n",
    "    Args:\n",
    "    x (int): The base number.\n",
    "    y (int): The exponent number.\n",
    "    result (int): raise x to the power of y.\n",
    "    \"\"\"\n",
    "    x: int = Field(description='The base number', example=2)\n",
    "    y: int = Field(description='The exponent number', example=3)\n",
    "    result: int = Field(description='perform x ** y ', example=8)\n",
    "    "
   ]
  },
  {
   "cell_type": "code",
   "execution_count": 95,
   "metadata": {},
   "outputs": [],
   "source": [
    "ai_with_tool = ai.bind_tools([GetExponent])"
   ]
  },
  {
   "cell_type": "code",
   "execution_count": 101,
   "metadata": {},
   "outputs": [],
   "source": [
    "tool_call = ai_with_tool.invoke([HumanMessage(content='You are a calculator assistant with all the tools required to perfom mathematical operations. \\\n",
    "                                              What is 2 raised to the power of 3')])"
   ]
  },
  {
   "cell_type": "code",
   "execution_count": 102,
   "metadata": {},
   "outputs": [
    {
     "data": {
      "text/plain": [
       "AIMessage(content='<function=GetExponent [{\"x\": 2, \"y\": 3, \"result\": 8}]</function>', additional_kwargs={}, response_metadata={'token_usage': {'completion_tokens': 28, 'prompt_tokens': 354, 'total_tokens': 382, 'completion_time': 0.101818182, 'prompt_time': 0.016693289, 'queue_time': 0.23354412600000002, 'total_time': 0.118511471}, 'model_name': 'llama-3.3-70b-versatile', 'system_fingerprint': 'fp_76dc6cf67d', 'finish_reason': 'stop', 'logprobs': None}, id='run-d53ffd22-f10a-4561-ac27-4031107d607c-0', usage_metadata={'input_tokens': 354, 'output_tokens': 28, 'total_tokens': 382})"
      ]
     },
     "execution_count": 102,
     "metadata": {},
     "output_type": "execute_result"
    }
   ],
   "source": [
    "tool_call"
   ]
  },
  {
   "cell_type": "markdown",
   "metadata": {},
   "source": [
    "<h4> Using messages as state </h4>\n",
    "\n",
    "Instead of updating the graph states with static key value pairs. It is interesting to use `messages` in our graph state. This can allow us to keep the context that propagates from one node to another.\n",
    "\n",
    "It uses predefined modules from langchain library such as AnyMessage.\n",
    "\n",
    "Earlier, we saw that langgraph updates the existing state with a new one, and we lose the previous value. We do not want that scenario in this case. Instead, we want to append any new messages to the previously updated state. This is where `Reducers` come into the picture.\n",
    "\n",
    "<h5>Reducers </h5>\n",
    " \n",
    " We want to append any new message to our `messages` channel in our state so that it preserves the full history of conversation. \n",
    " \n",
    " - Reducers allow us to specify how the state updates are performed.\n",
    " - If no reducer is explicitly defined, then it is assumed that all updates to the state should be overwritten.\n",
    " - `add_messages` is one kind of reducer to append new message to the state key."
   ]
  },
  {
   "cell_type": "code",
   "execution_count": 106,
   "metadata": {},
   "outputs": [],
   "source": [
    "from typing import Annotated\n",
    "from langchain_core.messages import AnyMessage\n",
    "from langgraph.graph.message import add_messages\n",
    "\n",
    "class MessagesState(TypedDict):\n",
    "    messages: Annotated[list[AnyMessage], add_messages]"
   ]
  },
  {
   "cell_type": "code",
   "execution_count": 126,
   "metadata": {},
   "outputs": [
    {
     "data": {
      "text/plain": [
       "[AIMessage(content='Hello, I am a calculator assistant. I can help you with mathematical operations.', additional_kwargs={}, response_metadata={}, name='AI', id='b29b3a9c-b6b3-4977-b0d4-f1221ca23da6'),\n",
       " HumanMessage(content='I am looking for information on how to perform exponentiation', additional_kwargs={}, response_metadata={}, name='Human', id='b8996e52-6f90-42b5-b99e-e6a31cd65ff0'),\n",
       " AIMessage(content='I can help you with that. What is the base number and the exponent number?', additional_kwargs={}, response_metadata={}, name='AI', id='695c7f91-acff-4d8f-95e5-913ab0ab1481')]"
      ]
     },
     "execution_count": 126,
     "metadata": {},
     "output_type": "execute_result"
    }
   ],
   "source": [
    "# Let's define an initial state with an initial message\n",
    "initial_messages= [AIMessage(content='Hello, I am a calculator assistant. I can help you with mathematical operations.', name='AI'),\n",
    "                   HumanMessage(content='I am looking for information on how to perform exponentiation', name='Human')]\n",
    "\n",
    "# New message to add\n",
    "new_message = AIMessage(content='I can help you with that. What is the base number and the exponent number?', name='AI')\n",
    "\n",
    "# test \n",
    "add_messages(initial_messages, new_message)"
   ]
  },
  {
   "cell_type": "code",
   "execution_count": 138,
   "metadata": {},
   "outputs": [
    {
     "data": {
      "image/png": "[encoded data removed]",
      "text/plain": [
       "<IPython.core.display.Image object>"
      ]
     },
     "metadata": {},
     "output_type": "display_data"
    }
   ],
   "source": [
    "# Since this message update is so common, Langgraph has prebuilt MessagesState\n",
    "from langgraph.graph import MessagesState # MessagesState and State work equivalently\n",
    "\n",
    "# Let's build our graph\n",
    "\n",
    "class MessagesState(MessagesState):\n",
    "    messages: Annotated[list[AnyMessage], add_messages] # we need to add this line to the class to make it a Pydantic model\n",
    "\n",
    "# node\n",
    "\n",
    "def tool_calling_ai(state: MessagesState):\n",
    "    return {\"messages\": [ai_with_tool.invoke(state[\"messages\"])]} # invoke the tool_calling_ai tool\n",
    "\n",
    "# build graph\n",
    "builder = StateGraph(MessagesState)\n",
    "builder.add_node('tool_calling_ai', tool_calling_ai)\n",
    "builder.add_edge(START, 'tool_calling_ai')\n",
    "builder.add_edge('tool_calling_ai', END)\n",
    "\n",
    "graph = builder.compile()\n",
    "\n",
    "display(Image(graph.get_graph().draw_mermaid_png()))"
   ]
  },
  {
   "cell_type": "code",
   "execution_count": 140,
   "metadata": {},
   "outputs": [
    {
     "data": {
      "text/plain": [
       "{'messages': [HumanMessage(content='Hello!', additional_kwargs={}, response_metadata={}, id='dce5fdf9-48dc-4e29-9dfc-da2b4d0d3e08'),\n",
       "  AIMessage(content=\"Hello! It's nice to meet you. Is there something I can help you with, or would you like to chat?\", additional_kwargs={}, response_metadata={'token_usage': {'completion_tokens': 26, 'prompt_tokens': 328, 'total_tokens': 354, 'completion_time': 0.094545455, 'prompt_time': 0.014779952, 'queue_time': 0.233694885, 'total_time': 0.109325407}, 'model_name': 'llama-3.3-70b-versatile', 'system_fingerprint': 'fp_5f849c5a0b', 'finish_reason': 'stop', 'logprobs': None}, id='run-27162e41-c2ba-44c8-bf3d-1f3faf13fc4d-0', usage_metadata={'input_tokens': 328, 'output_tokens': 26, 'total_tokens': 354})]}"
      ]
     },
     "execution_count": 140,
     "metadata": {},
     "output_type": "execute_result"
    }
   ],
   "source": [
    "message_invoke = graph.invoke({\"messages\" : HumanMessage(content='Hello!')} )\n",
    "message_invoke"
   ]
  },
  {
   "cell_type": "code",
   "execution_count": 145,
   "metadata": {},
   "outputs": [
    {
     "data": {
      "text/plain": [
       "{'messages': [HumanMessage(content='You are a calculator assistant with all the tools required to perfom mathematical operations. What is 2 raised to the power of 3', additional_kwargs={}, response_metadata={}, id='3ba20a56-cf63-4b8d-8956-82f82d69e4c4'),\n",
       "  AIMessage(content='', additional_kwargs={'tool_calls': [{'id': 'call_q3tb', 'function': {'arguments': '{\"x\": 2, \"y\": 3, \"result\": 8}', 'name': 'GetExponent'}, 'type': 'function'}]}, response_metadata={'token_usage': {'completion_tokens': 27, 'prompt_tokens': 353, 'total_tokens': 380, 'completion_time': 0.098181818, 'prompt_time': 0.016811323, 'queue_time': 0.232832494, 'total_time': 0.114993141}, 'model_name': 'llama-3.3-70b-versatile', 'system_fingerprint': 'fp_7b42aeb9fa', 'finish_reason': 'tool_calls', 'logprobs': None}, id='run-669cdad9-af27-49f8-9c16-c81649eb0170-0', tool_calls=[{'name': 'GetExponent', 'args': {'x': 2, 'y': 3, 'result': 8}, 'id': 'call_q3tb', 'type': 'tool_call'}], usage_metadata={'input_tokens': 353, 'output_tokens': 27, 'total_tokens': 380})]}"
      ]
     },
     "execution_count": 145,
     "metadata": {},
     "output_type": "execute_result"
    }
   ],
   "source": [
    "message_invoke = graph.invoke({\"messages\" : HumanMessage(content='You are a calculator assistant with all the tools required to perfom mathematical operations. What is 2 raised to the power of 3')} )\n",
    "message_invoke"
   ]
  },
  {
   "cell_type": "code",
   "execution_count": 147,
   "metadata": {},
   "outputs": [
    {
     "data": {
      "text/plain": [
       "{'messages': [HumanMessage(content='Are you still there', additional_kwargs={}, response_metadata={}, id='2704558a-e039-4c60-b678-fbe6bbde2b8b'),\n",
       "  AIMessage(content=\"I'm here and ready to help. You can ask me a question or request a function call. If you need to raise a number to a power, I can assist you with the 'GetExponent' function.\", additional_kwargs={}, response_metadata={'token_usage': {'completion_tokens': 45, 'prompt_tokens': 330, 'total_tokens': 375, 'completion_time': 0.163636364, 'prompt_time': 0.01712404, 'queue_time': 0.30162517099999997, 'total_time': 0.180760404}, 'model_name': 'llama-3.3-70b-versatile', 'system_fingerprint': 'fp_7b42aeb9fa', 'finish_reason': 'stop', 'logprobs': None}, id='run-7e932600-4648-4853-b894-9d60177fe7e8-0', usage_metadata={'input_tokens': 330, 'output_tokens': 45, 'total_tokens': 375})]}"
      ]
     },
     "execution_count": 147,
     "metadata": {},
     "output_type": "execute_result"
    }
   ],
   "source": [
    "message_invoke = graph.invoke({\"messages\" : HumanMessage(content='Are you still there')} )\n",
    "message_invoke"
   ]
  },
  {
   "cell_type": "code",
   "execution_count": null,
   "metadata": {},
   "outputs": [],
   "source": []
  }
 ],
 "metadata": {
  "kernelspec": {
   "display_name": "ai-agent-langgraph-env",
   "language": "python",
   "name": "python3"
  },
  "language_info": {
   "codemirror_mode": {
    "name": "ipython",
    "version": 3
   },
   "file_extension": ".py",
   "mimetype": "text/x-python",
   "name": "python",
   "nbconvert_exporter": "python",
   "pygments_lexer": "ipython3",
   "version": "3.11.0"
  }
 },
 "nbformat": 4,
 "nbformat_minor": 2
}
