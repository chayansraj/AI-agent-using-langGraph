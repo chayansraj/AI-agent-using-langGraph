{
 "cells": [
  {
   "cell_type": "markdown",
   "metadata": {},
   "source": [
    "## Goal\n",
    "\n",
    "Build a simple chain within our graph that uses 4 concepts/tools\n",
    "- Use chat messages in the graph\n",
    "- Invoking chat models within graph\n",
    "- Binding tools to out LLM\n",
    "- Executing tool calls in our graph"
   ]
  },
  {
   "cell_type": "code",
   "execution_count": 2,
   "metadata": {},
   "outputs": [],
   "source": [
    "# general imports\n",
    "import sys\n",
    "import os, getpass\n",
    "from openai import OpenAI\n",
    "from utils import *\n",
    "from IPython.display import Image\n",
    "from pprint import pprint\n",
    "\n",
    "# Import langgraph modules to create and visualize the graph\n",
    "from langgraph.graph import StateGraph, START, END\n",
    "from langchain_core.messages import AIMessage, HumanMessage, SystemMessage \n",
    "from typing_extensions import TypedDict\n",
    "from typing import Literal\n",
    "\n",
    "# Install the missing package\n",
    "# %pip install langchain_anthropic\n",
    "# %pip install langchain_groq\n",
    "from langchain_groq import ChatGroq"
   ]
  },
  {
   "cell_type": "code",
   "execution_count": 3,
   "metadata": {},
   "outputs": [
    {
     "name": "stdout",
     "output_type": "stream",
     "text": [
      "API key found in .env file for GROQ_API_KEY\n"
     ]
    }
   ],
   "source": [
    "# Let's make sure we have the API key set\n",
    "GROQ_API_KEY = set_api_key('GROQ_API_KEY')"
   ]
  },
  {
   "cell_type": "markdown",
   "metadata": {},
   "source": [
    "#### Messages\n",
    "\n",
    "Chat models can use `messages`, which captures different roles within a conversation (e.g., \"system\", \"human\", \"assistant\").\n",
    "Messages also feature one or more content blocks that contain text or potentially multimodal data (e.g., images, audio, video).\n",
    "\n",
    "<h5>Let's create a list of messages. Each message can be supplied with a few things:</h5>\n",
    "\n",
    "- `content` - content of the message\n",
    "- `name` - optionally, who is creating the message\n",
    "-  `response_metadata` - optionally, a dict of metadata that is oftern specific to each model provider"
   ]
  },
  {
   "cell_type": "code",
   "execution_count": 4,
   "metadata": {},
   "outputs": [],
   "source": [
    "\n",
    "messages = [AIMessage(content=f'So you wanted to know more starwars conception idea?', name = 'AI')]\n",
    "messages.extend([HumanMessage(content=f'Yes, I am interested in starwars', name = 'Human')])\n",
    "messages.extend([AIMessage(content=f'What do you want to know about starwars?', name = 'AI')])\n",
    "messages.extend([HumanMessage(content=f'What is the starwars universe?', name = 'Human')])\n"
   ]
  },
  {
   "cell_type": "code",
   "execution_count": 5,
   "metadata": {},
   "outputs": [
    {
     "name": "stdout",
     "output_type": "stream",
     "text": [
      "==================================\u001b[1m Ai Message \u001b[0m==================================\n",
      "Name: AI\n",
      "\n",
      "So you wanted to know more starwars conception idea?\n",
      "================================\u001b[1m Human Message \u001b[0m=================================\n",
      "Name: Human\n",
      "\n",
      "Yes, I am interested in starwars\n",
      "==================================\u001b[1m Ai Message \u001b[0m==================================\n",
      "Name: AI\n",
      "\n",
      "What do you want to know about starwars?\n",
      "================================\u001b[1m Human Message \u001b[0m=================================\n",
      "Name: Human\n",
      "\n",
      "What is the starwars universe?\n"
     ]
    }
   ],
   "source": [
    "for m in messages:\n",
    "    m.pretty_print()"
   ]
  },
  {
   "cell_type": "markdown",
   "metadata": {},
   "source": [
    "### Chat Models\n",
    "\n",
    "Chat models use a sequence of message as input and support message roles.\n",
    "\n",
    "There are many chat models available out there to choose from, in our case, we will use Groq.\n",
    "\n",
    "We can load the AI model and invoke it with our list of messages.\n"
   ]
  },
  {
   "cell_type": "code",
   "execution_count": 6,
   "metadata": {},
   "outputs": [],
   "source": [
    "ai = ChatGroq(model=\"mixtral-8x7b-32768\", api_key=GROQ_API_KEY, temperature=0.8, max_retries=2)"
   ]
  },
  {
   "cell_type": "code",
   "execution_count": 7,
   "metadata": {},
   "outputs": [
    {
     "name": "stdout",
     "output_type": "stream",
     "text": [
      "==================================\u001b[1m Ai Message \u001b[0m==================================\n",
      "\n",
      "The Star Wars universe is a fictional galaxy far, far away that serves as the setting for the Star Wars franchise, which includes films, television shows, books, comics, and other media.\n",
      "\n",
      "The Star Wars universe is home to a wide variety of planets, species, and cultures, as well as a rich history that spans thousands of years. It is a setting that is heavily influenced by science fiction, fantasy, and mythology, and it is known for its epic space battles, complex characters, and themes of good versus evil.\n",
      "\n",
      "At the heart of the Star Wars universe is the struggle between the light side and the dark side of the Force, a metaphysical power that binds the galaxy together and gives certain individuals the ability to perform supernatural feats. The light side is associated with peace, justice, and selflessness, while the dark side is associated with power, aggression, and greed.\n",
      "\n",
      "The Star Wars universe is a vast and complex place that has captured the imaginations of millions of people around the world. It is a place of adventure, excitement, and wonder, and it is a setting that continues to inspire and entertain fans of all ages.\n"
     ]
    }
   ],
   "source": [
    "result = ai.invoke(messages)\n",
    "result.pretty_print()"
   ]
  },
  {
   "cell_type": "code",
   "execution_count": 8,
   "metadata": {},
   "outputs": [
    {
     "data": {
      "text/plain": [
       "{'token_usage': {'completion_tokens': 245,\n",
       "  'prompt_tokens': 65,\n",
       "  'total_tokens': 310,\n",
       "  'completion_time': 0.380392248,\n",
       "  'prompt_time': 0.008585825,\n",
       "  'queue_time': 0.020265914000000003,\n",
       "  'total_time': 0.388978073},\n",
       " 'model_name': 'mixtral-8x7b-32768',\n",
       " 'system_fingerprint': 'fp_c5f20b5bb1',\n",
       " 'finish_reason': 'stop',\n",
       " 'logprobs': None}"
      ]
     },
     "execution_count": 8,
     "metadata": {},
     "output_type": "execute_result"
    }
   ],
   "source": [
    "result.response_metadata"
   ]
  },
  {
   "cell_type": "code",
   "execution_count": 9,
   "metadata": {},
   "outputs": [
    {
     "name": "stdout",
     "output_type": "stream",
     "text": [
      "============================\u001b[1m Aimessagechunk Message \u001b[0m============================\n",
      "\n",
      "The Star Wars universe is a fictional galaxy far, far away from our own, created by George Lucas. It is the setting for the Star Wars film franchise, which includes nine main saga films, as well as standalone movies, animated series, and a vast array of books, comics, and other media.\n",
      "\n",
      "The universe is home to a wide variety of planets, species, and technologies, and is divided into several distinct eras, ranging from the ancient Old Republic to the current sequel trilogy. It is a place of epic battles, political intrigue, and personal struggles, as characters navigate the complex web of alliances, betrayals, and destinies that define the galaxy.\n",
      "\n",
      "At its core, the Star Wars universe is a reflection of our own world, exploring themes of good vs. evil, the power of hope, and the importance of standing up for what is right. It has captivated audiences for decades and continues to inspire generations of fans.\n"
     ]
    }
   ],
   "source": [
    "stream = ai.stream(messages)\n",
    "full = next(stream)\n",
    "for chunk in stream:\n",
    "    full += chunk\n",
    "full.pretty_print()"
   ]
  },
  {
   "cell_type": "markdown",
   "metadata": {},
   "source": [
    "<h4> Tools </h4>\n",
    "\n",
    "Tools are an additional capability provided to LLMs that can be used to interact with outside world.\n",
    "\n",
    "It could be leveraged to control different parts of the code, call an external API, interact with database, trigger a lambda function, etc.\n",
    "\n",
    "Tools can be as simple as Python functions or as complex as integrating LLM with RAG for real time analysis."
   ]
  },
  {
   "cell_type": "code",
   "execution_count": null,
   "metadata": {},
   "outputs": [],
   "source": []
  },
  {
   "cell_type": "code",
   "execution_count": null,
   "metadata": {},
   "outputs": [],
   "source": []
  },
  {
   "cell_type": "code",
   "execution_count": null,
   "metadata": {},
   "outputs": [],
   "source": []
  },
  {
   "cell_type": "code",
   "execution_count": null,
   "metadata": {},
   "outputs": [],
   "source": []
  },
  {
   "cell_type": "code",
   "execution_count": null,
   "metadata": {},
   "outputs": [],
   "source": []
  },
  {
   "cell_type": "code",
   "execution_count": null,
   "metadata": {},
   "outputs": [],
   "source": []
  },
  {
   "cell_type": "code",
   "execution_count": null,
   "metadata": {},
   "outputs": [],
   "source": []
  },
  {
   "cell_type": "code",
   "execution_count": null,
   "metadata": {},
   "outputs": [],
   "source": []
  }
 ],
 "metadata": {
  "kernelspec": {
   "display_name": "ai-agent-langgraph-env",
   "language": "python",
   "name": "python3"
  },
  "language_info": {
   "codemirror_mode": {
    "name": "ipython",
    "version": 3
   },
   "file_extension": ".py",
   "mimetype": "text/x-python",
   "name": "python",
   "nbconvert_exporter": "python",
   "pygments_lexer": "ipython3",
   "version": "3.11.0"
  }
 },
 "nbformat": 4,
 "nbformat_minor": 2
}
