{
 "cells": [
  {
   "cell_type": "markdown",
   "metadata": {},
   "source": [
    "## Goal\n",
    "\n",
    "Build a simple chain within our graph that uses 4 concepts/tools\n",
    "- Use chat messages in the graph\n",
    "- Invoking chat models within graph\n",
    "- Binding tools to out LLM\n",
    "- Executing tool calls in our graph"
   ]
  },
  {
   "cell_type": "code",
   "execution_count": 37,
   "metadata": {},
   "outputs": [],
   "source": [
    "# general imports\n",
    "import sys\n",
    "import os, getpass\n",
    "from openai import OpenAI\n",
    "from utils import *\n",
    "from IPython.display import Image\n",
    "from pprint import pprint\n",
    "\n",
    "# Import langgraph modules to create and visualize the graph\n",
    "from langgraph.graph import StateGraph, START, END\n",
    "from langchain_core.messages import AIMessage, HumanMessage, SystemMessage \n",
    "from typing_extensions import TypedDict\n",
    "from typing import Literal\n",
    "from pydantic import BaseModel, Field\n",
    "\n",
    "# Install the missing package\n",
    "# %pip install langchain_anthropic\n",
    "# %pip install langchain_groq\n",
    "from langchain_groq import ChatGroq"
   ]
  },
  {
   "cell_type": "code",
   "execution_count": 3,
   "metadata": {},
   "outputs": [
    {
     "name": "stdout",
     "output_type": "stream",
     "text": [
      "API key found in .env file for GROQ_API_KEY\n"
     ]
    }
   ],
   "source": [
    "# Let's make sure we have the API key set\n",
    "GROQ_API_KEY = set_api_key('GROQ_API_KEY')"
   ]
  },
  {
   "cell_type": "markdown",
   "metadata": {},
   "source": [
    "#### Messages\n",
    "\n",
    "Chat models can use `messages`, which captures different roles within a conversation (e.g., \"system\", \"human\", \"assistant\").\n",
    "Messages also feature one or more content blocks that contain text or potentially multimodal data (e.g., images, audio, video).\n",
    "\n",
    "<h5>Let's create a list of messages. Each message can be supplied with a few things:</h5>\n",
    "\n",
    "- `content` - content of the message\n",
    "- `name` - optionally, who is creating the message\n",
    "-  `response_metadata` - optionally, a dict of metadata that is oftern specific to each model provider"
   ]
  },
  {
   "cell_type": "code",
   "execution_count": 4,
   "metadata": {},
   "outputs": [],
   "source": [
    "\n",
    "messages = [AIMessage(content=f'So you wanted to know more starwars conception idea?', name = 'AI')]\n",
    "messages.extend([HumanMessage(content=f'Yes, I am interested in starwars', name = 'Human')])\n",
    "messages.extend([AIMessage(content=f'What do you want to know about starwars?', name = 'AI')])\n",
    "messages.extend([HumanMessage(content=f'What is the starwars universe?', name = 'Human')])\n"
   ]
  },
  {
   "cell_type": "code",
   "execution_count": 5,
   "metadata": {},
   "outputs": [
    {
     "name": "stdout",
     "output_type": "stream",
     "text": [
      "==================================\u001b[1m Ai Message \u001b[0m==================================\n",
      "Name: AI\n",
      "\n",
      "So you wanted to know more starwars conception idea?\n",
      "================================\u001b[1m Human Message \u001b[0m=================================\n",
      "Name: Human\n",
      "\n",
      "Yes, I am interested in starwars\n",
      "==================================\u001b[1m Ai Message \u001b[0m==================================\n",
      "Name: AI\n",
      "\n",
      "What do you want to know about starwars?\n",
      "================================\u001b[1m Human Message \u001b[0m=================================\n",
      "Name: Human\n",
      "\n",
      "What is the starwars universe?\n"
     ]
    }
   ],
   "source": [
    "for m in messages:\n",
    "    m.pretty_print()"
   ]
  },
  {
   "cell_type": "markdown",
   "metadata": {},
   "source": [
    "### Chat Models\n",
    "\n",
    "Chat models use a sequence of message as input and support message roles.\n",
    "\n",
    "There are many chat models available out there to choose from, in our case, we will use Groq.\n",
    "\n",
    "We can load the AI model and invoke it with our list of messages.\n"
   ]
  },
  {
   "cell_type": "code",
   "execution_count": 88,
   "metadata": {},
   "outputs": [],
   "source": [
    "ai = ChatGroq(model=\"llama-3.3-70b-versatile\", api_key=GROQ_API_KEY, temperature=0.8, max_retries=2)"
   ]
  },
  {
   "cell_type": "code",
   "execution_count": 89,
   "metadata": {},
   "outputs": [
    {
     "name": "stdout",
     "output_type": "stream",
     "text": [
      "==================================\u001b[1m Ai Message \u001b[0m==================================\n",
      "\n",
      "The Star Wars universe is a vast, fictional galaxy created by George Lucas. It's a sprawling, epic space fantasy that spans thousands of years, numerous planets, and a diverse array of alien species, technologies, and cultures.\n",
      "\n",
      "The Star Wars universe is set in a galaxy far, far away, where various factions, empires, and alliances have risen and fallen over time. The galaxy is divided into different regions, including:\n",
      "\n",
      "1. **The Core Worlds**: The central, densely populated region of the galaxy, where the Galactic Republic and later the Galactic Empire were formed.\n",
      "2. **The Outer Rim**: A peripheral region of the galaxy, home to many independent systems and a hotbed of smuggling and piracy.\n",
      "3. **The Unknown Regions**: A vast, uncharted area of the galaxy, home to many mysterious and unexplored worlds.\n",
      "\n",
      "The Star Wars universe is filled with a wide range of characters, including:\n",
      "\n",
      "* **Jedi and Sith**: Powerful, lightsaber-wielding warriors who wield the Force, a metaphysical energy that binds the galaxy together.\n",
      "* **Alien species**: A diverse array of intelligent, non-human species, such as Wookiees, Rodians, and Twi'leks.\n",
      "* **Droids**: Artificially intelligent robots, like C-3PO and R2-D2, that play important roles in the galaxy.\n",
      "* **Smugglers and bounty hunters**: Colorful characters who operate on the fringes of the galaxy, like Han Solo and Boba Fett.\n",
      "\n",
      "The Star Wars universe is also home to many iconic technologies, including:\n",
      "\n",
      "* **Lightsabers**: Energy swords used by Jedi and Sith.\n",
      "* **Starships**: Faster-than-light vehicles, like the Millennium Falcon and X-wing fighters.\n",
      "* **The Force**: A metaphysical energy that binds the galaxy together and is wielded by Jedi and Sith.\n",
      "\n",
      "The Star Wars saga is divided into several distinct eras, including:\n",
      "\n",
      "* **The Old Republic**: A ancient period of galactic history, thousands of years before the events of the original trilogy.\n",
      "* **The Rise of the Empire**: A period of galactic history marked by the fall of the Jedi Order and the rise of the Galactic Empire.\n",
      "* **The Rebellion**: A period of galactic history marked by the formation of the Rebel Alliance and its struggle against the Galactic Empire.\n",
      "* **The New Republic**: A period of galactic history marked by the formation of a new galactic government and the rebuilding of the galaxy after the fall of the Empire.\n",
      "\n",
      "This is just a brief overview of the Star Wars universe. Is there something specific you'd like to know more about?\n"
     ]
    }
   ],
   "source": [
    "result = ai.invoke(messages)\n",
    "result.pretty_print()"
   ]
  },
  {
   "cell_type": "code",
   "execution_count": 90,
   "metadata": {},
   "outputs": [
    {
     "data": {
      "text/plain": [
       "{'token_usage': {'completion_tokens': 531,\n",
       "  'prompt_tokens': 90,\n",
       "  'total_tokens': 621,\n",
       "  'completion_time': 1.930909091,\n",
       "  'prompt_time': 0.00608742,\n",
       "  'queue_time': 0.232749072,\n",
       "  'total_time': 1.936996511},\n",
       " 'model_name': 'llama-3.3-70b-versatile',\n",
       " 'system_fingerprint': 'fp_7b42aeb9fa',\n",
       " 'finish_reason': 'stop',\n",
       " 'logprobs': None}"
      ]
     },
     "execution_count": 90,
     "metadata": {},
     "output_type": "execute_result"
    }
   ],
   "source": [
    "result.response_metadata"
   ]
  },
  {
   "cell_type": "code",
   "execution_count": 91,
   "metadata": {},
   "outputs": [
    {
     "name": "stdout",
     "output_type": "stream",
     "text": [
      "============================\u001b[1m Aimessagechunk Message \u001b[0m============================\n",
      "\n",
      "The Star Wars universe, also known as the Star Wars galaxy, is a vast, fictional universe created by George Lucas. It's a sprawling, epic space fantasy that spans thousands of years, numerous planets, and a diverse array of alien species.\n",
      "\n",
      "The Star Wars universe is set in a distant galaxy, where a variety of planets, star systems, and regions are connected by a network of hyperspace lanes. The universe is home to a multitude of civilizations, including humans, aliens, robots, and other sentient beings.\n",
      "\n",
      "The Star Wars universe is divided into several key components:\n",
      "\n",
      "1. **Galactic Government**: The galaxy is governed by various factions, including the Galactic Republic, the Galactic Empire, and the New Republic. Each of these governments has its own system of governance, military, and laws.\n",
      "2. **Planets and Star Systems**: The Star Wars universe features a vast array of planets, moons, and star systems, each with its own unique environment, climate, and inhabitants. Some notable planets include Tatooine, Coruscant, Dagobah, and Endor.\n",
      "3. **Alien Species**: The Star Wars universe is home to a diverse array of alien species, including humans, Jedi, Sith, Wookiees, Rodians, and many others. Each species has its own culture, language, and customs.\n",
      "4. **Technology**: The Star Wars universe features advanced technologies, including lightsabers, blasters, starships, and hyperspace travel. The technology is often driven by the needs of the various factions and civilizations.\n",
      "5. **The Force**: The Star Wars universe is also home to a metaphysical energy known as the Force, which is a binding, mystical energy that surrounds and penetrates the galaxy. The Force is wielded by Jedi and Sith, who use it to perform incredible feats and achieve their goals.\n",
      "\n",
      "Some of the key events and eras in the Star Wars universe include:\n",
      "\n",
      "* **The Old Republic**: A ancient era of peace and prosperity, marked by the rise of the Jedi and the Galactic Republic.\n",
      "* **The Rise of the Empire**: A period of darkness and tyranny, marked by the rise of the Galactic Empire and the fall of the Jedi Order.\n",
      "* **The Rebellion**: A era of resistance and rebellion, marked by the formation of the Rebel Alliance and the battle against the Galactic Empire.\n",
      "* **The New Republic**: A modern era of peace and prosperity, marked by the rise of the New Republic and the rebuilding of the galaxy.\n",
      "\n",
      "The Star Wars universe is vast and complex, with a rich history and a wide range of characters, planets, and technologies. It's a universe that has captured the imaginations of millions of fans around the world, and continues to inspire new stories, films, and other creative works.\n",
      "\n",
      "What aspect of the Star Wars universe are you most interested in?\n"
     ]
    }
   ],
   "source": [
    "stream = ai.stream(messages)\n",
    "full = next(stream)\n",
    "for chunk in stream:\n",
    "    full += chunk\n",
    "full.pretty_print()"
   ]
  },
  {
   "cell_type": "markdown",
   "metadata": {},
   "source": [
    "<h4> Tools </h4>\n",
    "\n",
    "Tools are an additional capability provided to LLMs that can be used to interact with outside world.\n",
    "\n",
    "It could be leveraged to control different parts of the code, call an external API, interact with database, trigger a lambda function, etc.\n",
    "\n",
    "Tools can be as simple as Python functions or as complex as integrating LLM with RAG for real time analysis."
   ]
  },
  {
   "cell_type": "code",
   "execution_count": 92,
   "metadata": {},
   "outputs": [],
   "source": [
    "class GetExponent(BaseModel):\n",
    "    \"\"\"\n",
    "    Raise x to the power of y.\n",
    "    \n",
    "    Args:\n",
    "    x (int): The base number.\n",
    "    y (int): The exponent number.\n",
    "    result (int): raise x to the power of y.\n",
    "    \"\"\"\n",
    "    x: int = Field(description='The base number', example=2)\n",
    "    y: int = Field(description='The exponent number', example=3)\n",
    "    result: int = Field(description='perform x ** y ', example=8)\n",
    "    "
   ]
  },
  {
   "cell_type": "code",
   "execution_count": 95,
   "metadata": {},
   "outputs": [],
   "source": [
    "ai_with_tool = ai.bind_tools([GetExponent])"
   ]
  },
  {
   "cell_type": "code",
   "execution_count": null,
   "metadata": {},
   "outputs": [],
   "source": [
    "tool_call = ai_with_tool.invoke([HumanMessage(content='You are a calculator assistant with all the tools required to perfom mathematical operations. \\\n",
    "                                              What is 2 raised to the power of 3')])"
   ]
  },
  {
   "cell_type": "code",
   "execution_count": 100,
   "metadata": {},
   "outputs": [
    {
     "data": {
      "text/plain": [
       "AIMessage(content='', additional_kwargs={'tool_calls': [{'id': 'call_ap3m', 'function': {'arguments': '{\"x\": 2, \"y\": 3, \"result\": 8}', 'name': 'GetExponent'}, 'type': 'function'}]}, response_metadata={'token_usage': {'completion_tokens': 27, 'prompt_tokens': 705, 'total_tokens': 732, 'completion_time': 0.098181818, 'prompt_time': 0.027536548, 'queue_time': -0.126286389, 'total_time': 0.125718366}, 'model_name': 'llama-3.3-70b-versatile', 'system_fingerprint': 'fp_7b42aeb9fa', 'finish_reason': 'tool_calls', 'logprobs': None}, id='run-556da27d-d13e-413c-a691-d54846041cf3-0', tool_calls=[{'name': 'GetExponent', 'args': {'x': 2, 'y': 3, 'result': 8}, 'id': 'call_ap3m', 'type': 'tool_call'}], usage_metadata={'input_tokens': 705, 'output_tokens': 27, 'total_tokens': 732})"
      ]
     },
     "execution_count": 100,
     "metadata": {},
     "output_type": "execute_result"
    }
   ],
   "source": [
    "tool_call"
   ]
  },
  {
   "cell_type": "code",
   "execution_count": null,
   "metadata": {},
   "outputs": [],
   "source": []
  },
  {
   "cell_type": "code",
   "execution_count": null,
   "metadata": {},
   "outputs": [],
   "source": []
  },
  {
   "cell_type": "code",
   "execution_count": null,
   "metadata": {},
   "outputs": [],
   "source": []
  },
  {
   "cell_type": "code",
   "execution_count": null,
   "metadata": {},
   "outputs": [],
   "source": []
  }
 ],
 "metadata": {
  "kernelspec": {
   "display_name": "ai-agent-langgraph-env",
   "language": "python",
   "name": "python3"
  },
  "language_info": {
   "codemirror_mode": {
    "name": "ipython",
    "version": 3
   },
   "file_extension": ".py",
   "mimetype": "text/x-python",
   "name": "python",
   "nbconvert_exporter": "python",
   "pygments_lexer": "ipython3",
   "version": "3.11.0"
  }
 },
 "nbformat": 4,
 "nbformat_minor": 2
}
