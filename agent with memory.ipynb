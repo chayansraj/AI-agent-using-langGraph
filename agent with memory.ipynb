{
 "cells": [
  {
   "cell_type": "markdown",
   "metadata": {},
   "source": [
    "## Goal\n",
    "\n",
    "Build a ReAct architecture that takes feedback from the tool calls.\n",
    "- Use a prebuilt `ToolNode` and pass in the list of tools.\n",
    "- Use `tools_condition` edge to route the llm's output.\n",
    "- If the llm calls the tool, send the feedback to llm and repeat.\n",
    "- Include memory retention in agent's workflow in order to associate the tasks."
   ]
  },
  {
   "cell_type": "code",
   "execution_count": 1,
   "metadata": {},
   "outputs": [],
   "source": [
    "# general imports\n",
    "import sys\n",
    "import os, getpass\n",
    "from openai import OpenAI\n",
    "from utils import *\n",
    "from IPython.display import Image\n",
    "from pprint import pprint\n",
    "\n",
    "# Import langgraph modules to create and visualize the graph\n",
    "from langgraph.graph import StateGraph, START, END\n",
    "from langchain_core.messages import AIMessage, HumanMessage, SystemMessage \n",
    "from typing_extensions import TypedDict\n",
    "from typing import Literal\n",
    "from pydantic import BaseModel, Field\n",
    "\n",
    "# Install the missing package\n",
    "# %pip install langchain_anthropic\n",
    "# %pip install langchain_groq\n",
    "from langchain_groq import ChatGroq\n",
    "from langchain_anthropic import ChatAnthropic\n",
    "from langchain_core.tools import tool\n",
    "\n"
   ]
  },
  {
   "cell_type": "code",
   "execution_count": 2,
   "metadata": {},
   "outputs": [
    {
     "name": "stdout",
     "output_type": "stream",
     "text": [
      "API key found in .env file for GROQ_API_KEY\n",
      "API key found in .env file for ANTHROPIC_API_KEY\n"
     ]
    }
   ],
   "source": [
    "# Let's make sure we have the API key set\n",
    "load_dotenv()\n",
    "GROQ_API_KEY = set_api_key('GROQ_API_KEY')\n",
    "ANTHROPIC_API_KEY = set_api_key('ANTHROPIC_API_KEY')"
   ]
  },
  {
   "cell_type": "markdown",
   "metadata": {},
   "source": [
    "#### Messages\n",
    "\n",
    "Chat models can use `messages`, which captures different roles within a conversation (e.g., \"system\", \"human\", \"assistant\").\n",
    "Messages also feature one or more content blocks that contain text or potentially multimodal data (e.g., images, audio, video).\n",
    "\n",
    "<h5>Let's create a list of messages. Each message can be supplied with a few things:</h5>\n",
    "\n",
    "- `content` - content of the message\n",
    "- `name` - optionally, who is creating the message\n",
    "-  `response_metadata` - optionally, a dict of metadata that is oftern specific to each model provider"
   ]
  },
  {
   "cell_type": "code",
   "execution_count": 3,
   "metadata": {},
   "outputs": [],
   "source": [
    "\n",
    "messages = [AIMessage(content=f'So you wanted to know more starwars conception idea?', name = 'AI')]\n",
    "messages.extend([HumanMessage(content=f'Yes, I am interested in starwars', name = 'Human')])\n",
    "messages.extend([AIMessage(content=f'What do you want to know about starwars?', name = 'AI')])\n",
    "messages.extend([HumanMessage(content=f'What is the starwars universe?', name = 'Human')])\n"
   ]
  },
  {
   "cell_type": "code",
   "execution_count": 4,
   "metadata": {},
   "outputs": [
    {
     "name": "stdout",
     "output_type": "stream",
     "text": [
      "==================================\u001b[1m Ai Message \u001b[0m==================================\n",
      "Name: AI\n",
      "\n",
      "So you wanted to know more starwars conception idea?\n",
      "================================\u001b[1m Human Message \u001b[0m=================================\n",
      "Name: Human\n",
      "\n",
      "Yes, I am interested in starwars\n",
      "==================================\u001b[1m Ai Message \u001b[0m==================================\n",
      "Name: AI\n",
      "\n",
      "What do you want to know about starwars?\n",
      "================================\u001b[1m Human Message \u001b[0m=================================\n",
      "Name: Human\n",
      "\n",
      "What is the starwars universe?\n"
     ]
    }
   ],
   "source": [
    "for m in messages:\n",
    "    m.pretty_print()"
   ]
  },
  {
   "cell_type": "markdown",
   "metadata": {},
   "source": [
    "### Chat Models\n",
    "\n",
    "Chat models use a sequence of message as input and support message roles.\n",
    "\n",
    "There are many chat models available out there to choose from, in our case, we will use Groq.\n",
    "\n",
    "We can load the AI model and invoke it with our list of messages.\n"
   ]
  },
  {
   "cell_type": "code",
   "execution_count": 5,
   "metadata": {},
   "outputs": [],
   "source": [
    "ai = ChatGroq(model=\"llama-3.3-70b-versatile\", api_key=GROQ_API_KEY, temperature=0, max_retries=2)"
   ]
  },
  {
   "cell_type": "code",
   "execution_count": 6,
   "metadata": {},
   "outputs": [
    {
     "name": "stdout",
     "output_type": "stream",
     "text": [
      "==================================\u001b[1m Ai Message \u001b[0m==================================\n",
      "\n",
      "The Star Wars universe, also known as the Star Wars galaxy, is a vast, fictional universe created by George Lucas. It's a sprawling, epic space opera that spans thousands of years, numerous planets, and a wide range of characters, species, and technologies.\n",
      "\n",
      "The Star Wars universe is set in a distant galaxy, where a variety of planets, star systems, and regions are connected by a network of trade routes, alliances, and conflicts. The universe is divided into several major regions, including:\n",
      "\n",
      "1. **The Core Worlds**: The central, densely populated region of the galaxy, home to the Galactic Republic and later the Galactic Empire.\n",
      "2. **The Outer Rim**: A peripheral region of the galaxy, characterized by lawlessness, poverty, and a lack of central authority.\n",
      "3. **The Unknown Regions**: A mysterious, uncharted region of the galaxy, home to many unknown worlds and civilizations.\n",
      "\n",
      "The Star Wars universe is populated by a diverse array of species, including:\n",
      "\n",
      "1. **Humans**: The most prominent species in the galaxy, with a wide range of cultures and societies.\n",
      "2. **Alien species**: Such as Wookiees, Rodians, Twi'leks, and many others, each with their own unique biology, culture, and history.\n",
      "3. **Droids**: Artificially intelligent robots, like C-3PO and R2-D2, that play important roles in the galaxy.\n",
      "\n",
      "The Star Wars universe is also home to a wide range of technologies, including:\n",
      "\n",
      "1. **Lightsabers**: Energy swords used by Jedi and Sith for close combat.\n",
      "2. **Blasters**: Energy guns used by a variety of characters for ranged combat.\n",
      "3. **Starships**: Vehicles used for space travel, such as the Millennium Falcon and X-wing fighters.\n",
      "4. **The Force**: A metaphysical energy that binds the galaxy together and is wielded by Jedi and Sith for a variety of purposes.\n",
      "\n",
      "The Star Wars universe has a rich history, with a timeline that spans thousands of years, including:\n",
      "\n",
      "1. **The Old Republic**: A ancient galactic government that existed thousands of years before the events of the original trilogy.\n",
      "2. **The Rise of the Empire**: The period during which the Galactic Empire rose to power, led by Emperor Palpatine.\n",
      "3. **The Rebellion**: The period during which the Rebel Alliance fought against the Empire, led by Princess Leia and other heroes.\n",
      "4. **The New Republic**: A new galactic government established after the fall of the Empire.\n",
      "\n",
      "This is just a brief overview of the Star Wars universe. Is there a specific aspect you'd like to know more about?\n"
     ]
    }
   ],
   "source": [
    "result = ai.invoke(messages)\n",
    "result.pretty_print()"
   ]
  },
  {
   "cell_type": "code",
   "execution_count": 7,
   "metadata": {},
   "outputs": [
    {
     "data": {
      "text/plain": [
       "{'token_usage': {'completion_tokens': 533,\n",
       "  'prompt_tokens': 90,\n",
       "  'total_tokens': 623,\n",
       "  'completion_time': 1.938181818,\n",
       "  'prompt_time': 0.007559884,\n",
       "  'queue_time': 0.243684115,\n",
       "  'total_time': 1.9457417019999999},\n",
       " 'model_name': 'llama-3.3-70b-versatile',\n",
       " 'system_fingerprint': 'fp_76dc6cf67d',\n",
       " 'finish_reason': 'stop',\n",
       " 'logprobs': None}"
      ]
     },
     "execution_count": 7,
     "metadata": {},
     "output_type": "execute_result"
    }
   ],
   "source": [
    "result.response_metadata"
   ]
  },
  {
   "cell_type": "code",
   "execution_count": 10,
   "metadata": {},
   "outputs": [
    {
     "name": "stdout",
     "output_type": "stream",
     "text": [
      "============================\u001b[1m Aimessagechunk Message \u001b[0m============================\n",
      "\n",
      "The Star Wars universe, also known as the Star Wars galaxy, is a vast, fictional universe created by George Lucas. It's a sprawling, epic space opera that spans thousands of years, numerous planets, and a wide range of characters, species, and technologies.\n",
      "\n",
      "The Star Wars universe is set in a distant galaxy, where a variety of planets, star systems, and regions are connected by a network of trade routes, alliances, and conflicts. The universe is divided into several major eras, including:\n",
      "\n",
      "1. **The Ancient Era**: A time of great turmoil and upheaval, marked by the rise and fall of ancient civilizations, such as the Rakata and the Sith.\n",
      "2. **The Old Republic Era**: A period of thousands of years, during which the Galactic Republic and the Jedi Order were formed, and the galaxy was shaped by their struggles against the Sith and other enemies.\n",
      "3. **The Imperial Era**: A time of great darkness, during which the Galactic Empire, led by Emperor Palpatine, ruled the galaxy with an iron fist, and the Rebel Alliance fought against them.\n",
      "4. **The New Republic Era**: A period of rebuilding and recovery, following the fall of the Empire, during which the New Republic was established, and the galaxy began to heal and rebuild.\n",
      "\n",
      "The Star Wars universe is home to a vast array of characters, including:\n",
      "\n",
      "* **Humans**: The most common species in the galaxy, with a wide range of cultures, societies, and individuals.\n",
      "* **Alien species**: Such as the Wookiees, Rodians, Twi'leks, and many others, each with their own unique biology, culture, and history.\n",
      "* **Jedi and Sith**: Powerful, ancient orders of warriors and sorcerers, who wield the power of the Force, a mystical energy that binds the galaxy together.\n",
      "* **Droids**: Artificially intelligent beings, such as C-3PO and R2-D2, who play important roles in the galaxy.\n",
      "\n",
      "The Star Wars universe is also home to a wide range of technologies, including:\n",
      "\n",
      "* **Starships**: Such as the Millennium Falcon, X-wings, and TIE fighters, which allow for faster-than-light travel and space combat.\n",
      "* **Lightsabers**: Energy swords wielded by Jedi and Sith, which are capable of cutting through almost any material.\n",
      "* **The Force**: A mystical energy that binds the galaxy together, and is wielded by Jedi and Sith to perform incredible feats.\n",
      "\n",
      "Overall, the Star Wars universe is a rich, complex, and immersive world, full of wonder, adventure, and excitement. It has captivated audiences for decades, and continues to inspire new generations of fans and creators.\n",
      "\n",
      "Is there a specific aspect of the Star Wars universe you'd like to know more about?\n"
     ]
    }
   ],
   "source": [
    "stream = ai.stream(messages)\n",
    "full = next(stream)\n",
    "for chunk in stream:\n",
    "    full += chunk\n",
    "full.pretty_print()"
   ]
  },
  {
   "cell_type": "markdown",
   "metadata": {},
   "source": [
    "<h4> Tools </h4>\n",
    "\n",
    "Tools are an additional capability provided to LLMs that can be used to interact with outside world.\n",
    "\n",
    "It could be leveraged to control different parts of the code, call an external API, interact with database, trigger a lambda function, etc.\n",
    "\n",
    "Tools can be as simple as Python functions or as complex as integrating LLM with RAG for real time analysis."
   ]
  },
  {
   "cell_type": "code",
   "execution_count": 11,
   "metadata": {},
   "outputs": [],
   "source": [
    "@tool\n",
    "def multiply(a:int, b:int) -> int:\n",
    "    \"\"\"\n",
    "    Multiply a with b\n",
    "    \n",
    "    Arguments-\n",
    "    a: int\n",
    "    b: int\n",
    "    result = a * b\n",
    "    \"\"\"\n",
    "    return a *b\n",
    "\n",
    "\n",
    "@tool\n",
    "def divide(a:int, b:int) -> float:\n",
    "    \"\"\"\n",
    "    divide a by b\n",
    "    \n",
    "    Arguments-\n",
    "    a: int\n",
    "    b: int\n",
    "    result = a / b\n",
    "    \"\"\"\n",
    "    return a / b"
   ]
  },
  {
   "cell_type": "code",
   "execution_count": 12,
   "metadata": {},
   "outputs": [],
   "source": [
    "ai_tools = ai.bind_tools([multiply,  divide])"
   ]
  },
  {
   "cell_type": "code",
   "execution_count": 15,
   "metadata": {},
   "outputs": [],
   "source": [
    "tool_call = ai_tools.invoke([HumanMessage(content='Multiply 2 by 3', name='Human')])"
   ]
  },
  {
   "cell_type": "code",
   "execution_count": 16,
   "metadata": {},
   "outputs": [
    {
     "data": {
      "text/plain": [
       "AIMessage(content='', additional_kwargs={'tool_calls': [{'id': 'call_pmzq', 'function': {'arguments': '{\"a\": 2, \"b\": 3}', 'name': 'multiply'}, 'type': 'function'}]}, response_metadata={'token_usage': {'completion_tokens': 19, 'prompt_tokens': 339, 'total_tokens': 358, 'completion_time': 0.069090909, 'prompt_time': 0.015609283, 'queue_time': 0.23324847099999999, 'total_time': 0.084700192}, 'model_name': 'llama-3.3-70b-versatile', 'system_fingerprint': 'fp_e669a124b2', 'finish_reason': 'tool_calls', 'logprobs': None}, id='run-8f8fbc21-d8eb-4d08-acc7-40df5bd8b50a-0', tool_calls=[{'name': 'multiply', 'args': {'a': 2, 'b': 3}, 'id': 'call_pmzq', 'type': 'tool_call'}], usage_metadata={'input_tokens': 339, 'output_tokens': 19, 'total_tokens': 358})"
      ]
     },
     "execution_count": 16,
     "metadata": {},
     "output_type": "execute_result"
    }
   ],
   "source": [
    "tool_call"
   ]
  },
  {
   "cell_type": "markdown",
   "metadata": {},
   "source": [
    "<h5>ToolNode</h5>\n",
    "\n",
    "It is basically a LangChain Runnable that takes graph state (with a list of messages) as input and outputs state update with the result of tool calls. \n",
    "\n",
    "The state must have `messages` channel with an appropriate reducer for ToolNode to work. Multiple tools can be passed to this node.\n",
    "\n",
    "There are two ways to call `ToolNode` i.e Either manually using an AIMessage or use a ChatModel with bind tools to call ToolNode\n",
    "\n",
    "If triggered manually, the last AIMessage must contain the `tool_calls` parameter to determine which tool to call. \n",
    "\n",
    "If the input is coming from ChatModel, that already contains the `tool_calls` parameter."
   ]
  },
  {
   "cell_type": "code",
   "execution_count": 17,
   "metadata": {},
   "outputs": [],
   "source": [
    "from typing import Annotated\n",
    "from langchain_core.messages import AnyMessage\n",
    "from langgraph.graph.message import add_messages\n",
    "\n",
    "class MessagesState(TypedDict):\n",
    "    messages: Annotated[list[AnyMessage], add_messages]"
   ]
  },
  {
   "cell_type": "code",
   "execution_count": 18,
   "metadata": {},
   "outputs": [
    {
     "data": {
      "text/plain": [
       "[AIMessage(content='Hello, I am a calculator assistant. I can help you with mathematical operations.', additional_kwargs={}, response_metadata={}, name='AI', id='c432453a-8915-49a0-995e-bcd09d52b695'),\n",
       " HumanMessage(content='I am looking for information on how to perform exponentiation', additional_kwargs={}, response_metadata={}, name='Human', id='8ab067fb-99dc-4f2a-8b95-2e3bbcaf8741'),\n",
       " AIMessage(content='I can help you with that. What is the base number and the exponent number?', additional_kwargs={}, response_metadata={}, name='AI', id='724ddc44-4d3b-472d-a347-4d2b867f2bcb')]"
      ]
     },
     "execution_count": 18,
     "metadata": {},
     "output_type": "execute_result"
    }
   ],
   "source": [
    "# Let's define an initial state with an initial message\n",
    "initial_messages= [AIMessage(content='Hello, I am a calculator assistant. I can help you with mathematical operations.', name='AI'),\n",
    "                   HumanMessage(content='I am looking for information on how to perform exponentiation', name='Human')]\n",
    "\n",
    "# New message to add\n",
    "new_message = AIMessage(content='I can help you with that. What is the base number and the exponent number?', name='AI')\n",
    "\n",
    "# test \n",
    "add_messages(initial_messages, new_message)"
   ]
  },
  {
   "cell_type": "code",
   "execution_count": 19,
   "metadata": {},
   "outputs": [
    {
     "data": {
      "image/png": "[encoded data removed]",
      "text/plain": [
       "<IPython.core.display.Image object>"
      ]
     },
     "metadata": {},
     "output_type": "display_data"
    }
   ],
   "source": [
    "# Since this message update is so common, Langgraph has prebuilt MessagesState\n",
    "from langgraph.graph import MessagesState # MessagesState and State work equivalently\n",
    "from langgraph.prebuilt import ToolNode\n",
    "from langgraph.prebuilt import tools_condition\n",
    "# Let's build our graph\n",
    "\n",
    "class MessagesState(MessagesState):\n",
    "    messages: Annotated[list[AnyMessage], add_messages] # we need to add this line to the class to make it a Pydantic model\n",
    "\n",
    "def should_continue(state: MessagesState):\n",
    "    messages = state[\"messages\"]\n",
    "    if messages[-1].tool_calls:\n",
    "        return 'tools'\n",
    "    return END\n",
    "\n",
    "# node function\n",
    "def model_with_tools(state: MessagesState):\n",
    "    return {\"messages\": [ai_tools.invoke(state[\"messages\"])]} # invoke the tool_calling_ai tool\n",
    "\n",
    "tool_node =ToolNode([multiply, divide])\n",
    "# build graph\n",
    "builder = StateGraph(MessagesState)\n",
    "builder.add_node('agent', model_with_tools)\n",
    "builder.add_node('tools', tool_node)\n",
    "builder.add_edge(START, 'agent')\n",
    "builder.add_conditional_edges('agent', should_continue, ['tools', END])\n",
    "builder.add_edge('tools', 'agent')\n",
    "# builder.add_edge('agent', END)\n",
    "\n",
    "app = builder.compile()\n",
    "\n",
    "display(Image(app.get_graph().draw_mermaid_png()))"
   ]
  },
  {
   "cell_type": "code",
   "execution_count": 17,
   "metadata": {},
   "outputs": [
    {
     "data": {
      "text/plain": [
       "{'messages': [HumanMessage(content='Hello!', additional_kwargs={}, response_metadata={}, id='07475d6f-dc57-4b0d-8cd0-8327b4914bff'),\n",
       "  AIMessage(content=\"I'm here to help. Is there something I can help you with, or would you like to know the current weather or the coolest cities?\", additional_kwargs={}, response_metadata={'token_usage': {'completion_tokens': 30, 'prompt_tokens': 262, 'total_tokens': 292, 'completion_time': 0.109090909, 'prompt_time': 0.01318954, 'queue_time': 0.282604471, 'total_time': 0.122280449}, 'model_name': 'llama-3.3-70b-versatile', 'system_fingerprint': 'fp_2ca0059abb', 'finish_reason': 'stop', 'logprobs': None}, id='run-8acbf4ad-80ac-4a3e-872c-b30b485a566c-0', usage_metadata={'input_tokens': 262, 'output_tokens': 30, 'total_tokens': 292})]}"
      ]
     },
     "execution_count": 17,
     "metadata": {},
     "output_type": "execute_result"
    }
   ],
   "source": [
    "message_invoke = app.invoke({\"messages\" : HumanMessage(content='Hello!')} )\n",
    "message_invoke"
   ]
  },
  {
   "cell_type": "code",
   "execution_count": 18,
   "metadata": {},
   "outputs": [
    {
     "data": {
      "text/plain": [
       "{'messages': [HumanMessage(content='You are a weather assitant who has all the tools for answering queries about the weather. Use those tools and use the tools no more than 3 times and tell What\"s the weather in sf?', additional_kwargs={}, response_metadata={}, id='0599e693-56d9-4082-88cd-b8e99db2c57f'),\n",
       "  AIMessage(content='', additional_kwargs={'tool_calls': [{'id': 'call_qk7f', 'function': {'arguments': '{\"location\": \"San Francisco\"}', 'name': 'get_weather'}, 'type': 'function'}]}, response_metadata={'token_usage': {'completion_tokens': 15, 'prompt_tokens': 300, 'total_tokens': 315, 'completion_time': 0.054545455, 'prompt_time': 0.015052834, 'queue_time': 0.22704796000000002, 'total_time': 0.069598289}, 'model_name': 'llama-3.3-70b-versatile', 'system_fingerprint': 'fp_2ca0059abb', 'finish_reason': 'tool_calls', 'logprobs': None}, id='run-8f0fe816-4b1f-4591-9934-d9db980d736b-0', tool_calls=[{'name': 'get_weather', 'args': {'location': 'San Francisco'}, 'id': 'call_qk7f', 'type': 'tool_call'}], usage_metadata={'input_tokens': 300, 'output_tokens': 15, 'total_tokens': 315}),\n",
       "  ToolMessage(content=\"It's 60 degrees and foggy.\", name='get_weather', id='0942b8a0-cf1e-4a64-b7b0-6dd785b9d13f', tool_call_id='call_qk7f'),\n",
       "  AIMessage(content='The current weather in San Francisco is 60 degrees and foggy.', additional_kwargs={}, response_metadata={'token_usage': {'completion_tokens': 15, 'prompt_tokens': 334, 'total_tokens': 349, 'completion_time': 0.054545455, 'prompt_time': 0.015090944, 'queue_time': 0.23394627, 'total_time': 0.069636399}, 'model_name': 'llama-3.3-70b-versatile', 'system_fingerprint': 'fp_2ca0059abb', 'finish_reason': 'stop', 'logprobs': None}, id='run-8cbfd58a-0fff-44db-b0e7-9082fdfb0864-0', usage_metadata={'input_tokens': 334, 'output_tokens': 15, 'total_tokens': 349})]}"
      ]
     },
     "execution_count": 18,
     "metadata": {},
     "output_type": "execute_result"
    }
   ],
   "source": [
    "message_invoke = app.invoke({\"messages\" :HumanMessage(content = 'You are a weather assitant who has all the tools for answering queries about the weather. Use those tools and use the tools no more than 3 times and tell What\"s the weather in sf?')} )\n",
    "message_invoke"
   ]
  },
  {
   "cell_type": "code",
   "execution_count": 19,
   "metadata": {},
   "outputs": [
    {
     "data": {
      "text/plain": [
       "{'messages': [HumanMessage(content='You are a weather assitant who has all the tools for answering queries about the weather. Use those tools no more than 3 times and tell me What\"s the weather in the coolest cities?', additional_kwargs={}, response_metadata={}, id='c9bdeb79-d375-41e2-a9a6-12202483f538'),\n",
       "  AIMessage(content='', additional_kwargs={'tool_calls': [{'id': 'call_xg66', 'function': {'arguments': '{}', 'name': 'get_coolest_cities'}, 'type': 'function'}, {'id': 'call_r7yz', 'function': {'arguments': '{\"location\": \"First coolest city\"}', 'name': 'get_weather'}, 'type': 'function'}, {'id': 'call_tgk3', 'function': {'arguments': '{\"location\": \"Second coolest city\"}', 'name': 'get_weather'}, 'type': 'function'}]}, response_metadata={'token_usage': {'completion_tokens': 42, 'prompt_tokens': 597, 'total_tokens': 639, 'completion_time': 0.152727273, 'prompt_time': 0.026998918, 'queue_time': -0.17295496800000001, 'total_time': 0.179726191}, 'model_name': 'llama-3.3-70b-versatile', 'system_fingerprint': 'fp_e669a124b2', 'finish_reason': 'tool_calls', 'logprobs': None}, id='run-e154be9b-a19a-4440-a4c8-c2f0545f902d-0', tool_calls=[{'name': 'get_coolest_cities', 'args': {}, 'id': 'call_xg66', 'type': 'tool_call'}, {'name': 'get_weather', 'args': {'location': 'First coolest city'}, 'id': 'call_r7yz', 'type': 'tool_call'}, {'name': 'get_weather', 'args': {'location': 'Second coolest city'}, 'id': 'call_tgk3', 'type': 'tool_call'}], usage_metadata={'input_tokens': 597, 'output_tokens': 42, 'total_tokens': 639}),\n",
       "  ToolMessage(content='sf, nyc', name='get_coolest_cities', id='90417f52-a95b-4e79-a290-049af60cc661', tool_call_id='call_xg66'),\n",
       "  ToolMessage(content=\"It's 90 degrees and sunny.\", name='get_weather', id='2c1f1a1c-0127-44bb-ab73-2d95f57431cc', tool_call_id='call_r7yz'),\n",
       "  ToolMessage(content=\"It's 90 degrees and sunny.\", name='get_weather', id='d744f4ae-9a4f-4b74-a611-620c992439f8', tool_call_id='call_tgk3'),\n",
       "  AIMessage(content='The weather in the coolest cities is 90 degrees and sunny.', additional_kwargs={}, response_metadata={'token_usage': {'completion_tokens': 14, 'prompt_tokens': 383, 'total_tokens': 397, 'completion_time': 0.050909091, 'prompt_time': 0.018230535, 'queue_time': 0.233534258, 'total_time': 0.069139626}, 'model_name': 'llama-3.3-70b-versatile', 'system_fingerprint': 'fp_e669a124b2', 'finish_reason': 'stop', 'logprobs': None}, id='run-64664cdc-a582-4f4b-9ed4-650a3023b3ad-0', usage_metadata={'input_tokens': 383, 'output_tokens': 14, 'total_tokens': 397})]}"
      ]
     },
     "execution_count": 19,
     "metadata": {},
     "output_type": "execute_result"
    }
   ],
   "source": [
    "message_invoke = app.invoke({\"messages\" :HumanMessage(content = 'You are a weather assitant who has all the tools for answering queries about the weather. Use those tools no more than 3 times and tell me What\"s the weather in the coolest cities?')} )\n",
    "message_invoke"
   ]
  },
  {
   "cell_type": "code",
   "execution_count": 20,
   "metadata": {},
   "outputs": [
    {
     "name": "stdout",
     "output_type": "stream",
     "text": [
      "================================\u001b[1m Human Message \u001b[0m=================================\n",
      "\n",
      "You are a weather assitant who has all the tools for answering queries about the weather.                                                     Use those tools no more than 3 times and tell me What\"s the weather in sf?\n",
      "==================================\u001b[1m Ai Message \u001b[0m==================================\n",
      "Tool Calls:\n",
      "  get_weather (call_8bnr)\n",
      " Call ID: call_8bnr\n",
      "  Args:\n",
      "    location: San Francisco\n",
      "=================================\u001b[1m Tool Message \u001b[0m=================================\n",
      "Name: get_weather\n",
      "\n",
      "It's 60 degrees and foggy.\n",
      "==================================\u001b[1m Ai Message \u001b[0m==================================\n",
      "\n",
      "The current weather in San Francisco is 60 degrees and foggy.\n"
     ]
    }
   ],
   "source": [
    "for chunk in app.stream({\"messages\" :HumanMessage(content = 'You are a weather assitant who has all the tools for answering queries about the weather.\\\n",
    "                                                     Use those tools no more than 3 times and tell me What\"s the weather in sf?')}, stream_mode = 'values' ):\n",
    "    chunk[\"messages\"][-1].pretty_print()"
   ]
  },
  {
   "cell_type": "code",
   "execution_count": 21,
   "metadata": {},
   "outputs": [
    {
     "name": "stdout",
     "output_type": "stream",
     "text": [
      "================================\u001b[1m Human Message \u001b[0m=================================\n",
      "\n",
      "You are a weather assitant who has all the tools for answering queries about the weather.                                                     Use those tools no more than 3 times and tell me What\"s the weather in the coolest cities?\n",
      "==================================\u001b[1m Ai Message \u001b[0m==================================\n",
      "Tool Calls:\n",
      "  get_coolest_cities (call_mg7b)\n",
      " Call ID: call_mg7b\n",
      "  Args:\n",
      "  get_weather (call_3e9q)\n",
      " Call ID: call_3e9q\n",
      "  Args:\n",
      "    location: coolest city\n",
      "  get_weather (call_19qs)\n",
      " Call ID: call_19qs\n",
      "  Args:\n",
      "    location: coolest city\n",
      "=================================\u001b[1m Tool Message \u001b[0m=================================\n",
      "Name: get_weather\n",
      "\n",
      "It's 90 degrees and sunny.\n",
      "==================================\u001b[1m Ai Message \u001b[0m==================================\n",
      "Tool Calls:\n",
      "  get_coolest_cities (call_0s7t)\n",
      " Call ID: call_0s7t\n",
      "  Args:\n",
      "  get_weather (call_5m0t)\n",
      " Call ID: call_5m0t\n",
      "  Args:\n",
      "    location: San Francisco\n",
      "  get_weather (call_6ws3)\n",
      " Call ID: call_6ws3\n",
      "  Args:\n",
      "    location: New York City\n",
      "=================================\u001b[1m Tool Message \u001b[0m=================================\n",
      "Name: get_weather\n",
      "\n",
      "It's 90 degrees and sunny.\n",
      "==================================\u001b[1m Ai Message \u001b[0m==================================\n",
      "\n",
      "The weather in the coolest cities, San Francisco and New York City, is 60 degrees and foggy in San Francisco, and 90 degrees and sunny in New York City.\n"
     ]
    }
   ],
   "source": [
    "for chunk in app.stream({\"messages\" :HumanMessage(content = 'You are a weather assitant who has all the tools for answering queries about the weather.\\\n",
    "                                                     Use those tools no more than 3 times and tell me What\"s the weather in the coolest cities?')}, stream_mode = 'values' ):\n",
    "    chunk[\"messages\"][-1].pretty_print()"
   ]
  },
  {
   "cell_type": "markdown",
   "metadata": {},
   "source": [
    "We can see here the model is not that smart to understand that get_coolest_cities has 'nyc','sf' as arguments, instead the model used the argument as 'location':'coolest city' with AI sending the call to tool.\n",
    "\n",
    "If we don't explicitly tell the model to not iterate more than 3 times, it goes into graph recursion error, which is dangerous because each call to the model consumes your API calls. "
   ]
  },
  {
   "cell_type": "code",
   "execution_count": 22,
   "metadata": {},
   "outputs": [
    {
     "name": "stdout",
     "output_type": "stream",
     "text": [
      "langsmith-project\n"
     ]
    }
   ],
   "source": [
    "# set the langchain project as a custom name\n",
    "load_dotenv()\n",
    "os.environ['LANGSMITH_PROJECT'] = 'langsmith-project'\n",
    "print(os.getenv('LANGSMITH_PROJECT'))"
   ]
  },
  {
   "cell_type": "code",
   "execution_count": 23,
   "metadata": {},
   "outputs": [
    {
     "name": "stdout",
     "output_type": "stream",
     "text": [
      "================================\u001b[1m Human Message \u001b[0m=================================\n",
      "\n",
      "You are a weather assitant who has all the tools for answering queries about the weather.                                                     Use those tools no more than 3 times and tell me What\"s the weather in the coolest cities?\n",
      "==================================\u001b[1m Ai Message \u001b[0m==================================\n",
      "Tool Calls:\n",
      "  get_coolest_cities (call_ywbd)\n",
      " Call ID: call_ywbd\n",
      "  Args:\n",
      "  get_weather (call_k8tt)\n",
      " Call ID: call_k8tt\n",
      "  Args:\n",
      "    location: coolest city\n",
      "  get_weather (call_rw1k)\n",
      " Call ID: call_rw1k\n",
      "  Args:\n",
      "    location: coolest city\n",
      "=================================\u001b[1m Tool Message \u001b[0m=================================\n",
      "Name: get_weather\n",
      "\n",
      "It's 90 degrees and sunny.\n",
      "==================================\u001b[1m Ai Message \u001b[0m==================================\n",
      "Tool Calls:\n",
      "  get_coolest_cities (call_ac78)\n",
      " Call ID: call_ac78\n",
      "  Args:\n",
      "  get_weather (call_zy5q)\n",
      " Call ID: call_zy5q\n",
      "  Args:\n",
      "    location: San Francisco\n",
      "  get_weather (call_grcx)\n",
      " Call ID: call_grcx\n",
      "  Args:\n",
      "    location: New York City\n",
      "=================================\u001b[1m Tool Message \u001b[0m=================================\n",
      "Name: get_weather\n",
      "\n",
      "It's 90 degrees and sunny.\n",
      "==================================\u001b[1m Ai Message \u001b[0m==================================\n",
      "\n",
      "The weather in the coolest cities, San Francisco and New York City, is 60 degrees and foggy in San Francisco, and 90 degrees and sunny in New York City.\n"
     ]
    }
   ],
   "source": [
    "for chunk in app.stream({\"messages\" :HumanMessage(content = 'You are a weather assitant who has all the tools for answering queries about the weather.\\\n",
    "                                                     Use those tools no more than 3 times and tell me What\"s the weather in the coolest cities?')}, stream_mode = 'values' ):\n",
    "    chunk[\"messages\"][-1].pretty_print()"
   ]
  },
  {
   "cell_type": "code",
   "execution_count": null,
   "metadata": {},
   "outputs": [],
   "source": []
  }
 ],
 "metadata": {
  "kernelspec": {
   "display_name": "ai-agent-langgraph-env",
   "language": "python",
   "name": "python3"
  },
  "language_info": {
   "codemirror_mode": {
    "name": "ipython",
    "version": 3
   },
   "file_extension": ".py",
   "mimetype": "text/x-python",
   "name": "python",
   "nbconvert_exporter": "python",
   "pygments_lexer": "ipython3",
   "version": "3.11.0"
  }
 },
 "nbformat": 4,
 "nbformat_minor": 2
}
