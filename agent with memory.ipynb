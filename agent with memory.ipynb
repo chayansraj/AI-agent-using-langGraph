{
 "cells": [
  {
   "cell_type": "markdown",
   "metadata": {},
   "source": [
    "## Goal\n",
    "\n",
    "Build a ReAct architecture that takes feedback from the tool calls.\n",
    "- Use a prebuilt `ToolNode` and pass in the list of tools.\n",
    "- Use `tools_condition` edge to route the llm's output.\n",
    "- If the llm calls the tool, send the feedback to llm and repeat.\n",
    "- Include memory retention in agent's workflow in order to associate the tasks."
   ]
  },
  {
   "cell_type": "code",
   "execution_count": 1,
   "metadata": {},
   "outputs": [],
   "source": [
    "# general imports\n",
    "import sys\n",
    "import os, getpass\n",
    "from openai import OpenAI\n",
    "from utils import *\n",
    "from IPython.display import Image\n",
    "from pprint import pprint\n",
    "\n",
    "# Import langgraph modules to create and visualize the graph\n",
    "from langgraph.graph import StateGraph, START, END\n",
    "from langchain_core.messages import AIMessage, HumanMessage, SystemMessage \n",
    "from typing_extensions import TypedDict\n",
    "from typing import Literal\n",
    "from pydantic import BaseModel, Field\n",
    "\n",
    "# Install the missing package\n",
    "# %pip install langchain_anthropic\n",
    "# %pip install langchain_groq\n",
    "from langchain_groq import ChatGroq\n",
    "from langchain_anthropic import ChatAnthropic\n",
    "from langchain_core.tools import tool\n",
    "\n"
   ]
  },
  {
   "cell_type": "code",
   "execution_count": 2,
   "metadata": {},
   "outputs": [
    {
     "name": "stdout",
     "output_type": "stream",
     "text": [
      "API key found in .env file for GROQ_API_KEY\n",
      "API key found in .env file for ANTHROPIC_API_KEY\n"
     ]
    }
   ],
   "source": [
    "# Let's make sure we have the API key set\n",
    "load_dotenv()\n",
    "GROQ_API_KEY = set_api_key('GROQ_API_KEY')\n",
    "ANTHROPIC_API_KEY = set_api_key('ANTHROPIC_API_KEY')"
   ]
  },
  {
   "cell_type": "markdown",
   "metadata": {},
   "source": [
    "#### Messages\n",
    "\n",
    "Chat models can use `messages`, which captures different roles within a conversation (e.g., \"system\", \"human\", \"assistant\").\n",
    "Messages also feature one or more content blocks that contain text or potentially multimodal data (e.g., images, audio, video).\n",
    "\n",
    "<h5>Let's create a list of messages. Each message can be supplied with a few things:</h5>\n",
    "\n",
    "- `content` - content of the message\n",
    "- `name` - optionally, who is creating the message\n",
    "-  `response_metadata` - optionally, a dict of metadata that is oftern specific to each model provider"
   ]
  },
  {
   "cell_type": "code",
   "execution_count": 3,
   "metadata": {},
   "outputs": [],
   "source": [
    "\n",
    "messages = [AIMessage(content=f'So you wanted to know more starwars conception idea?', name = 'AI')]\n",
    "messages.extend([HumanMessage(content=f'Yes, I am interested in starwars', name = 'Human')])\n",
    "messages.extend([AIMessage(content=f'What do you want to know about starwars?', name = 'AI')])\n",
    "messages.extend([HumanMessage(content=f'What is the starwars universe?', name = 'Human')])\n"
   ]
  },
  {
   "cell_type": "code",
   "execution_count": 4,
   "metadata": {},
   "outputs": [
    {
     "name": "stdout",
     "output_type": "stream",
     "text": [
      "==================================\u001b[1m Ai Message \u001b[0m==================================\n",
      "Name: AI\n",
      "\n",
      "So you wanted to know more starwars conception idea?\n",
      "================================\u001b[1m Human Message \u001b[0m=================================\n",
      "Name: Human\n",
      "\n",
      "Yes, I am interested in starwars\n",
      "==================================\u001b[1m Ai Message \u001b[0m==================================\n",
      "Name: AI\n",
      "\n",
      "What do you want to know about starwars?\n",
      "================================\u001b[1m Human Message \u001b[0m=================================\n",
      "Name: Human\n",
      "\n",
      "What is the starwars universe?\n"
     ]
    }
   ],
   "source": [
    "for m in messages:\n",
    "    m.pretty_print()"
   ]
  },
  {
   "cell_type": "markdown",
   "metadata": {},
   "source": [
    "### Chat Models\n",
    "\n",
    "Chat models use a sequence of message as input and support message roles.\n",
    "\n",
    "There are many chat models available out there to choose from, in our case, we will use Groq.\n",
    "\n",
    "We can load the AI model and invoke it with our list of messages.\n"
   ]
  },
  {
   "cell_type": "code",
   "execution_count": 5,
   "metadata": {},
   "outputs": [],
   "source": [
    "ai = ChatGroq(model=\"llama-3.3-70b-versatile\", api_key=GROQ_API_KEY, temperature=0, max_retries=2)"
   ]
  },
  {
   "cell_type": "code",
   "execution_count": 6,
   "metadata": {},
   "outputs": [
    {
     "name": "stdout",
     "output_type": "stream",
     "text": [
      "==================================\u001b[1m Ai Message \u001b[0m==================================\n",
      "\n",
      "The Star Wars universe, also known as the Star Wars galaxy, is a vast, fictional universe created by George Lucas. It's a sprawling, epic space opera that spans thousands of years, numerous planets, and a wide range of characters, species, and technologies.\n",
      "\n",
      "The Star Wars universe is set in a distant galaxy, where a variety of planets, star systems, and regions are connected by a network of trade routes, alliances, and conflicts. The universe is divided into several major regions, including:\n",
      "\n",
      "1. **The Core Worlds**: The central, densely populated region of the galaxy, home to the Galactic Republic and later the Galactic Empire.\n",
      "2. **The Outer Rim**: A peripheral region of the galaxy, characterized by lawlessness, poverty, and a lack of central authority.\n",
      "3. **The Unknown Regions**: A mysterious, uncharted area of the galaxy, home to many unknown worlds and civilizations.\n",
      "\n",
      "The Star Wars universe is populated by a diverse array of species, including:\n",
      "\n",
      "1. **Humans**: The most prominent species in the galaxy, with a wide range of cultures and societies.\n",
      "2. **Alien species**: Such as Wookiees, Rodians, Twi'leks, and many others, each with their own unique biology, culture, and history.\n",
      "3. **Droids**: Artificially intelligent robots, like C-3PO and R2-D2, that play important roles in the galaxy.\n",
      "\n",
      "The Star Wars universe is also home to a wide range of technologies, including:\n",
      "\n",
      "1. **Lightsabers**: Energy swords used by Jedi and Sith for close combat.\n",
      "2. **Blasters**: Energy guns used by a variety of characters for ranged combat.\n",
      "3. **Starships**: Vehicles used for space travel, such as the Millennium Falcon and X-wing fighters.\n",
      "4. **The Force**: A metaphysical energy that binds the galaxy together, used by Jedi and Sith for a variety of purposes, including telekinesis, telepathy, and precognition.\n",
      "\n",
      "The Star Wars universe has a rich history, with a timeline that spans thousands of years, including:\n",
      "\n",
      "1. **The Old Republic**: A ancient galactic government that existed thousands of years before the events of the original trilogy.\n",
      "2. **The Rise of the Empire**: The fall of the Old Republic and the rise of the Galactic Empire, led by Emperor Palpatine.\n",
      "3. **The Rebellion**: The struggle of the Rebel Alliance against the Empire, led by Princess Leia and later the New Republic.\n",
      "4. **The New Republic**: A new galactic government established after the fall of the Empire.\n",
      "\n",
      "This is just a brief overview of the Star Wars universe. Is there a specific aspect you'd like to know more about?\n"
     ]
    }
   ],
   "source": [
    "result = ai.invoke(messages)\n",
    "result.pretty_print()"
   ]
  },
  {
   "cell_type": "code",
   "execution_count": 7,
   "metadata": {},
   "outputs": [
    {
     "data": {
      "text/plain": [
       "{'token_usage': {'completion_tokens': 547,\n",
       "  'prompt_tokens': 90,\n",
       "  'total_tokens': 637,\n",
       "  'completion_time': 1.989090909,\n",
       "  'prompt_time': 0.006258736,\n",
       "  'queue_time': 0.247944797,\n",
       "  'total_time': 1.9953496450000001},\n",
       " 'model_name': 'llama-3.3-70b-versatile',\n",
       " 'system_fingerprint': 'fp_e669a124b2',\n",
       " 'finish_reason': 'stop',\n",
       " 'logprobs': None}"
      ]
     },
     "execution_count": 7,
     "metadata": {},
     "output_type": "execute_result"
    }
   ],
   "source": [
    "result.response_metadata"
   ]
  },
  {
   "cell_type": "code",
   "execution_count": 8,
   "metadata": {},
   "outputs": [
    {
     "name": "stdout",
     "output_type": "stream",
     "text": [
      "============================\u001b[1m Aimessagechunk Message \u001b[0m============================\n",
      "\n",
      "The Star Wars universe, also known as the Star Wars galaxy, is a vast, fictional universe created by George Lucas. It's a sprawling, epic space opera that spans thousands of years, numerous planets, and a wide range of alien species, technologies, and cultures.\n",
      "\n",
      "The Star Wars universe is set in a distant galaxy, where a variety of planets, star systems, and regions are connected by a network of trade routes, alliances, and conflicts. The universe is divided into several major regions, including:\n",
      "\n",
      "1. **The Core Worlds**: The central, densely populated region of the galaxy, home to the Galactic Republic and later the Galactic Empire.\n",
      "2. **The Outer Rim**: A peripheral region of the galaxy, characterized by lawlessness, poverty, and a lack of central authority.\n",
      "3. **The Unknown Regions**: A mysterious, uncharted area of the galaxy, home to many unknown worlds and civilizations.\n",
      "\n",
      "The Star Wars universe is populated by a diverse array of species, including:\n",
      "\n",
      "1. **Humans**: The dominant species in the galaxy, with a wide range of cultures and societies.\n",
      "2. **Alien species**: Such as Wookiees, Rodians, Twi'leks, and many others, each with their own unique biology, culture, and history.\n",
      "3. **Droids**: Artificially intelligent robots, like C-3PO and R2-D2, that play important roles in the galaxy.\n",
      "\n",
      "The Star Wars universe is also home to a variety of factions, organizations, and governments, including:\n",
      "\n",
      "1. **The Galactic Republic**: A democratic government that spans the galaxy, later replaced by the Galactic Empire.\n",
      "2. **The Galactic Empire**: A totalitarian regime that rules the galaxy through fear and tyranny.\n",
      "3. **The Rebel Alliance**: A coalition of rebel groups fighting against the Empire.\n",
      "4. **The Jedi Order**: A ancient, mystical order of peacekeepers and guardians who wield the power of the Force.\n",
      "5. **The Sith**: A dark, ancient order of warriors who seek power and control through the dark side of the Force.\n",
      "\n",
      "The Star Wars universe is rich in history, with a complex timeline that spans thousands of years, including:\n",
      "\n",
      "1. **The Ancient Republic**: A ancient, mythical era of galactic history.\n",
      "2. **The Old Republic**: A period of galactic history marked by conflict and upheaval.\n",
      "3. **The Rise of the Empire**: A period of galactic history marked by the fall of the Republic and the rise of the Empire.\n",
      "4. **The Rebellion**: A period of galactic history marked by the Rebel Alliance's fight against the Empire.\n",
      "\n",
      "This is just a brief overview of the Star Wars universe. Is there a specific aspect of the universe you'd like to know more about?\n"
     ]
    }
   ],
   "source": [
    "stream = ai.stream(messages)\n",
    "full = next(stream)\n",
    "for chunk in stream:\n",
    "    full += chunk\n",
    "full.pretty_print()"
   ]
  },
  {
   "cell_type": "markdown",
   "metadata": {},
   "source": [
    "<h4> Tools </h4>\n",
    "\n",
    "Tools are an additional capability provided to LLMs that can be used to interact with outside world.\n",
    "\n",
    "It could be leveraged to control different parts of the code, call an external API, interact with database, trigger a lambda function, etc.\n",
    "\n",
    "Tools can be as simple as Python functions or as complex as integrating LLM with RAG for real time analysis."
   ]
  },
  {
   "cell_type": "code",
   "execution_count": 9,
   "metadata": {},
   "outputs": [],
   "source": [
    "@tool\n",
    "def multiply(a:int, b:int) -> int:\n",
    "    \"\"\"\n",
    "    Multiply a with b\n",
    "    \n",
    "    Arguments-\n",
    "    a: int\n",
    "    b: int\n",
    "    result = a * b\n",
    "    \"\"\"\n",
    "    return a *b\n",
    "\n",
    "\n",
    "@tool\n",
    "def divide(a:int, b:int) -> float:\n",
    "    \"\"\"\n",
    "    divide a by b\n",
    "    \n",
    "    Arguments-\n",
    "    a: int\n",
    "    b: int\n",
    "    result = a / b\n",
    "    \"\"\"\n",
    "    return a / b"
   ]
  },
  {
   "cell_type": "code",
   "execution_count": 10,
   "metadata": {},
   "outputs": [],
   "source": [
    "ai_tools = ai.bind_tools([multiply,  divide])"
   ]
  },
  {
   "cell_type": "code",
   "execution_count": 11,
   "metadata": {},
   "outputs": [],
   "source": [
    "tool_call = ai_tools.invoke([HumanMessage(content='Multiply 2 by 3', name='Human')])"
   ]
  },
  {
   "cell_type": "code",
   "execution_count": 12,
   "metadata": {},
   "outputs": [
    {
     "data": {
      "text/plain": [
       "AIMessage(content='', additional_kwargs={'tool_calls': [{'id': 'call_ng4g', 'function': {'arguments': '{\"a\": 2, \"b\": 3}', 'name': 'multiply'}, 'type': 'function'}]}, response_metadata={'token_usage': {'completion_tokens': 19, 'prompt_tokens': 339, 'total_tokens': 358, 'completion_time': 0.069090909, 'prompt_time': 0.018959522, 'queue_time': 0.248498096, 'total_time': 0.088050431}, 'model_name': 'llama-3.3-70b-versatile', 'system_fingerprint': 'fp_e669a124b2', 'finish_reason': 'tool_calls', 'logprobs': None}, id='run-b6daa871-efaf-4834-91a9-20d1792de26e-0', tool_calls=[{'name': 'multiply', 'args': {'a': 2, 'b': 3}, 'id': 'call_ng4g', 'type': 'tool_call'}], usage_metadata={'input_tokens': 339, 'output_tokens': 19, 'total_tokens': 358})"
      ]
     },
     "execution_count": 12,
     "metadata": {},
     "output_type": "execute_result"
    }
   ],
   "source": [
    "tool_call"
   ]
  },
  {
   "cell_type": "markdown",
   "metadata": {},
   "source": [
    "<h5>ToolNode</h5>\n",
    "\n",
    "It is basically a LangChain Runnable that takes graph state (with a list of messages) as input and outputs state update with the result of tool calls. \n",
    "\n",
    "The state must have `messages` channel with an appropriate reducer for ToolNode to work. Multiple tools can be passed to this node.\n",
    "\n",
    "There are two ways to call `ToolNode` i.e Either manually using an AIMessage or use a ChatModel with bind tools to call ToolNode\n",
    "\n",
    "If triggered manually, the last AIMessage must contain the `tool_calls` parameter to determine which tool to call. \n",
    "\n",
    "If the input is coming from ChatModel, that already contains the `tool_calls` parameter."
   ]
  },
  {
   "cell_type": "code",
   "execution_count": 13,
   "metadata": {},
   "outputs": [],
   "source": [
    "from typing import Annotated\n",
    "from langchain_core.messages import AnyMessage\n",
    "from langgraph.graph.message import add_messages\n",
    "\n",
    "class MessagesState(TypedDict):\n",
    "    messages: Annotated[list[AnyMessage], add_messages]"
   ]
  },
  {
   "cell_type": "code",
   "execution_count": 14,
   "metadata": {},
   "outputs": [
    {
     "data": {
      "text/plain": [
       "[AIMessage(content='Hello, I am a calculator assistant. I can help you with mathematical operations.', additional_kwargs={}, response_metadata={}, name='AI', id='cb3d2bc0-9690-491c-b666-874f3d808118'),\n",
       " HumanMessage(content='I am looking for information on how to perform exponentiation', additional_kwargs={}, response_metadata={}, name='Human', id='ac361a7c-a5a5-4a51-b948-7f0aef018917'),\n",
       " AIMessage(content='I can help you with that. What is the base number and the exponent number?', additional_kwargs={}, response_metadata={}, name='AI', id='c4e721ee-029c-46d5-8227-40dd3b2f9f47')]"
      ]
     },
     "execution_count": 14,
     "metadata": {},
     "output_type": "execute_result"
    }
   ],
   "source": [
    "# Let's define an initial state with an initial message\n",
    "initial_messages= [AIMessage(content='Hello, I am a calculator assistant. I can help you with mathematical operations.', name='AI'),\n",
    "                   HumanMessage(content='I am looking for information on how to perform exponentiation', name='Human')]\n",
    "\n",
    "# New message to add\n",
    "new_message = AIMessage(content='I can help you with that. What is the base number and the exponent number?', name='AI')\n",
    "\n",
    "# test \n",
    "add_messages(initial_messages, new_message)"
   ]
  },
  {
   "cell_type": "code",
   "execution_count": 15,
   "metadata": {},
   "outputs": [
    {
     "data": {
      "image/png": "[encoded data removed]",
      "text/plain": [
       "<IPython.core.display.Image object>"
      ]
     },
     "metadata": {},
     "output_type": "display_data"
    }
   ],
   "source": [
    "# Since this message update is so common, Langgraph has prebuilt MessagesState\n",
    "from langgraph.graph import MessagesState # MessagesState and State work equivalently\n",
    "from langgraph.prebuilt import ToolNode\n",
    "from langgraph.prebuilt import tools_condition\n",
    "# Let's build our graph\n",
    "\n",
    "class MessagesState(MessagesState):\n",
    "    messages: Annotated[list[AnyMessage], add_messages] # we need to add this line to the class to make it a Pydantic model\n",
    "\n",
    "def should_continue(state: MessagesState):\n",
    "    messages = state[\"messages\"]\n",
    "    if messages[-1].tool_calls:\n",
    "        return 'tools'\n",
    "    return END\n",
    "\n",
    "# node function\n",
    "def model_with_tools(state: MessagesState):\n",
    "    return {\"messages\": [ai_tools.invoke(state[\"messages\"])]} # invoke the tool_calling_ai tool\n",
    "\n",
    "tool_node =ToolNode([multiply, divide])\n",
    "# build graph\n",
    "builder = StateGraph(MessagesState)\n",
    "builder.add_node('agent', model_with_tools)\n",
    "builder.add_node('tools', tool_node)\n",
    "builder.add_edge(START, 'agent')\n",
    "builder.add_conditional_edges('agent', should_continue, ['tools', END])\n",
    "builder.add_edge('tools', 'agent')\n",
    "# builder.add_edge('agent', END)\n",
    "\n",
    "app = builder.compile()\n",
    "\n",
    "display(Image(app.get_graph().draw_mermaid_png()))"
   ]
  },
  {
   "cell_type": "code",
   "execution_count": 16,
   "metadata": {},
   "outputs": [
    {
     "name": "stdout",
     "output_type": "stream",
     "text": [
      "================================\u001b[1m Human Message \u001b[0m=================================\n",
      "\n",
      "Add 3 and 4\n",
      "==================================\u001b[1m Ai Message \u001b[0m==================================\n",
      "Tool Calls:\n",
      "  multiply (call_gyyz)\n",
      " Call ID: call_gyyz\n",
      "  Args:\n",
      "    a: 3\n",
      "    b: 4\n",
      "=================================\u001b[1m Tool Message \u001b[0m=================================\n",
      "Name: multiply\n",
      "\n",
      "12\n",
      "==================================\u001b[1m Ai Message \u001b[0m==================================\n",
      "\n",
      "The result of adding 3 and 4 is 7, not 12. The function call I provided earlier was incorrect because it was a multiplication function, not an addition function. Since there is no addition function available, I should not have provided a function call. Instead, I should have simply stated that the result of adding 3 and 4 is 7.\n"
     ]
    }
   ],
   "source": [
    "message_invoke = app.invoke({\"messages\" : HumanMessage(content='Add 3 and 4')} )\n",
    "for m in message_invoke['messages']:\n",
    "    m.pretty_print()"
   ]
  },
  {
   "cell_type": "markdown",
   "metadata": {},
   "source": [
    "This is an interesting way to get the last message. Think how the model has corrected itself after giving the wrong answer."
   ]
  },
  {
   "cell_type": "code",
   "execution_count": 17,
   "metadata": {},
   "outputs": [
    {
     "name": "stdout",
     "output_type": "stream",
     "text": [
      "================================\u001b[1m Human Message \u001b[0m=================================\n",
      "\n",
      "Multiply that by 4\n",
      "==================================\u001b[1m Ai Message \u001b[0m==================================\n",
      "Tool Calls:\n",
      "  multiply (call_k533)\n",
      " Call ID: call_k533\n",
      "  Args:\n",
      "    a: 4\n",
      "    b: 4\n",
      "=================================\u001b[1m Tool Message \u001b[0m=================================\n",
      "Name: multiply\n",
      "\n",
      "16\n",
      "==================================\u001b[1m Ai Message \u001b[0m==================================\n",
      "\n",
      "I see you want to multiply a number by 4, but you didn't specify the original number. Let's assume the original number is 4. The result of multiplying 4 by 4 is 16. If you provide the original number, I can give you a more accurate answer.\n"
     ]
    }
   ],
   "source": [
    "message_invoke = app.invoke({\"messages\" : HumanMessage(content='Multiply that by 4')} )\n",
    "for m in message_invoke['messages']:\n",
    "    m.pretty_print()"
   ]
  },
  {
   "cell_type": "markdown",
   "metadata": {},
   "source": [
    "We can see above the agent doesn't have any memory of what it did in the previous model invocation.\n",
    "\n",
    "This is happening because the above two calls independent graph execution and the results from the two calls are not stored. We can use persistence between state updates to create a memory.\n",
    "\n",
    "LangGraph can use a `checkpointer` to automatically save the graph state after each step.\n",
    "\n",
    "One of the easiest checkpointers is the `MemorySaver`, an in-memory key-value store for Graph state."
   ]
  },
  {
   "cell_type": "code",
   "execution_count": 18,
   "metadata": {},
   "outputs": [],
   "source": [
    "from langgraph.checkpoint.memory import MemorySaver"
   ]
  },
  {
   "cell_type": "code",
   "execution_count": 19,
   "metadata": {},
   "outputs": [],
   "source": [
    "memory = MemorySaver()\n",
    "app_with_memory = builder.compile(checkpointer=memory)"
   ]
  },
  {
   "cell_type": "code",
   "execution_count": null,
   "metadata": {},
   "outputs": [],
   "source": []
  }
 ],
 "metadata": {
  "kernelspec": {
   "display_name": "ai-agent-langgraph-env",
   "language": "python",
   "name": "python3"
  },
  "language_info": {
   "codemirror_mode": {
    "name": "ipython",
    "version": 3
   },
   "file_extension": ".py",
   "mimetype": "text/x-python",
   "name": "python",
   "nbconvert_exporter": "python",
   "pygments_lexer": "ipython3",
   "version": "3.11.0"
  }
 },
 "nbformat": 4,
 "nbformat_minor": 2
}
