{
 "cells": [
  {
   "cell_type": "markdown",
   "metadata": {},
   "source": [
    "## Goal\n",
    "\n",
    "Build a router architecture that routes the information based on the llm output.\n",
    "- Use a prebuilt `ToolNode` and pass in the list of tools.\n",
    "- Use `tools_condition` edge to route the llm's output."
   ]
  },
  {
   "cell_type": "code",
   "execution_count": 1,
   "metadata": {},
   "outputs": [],
   "source": [
    "# general imports\n",
    "import sys\n",
    "import os, getpass\n",
    "from openai import OpenAI\n",
    "from utils import *\n",
    "from IPython.display import Image\n",
    "from pprint import pprint\n",
    "\n",
    "# Import langgraph modules to create and visualize the graph\n",
    "from langgraph.graph import StateGraph, START, END\n",
    "from langchain_core.messages import AIMessage, HumanMessage, SystemMessage \n",
    "from typing_extensions import TypedDict\n",
    "from typing import Literal\n",
    "from pydantic import BaseModel, Field\n",
    "\n",
    "# Install the missing package\n",
    "# %pip install langchain_anthropic\n",
    "# %pip install langchain_groq\n",
    "from langchain_groq import ChatGroq"
   ]
  },
  {
   "cell_type": "code",
   "execution_count": 2,
   "metadata": {},
   "outputs": [
    {
     "name": "stdout",
     "output_type": "stream",
     "text": [
      "API key found in .env file for GROQ_API_KEY\n"
     ]
    }
   ],
   "source": [
    "# Let's make sure we have the API key set\n",
    "GROQ_API_KEY = set_api_key('GROQ_API_KEY')"
   ]
  },
  {
   "cell_type": "markdown",
   "metadata": {},
   "source": [
    "#### Messages\n",
    "\n",
    "Chat models can use `messages`, which captures different roles within a conversation (e.g., \"system\", \"human\", \"assistant\").\n",
    "Messages also feature one or more content blocks that contain text or potentially multimodal data (e.g., images, audio, video).\n",
    "\n",
    "<h5>Let's create a list of messages. Each message can be supplied with a few things:</h5>\n",
    "\n",
    "- `content` - content of the message\n",
    "- `name` - optionally, who is creating the message\n",
    "-  `response_metadata` - optionally, a dict of metadata that is oftern specific to each model provider"
   ]
  },
  {
   "cell_type": "code",
   "execution_count": 3,
   "metadata": {},
   "outputs": [],
   "source": [
    "\n",
    "messages = [AIMessage(content=f'So you wanted to know more starwars conception idea?', name = 'AI')]\n",
    "messages.extend([HumanMessage(content=f'Yes, I am interested in starwars', name = 'Human')])\n",
    "messages.extend([AIMessage(content=f'What do you want to know about starwars?', name = 'AI')])\n",
    "messages.extend([HumanMessage(content=f'What is the starwars universe?', name = 'Human')])\n"
   ]
  },
  {
   "cell_type": "code",
   "execution_count": 4,
   "metadata": {},
   "outputs": [
    {
     "name": "stdout",
     "output_type": "stream",
     "text": [
      "==================================\u001b[1m Ai Message \u001b[0m==================================\n",
      "Name: AI\n",
      "\n",
      "So you wanted to know more starwars conception idea?\n",
      "================================\u001b[1m Human Message \u001b[0m=================================\n",
      "Name: Human\n",
      "\n",
      "Yes, I am interested in starwars\n",
      "==================================\u001b[1m Ai Message \u001b[0m==================================\n",
      "Name: AI\n",
      "\n",
      "What do you want to know about starwars?\n",
      "================================\u001b[1m Human Message \u001b[0m=================================\n",
      "Name: Human\n",
      "\n",
      "What is the starwars universe?\n"
     ]
    }
   ],
   "source": [
    "for m in messages:\n",
    "    m.pretty_print()"
   ]
  },
  {
   "cell_type": "markdown",
   "metadata": {},
   "source": [
    "### Chat Models\n",
    "\n",
    "Chat models use a sequence of message as input and support message roles.\n",
    "\n",
    "There are many chat models available out there to choose from, in our case, we will use Groq.\n",
    "\n",
    "We can load the AI model and invoke it with our list of messages.\n"
   ]
  },
  {
   "cell_type": "code",
   "execution_count": 5,
   "metadata": {},
   "outputs": [],
   "source": [
    "ai = ChatGroq(model=\"llama-3.3-70b-versatile\", api_key=GROQ_API_KEY, temperature=0.8, max_retries=2)"
   ]
  },
  {
   "cell_type": "code",
   "execution_count": 6,
   "metadata": {},
   "outputs": [
    {
     "name": "stdout",
     "output_type": "stream",
     "text": [
      "==================================\u001b[1m Ai Message \u001b[0m==================================\n",
      "\n",
      "The Star Wars universe, also known as the Star Wars galaxy, is a vast, fictional universe created by George Lucas. It's a sprawling, epic space opera that spans thousands of years, numerous planets, and a wide range of characters, species, and technologies.\n",
      "\n",
      "The Star Wars universe is set in a distant galaxy, where various star systems, planets, and civilizations coexist. The galaxy is divided into different regions, including:\n",
      "\n",
      "1. **The Core Worlds**: The central, densely populated region of the galaxy, home to powerful, advanced civilizations.\n",
      "2. **The Inner Rim**: A transitional region between the Core Worlds and the Outer Rim, characterized by a mix of urban and rural areas.\n",
      "3. **The Outer Rim**: A vast, less-developed region, home to many independent systems, smugglers, and lawless planets.\n",
      "4. **The Unknown Regions**: Uncharted, mysterious areas of the galaxy, often shrouded in myth and legend.\n",
      "\n",
      "The Star Wars universe is inhabited by a diverse array of species, including:\n",
      "\n",
      "* **Humans**: The dominant species in the galaxy, with a wide range of cultures and societies.\n",
      "* **Alien species**: Such as Wookiees, Rodians, Twi'leks, and many others, each with their unique biology, culture, and abilities.\n",
      "* **Droids**: Artificially intelligent robots, often serving as companions, workers, or soldiers.\n",
      "\n",
      "The universe is also home to various factions, organizations, and governments, including:\n",
      "\n",
      "* **The Galactic Republic**: A democratic government that spanned the galaxy, later reformed into the Galactic Empire.\n",
      "* **The Galactic Empire**: A tyrannical, authoritarian regime that rose to power after the fall of the Republic.\n",
      "* **The Rebel Alliance**: A coalition of systems and factions opposing the Empire, seeking to restore freedom and democracy.\n",
      "* **The Jedi Order**: A ancient, mystical organization of peacekeepers and warriors, wielding the power of the Force.\n",
      "* **The Sith**: A dark, malevolent order, seeking to dominate the galaxy through power and manipulation.\n",
      "\n",
      "The Star Wars universe is rich in history, with numerous events, wars, and legends shaping the galaxy over thousands of years. Some notable events include:\n",
      "\n",
      "* **The Clone Wars**: A conflict between the Galactic Republic and the separatist droid armies.\n",
      "* **The Galactic Civil War**: A rebellion against the Galactic Empire, led by the Rebel Alliance.\n",
      "* **The Rise of the Empire**: The transformation of the Galactic Republic into the Galactic Empire, under the leadership of Emperor Palpatine.\n",
      "\n",
      "This is just a brief overview of the Star Wars universe. There's much more to explore, including the many planets, characters, and stories that make up this vast, epic space opera.\n",
      "\n",
      "What aspect of the Star Wars universe would you like to know more about?\n"
     ]
    }
   ],
   "source": [
    "result = ai.invoke(messages)\n",
    "result.pretty_print()"
   ]
  },
  {
   "cell_type": "code",
   "execution_count": 7,
   "metadata": {},
   "outputs": [
    {
     "data": {
      "text/plain": [
       "{'token_usage': {'completion_tokens': 568,\n",
       "  'prompt_tokens': 90,\n",
       "  'total_tokens': 658,\n",
       "  'completion_time': 2.065454545,\n",
       "  'prompt_time': 0.006626076,\n",
       "  'queue_time': 0.23509706,\n",
       "  'total_time': 2.072080621},\n",
       " 'model_name': 'llama-3.3-70b-versatile',\n",
       " 'system_fingerprint': 'fp_7b42aeb9fa',\n",
       " 'finish_reason': 'stop',\n",
       " 'logprobs': None}"
      ]
     },
     "execution_count": 7,
     "metadata": {},
     "output_type": "execute_result"
    }
   ],
   "source": [
    "result.response_metadata"
   ]
  },
  {
   "cell_type": "code",
   "execution_count": 8,
   "metadata": {},
   "outputs": [
    {
     "name": "stdout",
     "output_type": "stream",
     "text": [
      "============================\u001b[1m Aimessagechunk Message \u001b[0m============================\n",
      "\n",
      "The Star Wars universe, also known as the Star Wars galaxy, is a vast, fictional universe created by George Lucas. It's a sprawling, epic space fantasy that encompasses numerous planets, star systems, alien species, and technologies. The universe is divided into several distinct eras, including:\n",
      "\n",
      "1. **The Old Republic Era**: Thousands of years before the main events of the Star Wars saga, this era is marked by the rise and fall of ancient civilizations, such as the Sith and Jedi Orders.\n",
      "2. **The High Republic Era**: A period of peace and prosperity, where the Jedi and the Galactic Republic work together to maintain balance and order in the galaxy.\n",
      "3. **The Fall of the Jedi Era**: A time of great turmoil, marked by the rise of the evil Empire and the near-destruction of the Jedi Order.\n",
      "4. **The Rebellion Era**: The period of the original Star Wars trilogy (Episodes IV-VI), where the Rebel Alliance fights against the Galactic Empire.\n",
      "5. **The New Republic Era**: The period after the fall of the Empire, where a new government, the New Republic, is established, and a new generation of heroes emerges.\n",
      "6. **The Sequel Trilogy Era**: The period of the latest trilogy (Episodes VII-IX), which takes place decades after the events of the original trilogy.\n",
      "\n",
      "The Star Wars universe is characterized by:\n",
      "\n",
      "* **Planets and locations**: Iconic worlds like Tatooine, Coruscant, Dagobah, and Endor, each with their unique environments and inhabitants.\n",
      "* **Alien species**: A diverse array of species, such as humans, Jedi, Sith, Wookiees, Rodians, and many more, each with their own culture and biology.\n",
      "* **Technologies**: Advanced technologies like lightsabers, blasters, starships, and the Force, which play a central role in the universe.\n",
      "* **The Force**: A metaphysical energy that binds the galaxy together, allowing certain individuals to tap into its power and perform extraordinary feats.\n",
      "* **Heroes and villains**: Legendary characters like Luke Skywalker, Han Solo, Darth Vader, and Emperor Palpatine, who shape the course of the galaxy's history.\n",
      "\n",
      "The Star Wars universe has expanded far beyond the original films, with numerous books, comics, TV shows, and video games exploring different eras, characters, and storylines. It's a rich, immersive, and ever-evolving universe that has captured the hearts of millions of fans worldwide.\n",
      "\n",
      "Is there a specific aspect of the Star Wars universe you'd like to know more about?\n"
     ]
    }
   ],
   "source": [
    "stream = ai.stream(messages)\n",
    "full = next(stream)\n",
    "for chunk in stream:\n",
    "    full += chunk\n",
    "full.pretty_print()"
   ]
  },
  {
   "cell_type": "markdown",
   "metadata": {},
   "source": [
    "<h4> Tools </h4>\n",
    "\n",
    "Tools are an additional capability provided to LLMs that can be used to interact with outside world.\n",
    "\n",
    "It could be leveraged to control different parts of the code, call an external API, interact with database, trigger a lambda function, etc.\n",
    "\n",
    "Tools can be as simple as Python functions or as complex as integrating LLM with RAG for real time analysis."
   ]
  },
  {
   "cell_type": "code",
   "execution_count": 49,
   "metadata": {},
   "outputs": [],
   "source": [
    "class GetExponent(BaseModel):\n",
    "    \"\"\"\n",
    "    Raise x to the power of y.\n",
    "    \n",
    "    Args:\n",
    "    x (int): The base number.\n",
    "    y (int): The exponent number.\n",
    "    result (int): Multiply x by itself y times.\n",
    "    \"\"\"\n",
    "    x: int = Field(description='The base number')\n",
    "    y: int = Field(description='The exponent number')\n",
    "    result: int = Field(description='Multiply x by itself y times')\n",
    "    "
   ]
  },
  {
   "cell_type": "code",
   "execution_count": 50,
   "metadata": {},
   "outputs": [],
   "source": [
    "ai_with_tool = ai.bind_tools([GetExponent])"
   ]
  },
  {
   "cell_type": "code",
   "execution_count": 63,
   "metadata": {},
   "outputs": [],
   "source": [
    "tool_call = ai_with_tool.invoke([HumanMessage(content='You are a calculator assistant with all the tools required to perfom mathematical operations. \\\n",
    "                                              What is 10 raised to the power of 3')])"
   ]
  },
  {
   "cell_type": "code",
   "execution_count": 64,
   "metadata": {},
   "outputs": [
    {
     "data": {
      "text/plain": [
       "AIMessage(content='', additional_kwargs={'tool_calls': [{'id': 'call_yjhq', 'function': {'arguments': '{\"x\": 10, \"y\": 3, \"result\": 0}', 'name': 'GetExponent'}, 'type': 'function'}]}, response_metadata={'token_usage': {'completion_tokens': 27, 'prompt_tokens': 342, 'total_tokens': 369, 'completion_time': 0.098181818, 'prompt_time': 0.021900658, 'queue_time': 0.23039053700000003, 'total_time': 0.120082476}, 'model_name': 'llama-3.3-70b-versatile', 'system_fingerprint': 'fp_2ca0059abb', 'finish_reason': 'tool_calls', 'logprobs': None}, id='run-6c37ddb3-13de-45f7-982d-dbbcab0d0621-0', tool_calls=[{'name': 'GetExponent', 'args': {'x': 10, 'y': 3, 'result': 0}, 'id': 'call_yjhq', 'type': 'tool_call'}], usage_metadata={'input_tokens': 342, 'output_tokens': 27, 'total_tokens': 369})"
      ]
     },
     "execution_count": 64,
     "metadata": {},
     "output_type": "execute_result"
    }
   ],
   "source": [
    "tool_call"
   ]
  },
  {
   "cell_type": "markdown",
   "metadata": {},
   "source": [
    "<h5>ToolNode</h5>\n",
    "\n",
    "It is basically a LangChain Runnable that takes graph state (with a list of messages) as input and outputs state update with the result of tool calls. \n",
    "\n",
    "The state must have `messages` channel with an appropriate reducer for ToolNode to work.\n",
    "\n",
    "There are two ways to call `ToolNode` i.e Either manually using an AIMessage or use a ChatModel with bind tools to call ToolNode"
   ]
  },
  {
   "cell_type": "code",
   "execution_count": 14,
   "metadata": {},
   "outputs": [],
   "source": [
    "from typing import Annotated\n",
    "from langchain_core.messages import AnyMessage\n",
    "from langgraph.graph.message import add_messages\n",
    "\n",
    "class MessagesState(TypedDict):\n",
    "    messages: Annotated[list[AnyMessage], add_messages]"
   ]
  },
  {
   "cell_type": "code",
   "execution_count": 15,
   "metadata": {},
   "outputs": [
    {
     "data": {
      "text/plain": [
       "[AIMessage(content='Hello, I am a calculator assistant. I can help you with mathematical operations.', additional_kwargs={}, response_metadata={}, name='AI', id='14c4431c-1a64-42a2-92ec-ec95bfabbbe1'),\n",
       " HumanMessage(content='I am looking for information on how to perform exponentiation', additional_kwargs={}, response_metadata={}, name='Human', id='d62090e5-e802-4d0e-bfd6-a8e4d6cc3392'),\n",
       " AIMessage(content='I can help you with that. What is the base number and the exponent number?', additional_kwargs={}, response_metadata={}, name='AI', id='68eae680-ebb7-4458-bce6-7d133433f05f')]"
      ]
     },
     "execution_count": 15,
     "metadata": {},
     "output_type": "execute_result"
    }
   ],
   "source": [
    "# Let's define an initial state with an initial message\n",
    "initial_messages= [AIMessage(content='Hello, I am a calculator assistant. I can help you with mathematical operations.', name='AI'),\n",
    "                   HumanMessage(content='I am looking for information on how to perform exponentiation', name='Human')]\n",
    "\n",
    "# New message to add\n",
    "new_message = AIMessage(content='I can help you with that. What is the base number and the exponent number?', name='AI')\n",
    "\n",
    "# test \n",
    "add_messages(initial_messages, new_message)"
   ]
  },
  {
   "cell_type": "code",
   "execution_count": 21,
   "metadata": {},
   "outputs": [
    {
     "data": {
      "image/png": "[encoded data removed]",
      "text/plain": [
       "<IPython.core.display.Image object>"
      ]
     },
     "metadata": {},
     "output_type": "display_data"
    }
   ],
   "source": [
    "# Since this message update is so common, Langgraph has prebuilt MessagesState\n",
    "from langgraph.graph import MessagesState # MessagesState and State work equivalently\n",
    "from langgraph.prebuilt import ToolNode\n",
    "from langgraph.prebuilt import tools_condition\n",
    "# Let's build our graph\n",
    "\n",
    "class MessagesState(MessagesState):\n",
    "    messages: Annotated[list[AnyMessage], add_messages] # we need to add this line to the class to make it a Pydantic model\n",
    "\n",
    "# node function\n",
    "def model_with_tools(state: MessagesState):\n",
    "    return {\"messages\": [ai_with_tool.invoke(state[\"messages\"])]} # invoke the tool_calling_ai tool\n",
    "\n",
    "# build graph\n",
    "builder = StateGraph(MessagesState)\n",
    "builder.add_node('tool_calling_ai', model_with_tools)\n",
    "builder.add_node('tools', ToolNode([GetExponent]))\n",
    "builder.add_edge(START, 'tool_calling_ai')\n",
    "builder.add_conditional_edges('tool_calling_ai', tools_condition)\n",
    "builder.add_edge('tools', END)\n",
    "\n",
    "graph = builder.compile()\n",
    "\n",
    "display(Image(graph.get_graph().draw_mermaid_png()))"
   ]
  },
  {
   "cell_type": "code",
   "execution_count": 140,
   "metadata": {},
   "outputs": [
    {
     "data": {
      "text/plain": [
       "{'messages': [HumanMessage(content='Hello!', additional_kwargs={}, response_metadata={}, id='dce5fdf9-48dc-4e29-9dfc-da2b4d0d3e08'),\n",
       "  AIMessage(content=\"Hello! It's nice to meet you. Is there something I can help you with, or would you like to chat?\", additional_kwargs={}, response_metadata={'token_usage': {'completion_tokens': 26, 'prompt_tokens': 328, 'total_tokens': 354, 'completion_time': 0.094545455, 'prompt_time': 0.014779952, 'queue_time': 0.233694885, 'total_time': 0.109325407}, 'model_name': 'llama-3.3-70b-versatile', 'system_fingerprint': 'fp_5f849c5a0b', 'finish_reason': 'stop', 'logprobs': None}, id='run-27162e41-c2ba-44c8-bf3d-1f3faf13fc4d-0', usage_metadata={'input_tokens': 328, 'output_tokens': 26, 'total_tokens': 354})]}"
      ]
     },
     "execution_count": 140,
     "metadata": {},
     "output_type": "execute_result"
    }
   ],
   "source": [
    "message_invoke = graph.invoke({\"messages\" : HumanMessage(content='Hello!')} )\n",
    "message_invoke"
   ]
  },
  {
   "cell_type": "code",
   "execution_count": 145,
   "metadata": {},
   "outputs": [
    {
     "data": {
      "text/plain": [
       "{'messages': [HumanMessage(content='You are a calculator assistant with all the tools required to perfom mathematical operations. What is 2 raised to the power of 3', additional_kwargs={}, response_metadata={}, id='3ba20a56-cf63-4b8d-8956-82f82d69e4c4'),\n",
       "  AIMessage(content='', additional_kwargs={'tool_calls': [{'id': 'call_q3tb', 'function': {'arguments': '{\"x\": 2, \"y\": 3, \"result\": 8}', 'name': 'GetExponent'}, 'type': 'function'}]}, response_metadata={'token_usage': {'completion_tokens': 27, 'prompt_tokens': 353, 'total_tokens': 380, 'completion_time': 0.098181818, 'prompt_time': 0.016811323, 'queue_time': 0.232832494, 'total_time': 0.114993141}, 'model_name': 'llama-3.3-70b-versatile', 'system_fingerprint': 'fp_7b42aeb9fa', 'finish_reason': 'tool_calls', 'logprobs': None}, id='run-669cdad9-af27-49f8-9c16-c81649eb0170-0', tool_calls=[{'name': 'GetExponent', 'args': {'x': 2, 'y': 3, 'result': 8}, 'id': 'call_q3tb', 'type': 'tool_call'}], usage_metadata={'input_tokens': 353, 'output_tokens': 27, 'total_tokens': 380})]}"
      ]
     },
     "execution_count": 145,
     "metadata": {},
     "output_type": "execute_result"
    }
   ],
   "source": [
    "message_invoke = graph.invoke({\"messages\" : HumanMessage(content='You are a calculator assistant with all the tools required to perfom mathematical operations. What is 2 raised to the power of 3')} )\n",
    "message_invoke"
   ]
  },
  {
   "cell_type": "code",
   "execution_count": 147,
   "metadata": {},
   "outputs": [
    {
     "data": {
      "text/plain": [
       "{'messages': [HumanMessage(content='Are you still there', additional_kwargs={}, response_metadata={}, id='2704558a-e039-4c60-b678-fbe6bbde2b8b'),\n",
       "  AIMessage(content=\"I'm here and ready to help. You can ask me a question or request a function call. If you need to raise a number to a power, I can assist you with the 'GetExponent' function.\", additional_kwargs={}, response_metadata={'token_usage': {'completion_tokens': 45, 'prompt_tokens': 330, 'total_tokens': 375, 'completion_time': 0.163636364, 'prompt_time': 0.01712404, 'queue_time': 0.30162517099999997, 'total_time': 0.180760404}, 'model_name': 'llama-3.3-70b-versatile', 'system_fingerprint': 'fp_7b42aeb9fa', 'finish_reason': 'stop', 'logprobs': None}, id='run-7e932600-4648-4853-b894-9d60177fe7e8-0', usage_metadata={'input_tokens': 330, 'output_tokens': 45, 'total_tokens': 375})]}"
      ]
     },
     "execution_count": 147,
     "metadata": {},
     "output_type": "execute_result"
    }
   ],
   "source": [
    "message_invoke = graph.invoke({\"messages\" : HumanMessage(content='Are you still there')} )\n",
    "message_invoke"
   ]
  },
  {
   "cell_type": "markdown",
   "metadata": {},
   "source": [
    "`We can see above that based on the input invokation, the llm uses either a tool call or gives a direct response. It also updates the messages channel.`  "
   ]
  },
  {
   "cell_type": "markdown",
   "metadata": {},
   "source": []
  }
 ],
 "metadata": {
  "kernelspec": {
   "display_name": "ai-agent-langgraph-env",
   "language": "python",
   "name": "python3"
  },
  "language_info": {
   "codemirror_mode": {
    "name": "ipython",
    "version": 3
   },
   "file_extension": ".py",
   "mimetype": "text/x-python",
   "name": "python",
   "nbconvert_exporter": "python",
   "pygments_lexer": "ipython3",
   "version": "3.11.0"
  }
 },
 "nbformat": 4,
 "nbformat_minor": 2
}
