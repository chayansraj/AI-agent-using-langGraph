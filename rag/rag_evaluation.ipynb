{
 "cells": [
  {
   "cell_type": "markdown",
   "id": "7677601f",
   "metadata": {},
   "source": [
    "%pip install -q torch transformers langchain sentence-transformers tqdm openpyxl openai pandas datasets langchain-community ragatouille"
   ]
  },
  {
   "cell_type": "code",
   "execution_count": 1,
   "id": "5532d915",
   "metadata": {},
   "outputs": [
    {
     "name": "stdout",
     "output_type": "stream",
     "text": [
      "API key found in .env file for QWEN_API_KEY\n",
      "API key set successfully.\n"
     ]
    },
    {
     "name": "stderr",
     "output_type": "stream",
     "text": [
      "d:\\AI Projects\\AI agent using LangGraph\\AI-agent-using-langGraph\\ai-agent-langgraph-env\\Lib\\site-packages\\tqdm\\auto.py:21: TqdmWarning: IProgress not found. Please update jupyter and ipywidgets. See https://ipywidgets.readthedocs.io/en/stable/user_install.html\n",
      "  from .autonotebook import tqdm as notebook_tqdm\n"
     ]
    }
   ],
   "source": [
    "from dotenv import load_dotenv, find_dotenv\n",
    "import sys\n",
    "import os, getpass\n",
    "from openai import OpenAI\n",
    "\n",
    "\n",
    "# Add the project root directory to Python path\n",
    "project_root = os.path.dirname(os.path.abspath(''))\n",
    "if project_root not in sys.path:\n",
    "    sys.path.append(project_root)\n",
    "\n",
    "from utils import set_api_key\n",
    "\n",
    "\n",
    "load_dotenv(find_dotenv())  \n",
    "\n",
    "QWEN_API_KEY = set_api_key('QWEN_API_KEY')\n",
    "\n",
    "from tqdm.auto import tqdm\n",
    "import pandas as pd\n",
    "from typing import Optional, List, Tuple\n",
    "import json\n",
    "import tiktoken\n",
    "\n",
    "# requirements (example)\n",
    "# pip install requests beautifulsoup4 transformers sentence-transformers faiss-cpu langchain pillow pytesseract\n",
    "\n",
    "import requests\n",
    "from bs4 import BeautifulSoup\n",
    "from PIL import Image\n",
    "from io import BytesIO\n",
    "import os\n",
    "import numpy as np\n",
    "#import torch\n",
    "\n",
    "# Hugging Face tools\n",
    "#from transformers import pipeline, CLIPProcessor, CLIPModel\n",
    "from sentence_transformers import SentenceTransformer  # for text embeddings\n",
    "\n",
    "# LangChain\n",
    "from langchain.schema import Document\n",
    "from langchain.text_splitter import RecursiveCharacterTextSplitter\n",
    "from langchain.vectorstores import FAISS\n",
    "from langchain.text_splitter import RecursiveCharacterTextSplitter\n",
    "from langchain.docstore.document import Document as LangchainDocument\n",
    "import langgraph\n",
    "from langgraph.prebuilt import ToolNode\n",
    "from langchain.chat_models import init_chat_model\n",
    "\n",
    "\n",
    "\n",
    "pd.set_option(\"display.max_colwidth\", None)"
   ]
  },
  {
   "cell_type": "code",
   "execution_count": 2,
   "id": "c6881478",
   "metadata": {},
   "outputs": [
    {
     "name": "stderr",
     "output_type": "stream",
     "text": [
      "USER_AGENT environment variable not set, consider setting it to identify your requests.\n"
     ]
    },
    {
     "name": "stdout",
     "output_type": "stream",
     "text": [
      "Total Characters: 117671\n"
     ]
    }
   ],
   "source": [
    "from langchain_community.document_loaders import WebBaseLoader\n",
    "\n",
    "urls = [\n",
    "    \"https://www.incometax.gov.in/iec/foportal/help/all-topics/tax-payer/individual/how-to-file-tax-returns\",\n",
    "    \"https://www.incometax.gov.in/iec/foportal/help/individual/return-applicable-1#taxdeductions\",\n",
    "    \"https://www.incometax.gov.in/iec/foportal/help/individual/return-applicable-1#taxableincome\",\n",
    "    \"https://www.incometax.gov.in/iec/foportal/help/e-filing-itr1-form-sahaj-faq\",\n",
    "    \"https://www.incometax.gov.in/iec/foportal/help/e-filing-itr4-form-sugam-faq\"\n",
    "\n",
    "]\n",
    "loader = WebBaseLoader(urls)\n",
    "docs = loader.load()\n",
    "assert len(docs) == 5\n",
    "\n",
    "print(f\"Total Characters: {sum([len(doc.page_content) for doc in docs])}\")\n"
   ]
  },
  {
   "cell_type": "code",
   "execution_count": 3,
   "id": "815c127d",
   "metadata": {},
   "outputs": [
    {
     "data": {
      "text/plain": [
       "Document(metadata={'source': 'https://www.incometax.gov.in/iec/foportal/help/all-topics/tax-payer/individual/how-to-file-tax-returns', 'title': 'How to File Tax Returns | Income Tax Department', 'description': 'ITRs', 'language': 'en'}, page_content='\\n\\n\\n\\n\\n\\n\\n\\n\\n\\n\\n\\n\\n\\n\\n\\n\\n\\n\\n\\n\\n\\n\\n\\n\\n\\n\\n\\n\\n\\n\\n\\n\\n\\nHow to File Tax Returns | Income Tax Department\\n\\n\\n\\n\\n\\n\\n\\n\\n\\n\\n\\n\\n\\n\\n\\n\\n\\n\\n      Skip to main content\\n    \\n\\n\\n\\n\\n\\n\\n\\n\\n\\n\\n\\n\\n\\n\\n\\n\\n\\n\\n\\n \\n\\nCall Us\\n\\n\\n\\ne-filing and Centralized Processing Center\\ne-Filing of Income Tax Return or Forms and other value added services & Intimation, Rectification, Refund and other Income Tax Processing Related Queries\\n\\n\\n1800 103 0025 (or)\\n1800 419 0025\\n+91-80-46122000\\n+91-80-61464700\\n\\n\\n08:00 hrs - 20:00 hrs\\n(Monday to Friday)\\n\\n\\n\\n\\nTax Information Network - NSDL\\nQueries related to PAN & TAN application for Issuance / Update through NSDL\\n\\n\\n+91-20-27218080\\n\\n\\n07:00 hrs - 23:00 hrs\\n(All Days)\\n\\n\\n\\n\\nAIS and Reporting Portal\\nQueries related to AIS, TIS, SFT Preliminary response, Response to e-campaigns or e-Verification\\n\\n\\n1800 103 4215\\n\\n\\n09:30 hrs - 18:00 hrs\\n(Monday to Friday)\\n\\n\\nView All\\n\\n\\n\\n\\n\\n    \\n\\n  \\n\\nSelect your language\\nEnglishHindi\\n\\nGo\\n\\n\\n\\n\\n\\n\\n\\n\\nLogin\\nRegister\\n\\n\\n\\n\\n\\u200c \\n\\n\\n\\n\\n\\n\\n\\n\\n\\n\\n\\n\\nHomeIndividual/HUFSalaried EmployeesGuidance to file Tax ReturnReturn / Forms applicable to meTax slabsDeductions on which I can get tax benefitUpdate my profile detailsAssisted filingDownloadsBusiness/ProfessionGuidance to file Tax ReturnReturn / Forms applicable to meTax slabsDeductions on which I can get tax benefitUpdate my profile detailsAssisted filingDownloadsSenior / Super Senior CitizenGuidance to file Tax ReturnReturn / Forms applicable to me Tax slabsDeductions on which I can get tax benefitUpdate my profile detailsAssisted filingDownloadsNon ResidentGuidance to file Tax ReturnReturn / Forms applicable to meTax slabsDeductions on which I can get tax benefitUpdate my profile details Assisted filingDownloadsHindu Undivided Family (HUF)Guidance to file Tax ReturnReturn / Forms applicable to meTax slabsDeductions on which I can get tax benefitUpdate my profile detailsAssisted filingDownloadsCompanyDomestic CompanyGuidance to file Tax ReturnReturn / Forms applicable to meTax slabsDeductions on which I can get tax benefitUpdate my profile detailsDownloadsForeign CompanyGuidance to file Tax returnReturn / Forms applicable to meTax slabsDeductions on which I can get tax benefitUpdate my profile detailsDownloadsNon-CompanyAOP/BOI/Trust/AJPGuidance to file Tax ReturnReturn / Forms applicable to meTax slabsDeductions on which I can get tax benefitUpdate my profile detailsDownloadsFirm/LLPGuidance to file Tax ReturnReturn / Forms applicable to meTax slabsDeductions on which I can get tax benefitUpdate my profile detailsDownloadsLocal AuthorityGuidance to file Tax ReturnReturn / Forms applicable to meTax slabsDeductions on which I can get tax benefitUpdate my profile detailsDownloadsTax Professionals & OthersChartered AccountantsRegistrationService Availablee-Return IntermediariesAPI SpecificationsERI ListExternal AgencyCentral & State Government Department/Approved Undertaking AgencyRBI Approved BanksTax Deductor & CollectorRegistrationService AvailableDownloadsHelp\\n\\n\\n\\nMain navigation\\n\\n\\nHome\\n\\n\\nIndividual/HUF \\n\\n\\nSalaried Employees\\n\\n\\nGuidance to file Tax Return\\n\\n\\nReturn / Forms applicable to me\\n\\n\\nTax slabs\\n\\n\\nDeductions on which I can get tax benefit\\n\\n\\nUpdate my profile details\\n\\n\\nAssisted filing\\n\\n\\nDownloads\\n\\n\\n\\n\\nBusiness/Profession\\n\\n\\nGuidance to file Tax Return\\n\\n\\nReturn / Forms applicable to me\\n\\n\\nTax slabs\\n\\n\\nDeductions on which I can get tax benefit\\n\\n\\nUpdate my profile details\\n\\n\\nAssisted filing\\n\\n\\nDownloads\\n\\n\\n\\n\\nSenior / Super Senior Citizen\\n\\n\\nGuidance to file Tax Return\\n\\n\\nReturn / Forms applicable to me\\n\\n\\n Tax slabs\\n\\n\\nDeductions on which I can get tax benefit\\n\\n\\nUpdate my profile details\\n\\n\\nAssisted filing\\n\\n\\nDownloads\\n\\n\\n\\n\\nNon Resident\\n\\n\\nGuidance to file Tax Return\\n\\n\\nReturn / Forms applicable to me\\n\\n\\nTax slabs\\n\\n\\nDeductions on which I can get tax benefit\\n\\n\\nUpdate my profile details\\n\\n\\n Assisted filing\\n\\n\\nDownloads\\n\\n\\n\\n\\nHindu Undivided Family (HUF)\\n\\n\\nGuidance to file Tax Return\\n\\n\\nReturn / Forms applicable to me\\n\\n\\nTax slabs\\n\\n\\nDeductions on which I can get tax benefit\\n\\n\\nUpdate my profile details\\n\\n\\nAssisted filing\\n\\n\\nDownloads\\n\\n\\n\\n\\n\\n\\nCompany \\n\\n\\nDomestic Company\\n\\n\\nGuidance to file Tax Return\\n\\n\\nReturn / Forms applicable to me\\n\\n\\nTax slabs\\n\\n\\nDeductions on which I can get tax benefit\\n\\n\\nUpdate my profile details\\n\\n\\nDownloads\\n\\n\\n\\n\\nForeign Company\\n\\n\\nGuidance to file Tax return\\n\\n\\nReturn / Forms applicable to me\\n\\n\\nTax slabs\\n\\n\\nDeductions on which I can get tax benefit\\n\\n\\nUpdate my profile details\\n\\n\\nDownloads\\n\\n\\n\\n\\n\\n\\nNon-Company \\n\\n\\nAOP/BOI/Trust/AJP\\n\\n\\nGuidance to file Tax Return\\n\\n\\nReturn / Forms applicable to me\\n\\n\\nTax slabs\\n\\n\\nDeductions on which I can get tax benefit\\n\\n\\nUpdate my profile details\\n\\n\\nDownloads\\n\\n\\n\\n\\nFirm/LLP\\n\\n\\nGuidance to file Tax Return\\n\\n\\nReturn / Forms applicable to me\\n\\n\\nTax slabs\\n\\n\\nDeductions on which I can get tax benefit\\n\\n\\nUpdate my profile details\\n\\n\\nDownloads\\n\\n\\n\\n\\nLocal Authority\\n\\n\\nGuidance to file Tax Return\\n\\n\\nReturn / Forms applicable to me\\n\\n\\nTax slabs\\n\\n\\nDeductions on which I can get tax benefit\\n\\n\\nUpdate my profile details\\n\\n\\nDownloads\\n\\n\\n\\n\\n\\n\\nTax Professionals & Others \\n\\n\\nChartered Accountants\\n\\n\\nRegistration\\n\\n\\nService Available\\n\\n\\n\\n\\ne-Return Intermediaries\\n\\n\\nAPI Specifications\\n\\n\\nERI List\\n\\n\\n\\n\\nExternal Agency\\n\\n\\nCentral & State Government Department/Approved Undertaking Agency\\n\\n\\nRBI Approved Banks\\n\\n\\n\\n\\nTax Deductor & Collector\\n\\n\\nRegistration\\n\\n\\nService Available\\n\\n\\n\\n\\n\\n\\nDownloads\\n\\n\\nHelp\\n\\n\\n\\n\\n\\n\\n\\n\\n\\n\\nDo not have an account?\\nRegister\\nAlready have an account?\\nLogin\\n\\n\\n\\n\\n\\n\\n\\n\\n\\n\\n\\n\\n\\ntest\\n\\n\\nSearch\\n\\n\\n\\n\\n\\n\\n\\n\\n\\n                  How to File Tax Returns\\n              \\n\\n                  How to File Tax Returns\\n              \\n\\nHow to File Tax Returns\\n\\n\\n\\n\\n\\n\\n\\n\\n\\n\\n\\n\\n\\nHow to File Tax Returns\\n\\xa0\\nFor information on How to File Returns, please refer to the following resources:\\nITR-1 User Manual\\nITR-1 Frequently Asked Questions\\xa0\\nITR-4\\xa0User Manual\\xa0\\nITR-4\\xa0Frequently Asked Questions\\xa0\\n\\n\\n\\n\\n\\n\\n\\n\\n\\n\\n\\n\\n\\n\\n\\n\\nFooter\\n\\n\\nAbout Us \\n\\n\\nAbout the Portal\\n\\n\\nHistory of Direct Taxation\\n\\n\\nVision, Mission, Values\\n\\n\\nVision, Mission, Values (Hindi)\\n\\n\\nWho We Are\\n\\n\\nRight to Information\\n\\n\\nOrganization & Functions\\n\\n\\nMedia Reports\\n\\n\\ne-Filing Calender 2025\\n\\n\\nTax Payer Charter\\n\\n\\nTax Payer Charter (Hindi)\\n\\n\\n\\n\\nContact Us \\n\\n\\nHelpdesk Numbers\\n\\n\\nGrievances\\n\\n\\nView Grievance\\n\\n\\nHelp\\n\\n\\n\\n\\nUsing the Portal \\n\\n\\nWebsite Policies\\n\\n\\nAccessibility Statement\\n\\n\\nSite Map\\n\\n\\nBrowser Support\\n\\n\\n\\n\\nRelated Sites \\n\\n\\nIncome Tax India\\n\\n\\nProtean (previously NSDL)\\n\\n\\nTRACES\\n\\n\\n\\n\\n\\n\\nFollow us on\\nFollow us on :         \\n\\n\\n\\n\\n\\n\\n\\n\\n\\nLast reviewed and updated on : current time\\nThis site is best viewed in 1024 * 768 resolution with latest version of Chrome, Firefox, Safari and Microsoft Edge.\\nCopyright @ Income Tax Department, Ministry of Finance, Government of India. All Rights Reserved.\\n\\n\\n\\n\\n\\n\\n\\n\\n\\n\\n\\n\\n\\n\\n\\n\\n\\n\\n\\n\\n\\n\\n\\n\\n\\n\\n\\n\\n\\n\\n\\n\\n\\n\\n\\n\\n\\n\\n\\n\\n\\n\\n\\n\\n\\n\\n\\n\\n\\n\\n\\n\\n\\n\\n\\n\\n\\n\\n\\n\\n\\n\\n\\n\\n\\n\\n\\n\\n\\n\\n\\n\\n\\n\\n\\n\\n\\n\\n\\n\\n\\n\\n\\n\\n\\n\\n\\n\\n\\n\\n\\n\\n\\n\\n\\n\\n\\n')"
      ]
     },
     "execution_count": 3,
     "metadata": {},
     "output_type": "execute_result"
    }
   ],
   "source": [
    "docs[0]"
   ]
  },
  {
   "cell_type": "code",
   "execution_count": 4,
   "id": "522c6b78",
   "metadata": {},
   "outputs": [],
   "source": [
    "# Split the documents\n",
    "#langchain_docs = [LangchainDocument(page_content=doc[\"text\"], metadata={\"source\": doc[\"source\"]}) for doc in tqdm(ds)]\n",
    "\n",
    "\n",
    "text_splitter = RecursiveCharacterTextSplitter(\n",
    "    chunk_size=1000,\n",
    "    chunk_overlap=200,\n",
    "    add_start_index=True,\n",
    "    separators=[ r\"\\n#\", \".\", r\"\\t#\", \" \", \"\"],\n",
    "    length_function= lambda text: len(tiktoken.encoding_for_model(\"gpt-3.5-turbo\").encode(text)),\n",
    "    is_separator_regex=True\n",
    ")\n",
    "\n",
    "docs_processed = []\n",
    "for doc in docs:\n",
    "    docs_processed += text_splitter.split_documents([doc])\n",
    "\n"
   ]
  },
  {
   "cell_type": "code",
   "execution_count": 5,
   "id": "6eb1fa93",
   "metadata": {},
   "outputs": [
    {
     "data": {
      "text/plain": [
       "141"
      ]
     },
     "execution_count": 5,
     "metadata": {},
     "output_type": "execute_result"
    }
   ],
   "source": [
    "len(docs_processed)"
   ]
  },
  {
   "cell_type": "code",
   "execution_count": 6,
   "id": "ea82f6b4",
   "metadata": {},
   "outputs": [
    {
     "data": {
      "text/plain": [
       "[Document(metadata={'source': 'https://www.incometax.gov.in/iec/foportal/help/all-topics/tax-payer/individual/how-to-file-tax-returns', 'title': 'How to File Tax Returns | Income Tax Department', 'description': 'ITRs', 'language': 'en', 'start_index': 34}, page_content='How to File Tax Returns | Income Tax Department\\n\\n\\n\\n\\n\\n\\n\\n\\n\\n\\n\\n\\n\\n\\n\\n\\n\\n\\n      Skip to main content\\n    \\n\\n\\n\\n\\n\\n\\n\\n\\n\\n\\n\\n\\n\\n\\n\\n\\n\\n\\n\\n \\n\\nCall Us\\n\\n\\n\\ne-filing and Centralized Processing Center\\ne-Filing of Income Tax Return or Forms and other value added services & Intimation, Rectification, Refund and other Income Tax Processing Related Queries\\n\\n\\n1800 103 0025 (or)\\n1800 419 0025\\n+91-80-46122000\\n+91-80-61464700\\n\\n\\n08:00 hrs - 20:00 hrs\\n(Monday to Friday)\\n\\n\\n\\n\\nTax Information Network - NSDL\\nQueries related to PAN & TAN application for Issuance / Update through NSDL\\n\\n\\n+91-20-27218080\\n\\n\\n07:00 hrs - 23:00 hrs\\n(All Days)\\n\\n\\n\\n\\nAIS and Reporting Portal\\nQueries related to AIS, TIS, SFT Preliminary response, Response to e-campaigns or e-Verification\\n\\n\\n1800 103 4215\\n\\n\\n09:30 hrs - 18:00 hrs\\n(Monday to Friday)\\n\\n\\nView All\\n\\n\\n\\n\\n\\n    \\n\\n  \\n\\nSelect your language\\nEnglishHindi\\n\\nGo\\n\\n\\n\\n\\n\\n\\n\\n\\nLogin\\nRegister\\n\\n\\n\\n\\n\\u200c \\n\\n\\n\\n\\n\\n\\n\\n\\n\\n\\n\\n\\nHomeIndividual/HUFSalaried EmployeesGuidance to file Tax ReturnReturn / Forms applicable to meTax slabsDeductions on which I can get tax benefitUpdate my profile detailsAssisted filingDownloadsBusiness/P'),\n",
       " Document(metadata={'source': 'https://www.incometax.gov.in/iec/foportal/help/all-topics/tax-payer/individual/how-to-file-tax-returns', 'title': 'How to File Tax Returns | Income Tax Department', 'description': 'ITRs', 'language': 'en', 'start_index': 930}, page_content='eIndividual/HUFSalaried EmployeesGuidance to file Tax ReturnReturn / Forms applicable to meTax slabsDeductions on which I can get tax benefitUpdate my profile detailsAssisted filingDownloadsBusiness/ProfessionGuidance to file Tax ReturnReturn / Forms applicable to meTax slabsDeductions on which I can get tax benefitUpdate my profile detailsAssisted filingDownloadsSenior / Super Senior CitizenGuidance to file Tax ReturnReturn / Forms applicable to me Tax slabsDeductions on which I can get tax benefitUpdate my profile detailsAssisted filingDownloadsNon ResidentGuidance to file Tax ReturnReturn / Forms applicable to meTax slabsDeductions on which I can get tax benefitUpdate my profile details Assisted filingDownloadsHindu Undivided Family (HUF)Guidance to file Tax ReturnReturn / Forms applicable to meTax slabsDeductions on which I can get tax benefitUpdate my profile detailsAssisted filingDownloadsCompanyDomestic CompanyGuidance to file Tax ReturnReturn / Forms applicable to meTax slabsDe'),\n",
       " Document(metadata={'source': 'https://www.incometax.gov.in/iec/foportal/help/all-topics/tax-payer/individual/how-to-file-tax-returns', 'title': 'How to File Tax Returns | Income Tax Department', 'description': 'ITRs', 'language': 'en', 'start_index': 1730}, page_content='ble to meTax slabsDeductions on which I can get tax benefitUpdate my profile detailsAssisted filingDownloadsCompanyDomestic CompanyGuidance to file Tax ReturnReturn / Forms applicable to meTax slabsDeductions on which I can get tax benefitUpdate my profile detailsDownloadsForeign CompanyGuidance to file Tax returnReturn / Forms applicable to meTax slabsDeductions on which I can get tax benefitUpdate my profile detailsDownloadsNon-CompanyAOP/BOI/Trust/AJPGuidance to file Tax ReturnReturn / Forms applicable to meTax slabsDeductions on which I can get tax benefitUpdate my profile detailsDownloadsFirm/LLPGuidance to file Tax ReturnReturn / Forms applicable to meTax slabsDeductions on which I can get tax benefitUpdate my profile detailsDownloadsLocal AuthorityGuidance to file Tax ReturnReturn / Forms applicable to meTax slabsDeductions on which I can get tax benefitUpdate my profile detailsDownloadsTax Professionals & OthersChartered AccountantsRegistrationService Availablee-Return Intermed')]"
      ]
     },
     "execution_count": 6,
     "metadata": {},
     "output_type": "execute_result"
    }
   ],
   "source": [
    "docs_processed[:3]"
   ]
  },
  {
   "cell_type": "markdown",
   "id": "43a69c64",
   "metadata": {},
   "source": [
    "#### Creating a team of agents for different tasks\n",
    "- Question Agent\n",
    "- Critique Agent\n",
    "- Agent as a Judge\n",
    "- Answering Agent"
   ]
  },
  {
   "cell_type": "code",
   "execution_count": 10,
   "id": "316ac190",
   "metadata": {},
   "outputs": [],
   "source": [
    "MISTRAL_KEY = os.environ.get('MISTRAL_KEY')\n",
    "QWEN_API_KEY = os.environ.get('QWEN_API_KEY')"
   ]
  },
  {
   "cell_type": "code",
   "execution_count": 34,
   "id": "38791d64",
   "metadata": {},
   "outputs": [],
   "source": [
    "llm  = init_chat_model(\"mistral-large-latest\", \n",
    "                       model_provider=\"mistralai\", \n",
    "                       timeout = 60, \n",
    "                       streaming = True,\n",
    "                       api_key = MISTRAL_KEY\n",
    "                       )"
   ]
  },
  {
   "cell_type": "code",
   "execution_count": 43,
   "id": "c40c4dc7",
   "metadata": {},
   "outputs": [
    {
     "data": {
      "text/plain": [
       "AIMessage(content='Hey! What\\'s up? 😊 How can I help you today? (Also, love the casual vibe—\"dude\" works for me! 🤙)', additional_kwargs={}, response_metadata={'model_name': 'mistral-large-latest', 'finish_reason': 'stop'}, id='run--edfed2b0-7670-4ebc-8bfd-612dc30e9464-0', usage_metadata={'input_tokens': 6, 'output_tokens': 38, 'total_tokens': 44})"
      ]
     },
     "execution_count": 43,
     "metadata": {},
     "output_type": "execute_result"
    }
   ],
   "source": [
    "llm.invoke(\"Hi dude\")"
   ]
  },
  {
   "cell_type": "code",
   "execution_count": null,
   "id": "45d13c92",
   "metadata": {},
   "outputs": [],
   "source": [
    "\"model\": \"qwen/qwen3-4b:free\","
   ]
  },
  {
   "cell_type": "code",
   "execution_count": 36,
   "id": "6486189e",
   "metadata": {},
   "outputs": [],
   "source": [
    "def openrouter_llm(url:str, model:str, api_key:str, prompt:str):\n",
    "    response = requests.post(\n",
    "        url=\"https://openrouter.ai/api/v1/chat/completions\",\n",
    "        headers={\n",
    "            \"Authorization\": F\"Bearer {api_key}\",\n",
    "            \"Content-Type\": \"application/json\",\n",
    "        },\n",
    "        data=json.dumps({\n",
    "            \"model\": model,\n",
    "            \"messages\": [\n",
    "                {\n",
    "                    \"role\": \"user\",\n",
    "                    \"content\": prompt\n",
    "                }\n",
    "            ],\n",
    "\n",
    "        })\n",
    "    )\n",
    "    return response.json()['choices'][0]['message']['content']"
   ]
  },
  {
   "cell_type": "code",
   "execution_count": 37,
   "id": "d073a670",
   "metadata": {},
   "outputs": [],
   "source": [
    "response = openrouter_llm(\n",
    "    url=\"https://openrouter.ai/api/v1/chat/completions\",\n",
    "    model=\"qwen/qwen3-4b:free\",\n",
    "    api_key=QWEN_API_KEY,\n",
    "    prompt=\"Hi\"\n",
    ")"
   ]
  },
  {
   "cell_type": "code",
   "execution_count": 38,
   "id": "64721d4d",
   "metadata": {},
   "outputs": [
    {
     "data": {
      "text/plain": [
       "'Hello! How can I assist you today? 😊'"
      ]
     },
     "execution_count": 38,
     "metadata": {},
     "output_type": "execute_result"
    }
   ],
   "source": [
    "response"
   ]
  },
  {
   "cell_type": "code",
   "execution_count": 45,
   "id": "3ddcd831",
   "metadata": {},
   "outputs": [],
   "source": [
    "QA_generation_prompt = \"\"\"\n",
    "Your task is to write a factoid question and an answer given a context.\n",
    "Your factoid question should be answerable with a specific, concise piece of factual information from the context.\n",
    "Your factoid question should be formulated in the same style as questions users could ask in a search engine.\n",
    "This means that your factoid question MUST NOT mention something like \"according to the passage\" or \"context\".\n",
    "\n",
    "Provide your answer as follows:\n",
    "\n",
    "Output:::\n",
    "Factoid question: (your factoid question)\n",
    "Answer: (your answer to the factoid question)\n",
    "\n",
    "Now here is the context.\n",
    "\n",
    "Context: {context}\\n\n",
    "Output:::\"\"\""
   ]
  },
  {
   "cell_type": "code",
   "execution_count": 46,
   "id": "d9bb666b",
   "metadata": {},
   "outputs": [
    {
     "name": "stdout",
     "output_type": "stream",
     "text": [
      "Generating 20 QA pairs...\n"
     ]
    },
    {
     "name": "stderr",
     "output_type": "stream",
     "text": [
      "100%|██████████| 20/20 [02:24<00:00,  7.24s/it]\n"
     ]
    }
   ],
   "source": [
    "import random\n",
    "N_QA_COUPLES = 20\n",
    "\n",
    "print(f\"Generating {N_QA_COUPLES} QA pairs...\")\n",
    "\n",
    "outputs = []\n",
    "\n",
    "for sampled_context in tqdm(random.sample(docs_processed, N_QA_COUPLES)):\n",
    "    prompt = QA_generation_prompt.format(context=sampled_context.page_content)\n",
    "    response = openrouter_llm(\n",
    "    url=\"https://openrouter.ai/api/v1/chat/completions\",\n",
    "    model=\"qwen/qwen3-4b:free\",\n",
    "    api_key=QWEN_API_KEY,\n",
    "    prompt=prompt\n",
    ")\n",
    "\n",
    "    try:\n",
    "        question = response.split(\"Factoid question:\")[-1].split(\"Answer:\")[0]\n",
    "        answer = response.split(\"Answer:\")[-1]\n",
    "        assert len(answer) < 300, \"Answer too long\"\n",
    "        outputs.append({\n",
    "            \"context\": sampled_context.page_content,\n",
    "            \"question\": question,\n",
    "            \"answer\": answer,\n",
    "            \"source\": sampled_context.metadata[\"source\"]\n",
    "        })\n",
    "    except Exception as e:\n",
    "        print(f\"Error generating QA pair for context: {sampled_context.page_content}\")\n",
    "        print(f\"Error message: {e}\")\n"
   ]
  },
  {
   "cell_type": "code",
   "execution_count": 48,
   "id": "5c52b1aa",
   "metadata": {},
   "outputs": [
    {
     "data": {
      "text/html": [
       "<div>\n",
       "<style scoped>\n",
       "    .dataframe tbody tr th:only-of-type {\n",
       "        vertical-align: middle;\n",
       "    }\n",
       "\n",
       "    .dataframe tbody tr th {\n",
       "        vertical-align: top;\n",
       "    }\n",
       "\n",
       "    .dataframe thead th {\n",
       "        text-align: right;\n",
       "    }\n",
       "</style>\n",
       "<table border=\"1\" class=\"dataframe\">\n",
       "  <thead>\n",
       "    <tr style=\"text-align: right;\">\n",
       "      <th></th>\n",
       "      <th>context</th>\n",
       "      <th>question</th>\n",
       "      <th>answer</th>\n",
       "      <th>source</th>\n",
       "    </tr>\n",
       "  </thead>\n",
       "  <tbody>\n",
       "    <tr>\n",
       "      <th>0</th>\n",
       "      <td>dent\\n•    PAN of the Dependent\\n•    Aadhaar of the Dependent\\n•    Acknowledgement no. of form 10 IA filed incase of autism, cerebral palsy, or multiple disabilities.\\n•    UDID number (if available)\\n\\nSection 80DDB\\n\\n\\n \\n\\n\\n \\nDeduction towards payments made towards Medical treatment of Self or Dependant for specified diseases\\n\\n\\n \\n\\nDeduction limit of₹ 40,000\\n\\t\\t\\t\\t\\t\\t(₹ 1,00,000 if Senior Citizen)\\n\\n\\n \\n \\n  \\n\\nSection 80E\\n\\n\\nDeduction towards interest payments made on loan for higher education of Self or relative\\n\\n\\n\\nTotal amount paid towards interest on loan taken\\n\\n\\nNote:\\nFor claiming deduction under section 80E, below details need to be provided in ITR :\\n•    Loan taken from bank / institution\\n•    Name of the institution / bank from which the loan is taken\\n•    Loan Account Number of the bank / institution\\n•    Date of sanction of loan\\n•    Total Amount of loan\\n•    Loan outstanding as on last date of financial year\\n•    Interest u/s 80E\\nPlease note that the deduction u/s 80E can be claimed only if the limit in section</td>\n",
       "      <td>What is the deduction limit under Section 80DDB for senior citizens?  \\n</td>\n",
       "      <td>₹1,00,000</td>\n",
       "      <td>https://www.incometax.gov.in/iec/foportal/help/individual/return-applicable-1#taxdeductions</td>\n",
       "    </tr>\n",
       "    <tr>\n",
       "      <th>1</th>\n",
       "      <td>income of the whole of the amount so contributed \\n\\n\\n\\n\\nTax deductions in the Old Tax Regime \\nSection 24(b) – Deduction from Income from House Property on interest paid on housing loan &amp; housing improvement loan. In case of self- occupied property, the upper limit for deduction of interest paid on housing loan is  ₹ 2 lakh. Interest on loan u/s 24(b) allowable is tabulated below:\\n\\nNature of Property\\n\\n\\nWhen loan was taken\\n\\n\\nPurpose of loan\\n\\n\\nAllowable (Maximum limit)\\n\\nDetails Required\\n\\nSelf-Occupied\\n\\n\\nOn or after 1/04/1999\\n\\n\\nConstruction or purchase of house property                            \\n\\n\\n₹ 2,00,000\\n\\n•Loan taken from bank / Other than bank\\n\\t\\t\\t•Name of the bank / institution / person from whom the loan is taken\\n\\t\\t\\t•Loan Account Number of the bank / institution .\\n\\t\\t\\t•Date of sanction of loan\\n\\t\\t\\t•Total Amount of loan\\n\\t\\t\\t•Loan outstanding as on last date of financial year\\n\\t\\t\\t•Interest on borrowed capital u/s 24(b)\\n\\nOn or after 1/04/1999\\n\\n\\nFor Repairs of house property          \\n\\n\\n₹ 30,000\\n\\n\\nBefore 1/04/1999\\n\\n\\nCons</td>\n",
       "      <td>What is the maximum deduction allowed for interest paid on a housing loan for a self-occupied property under the Old Tax Regime?  \\n</td>\n",
       "      <td>₹2,00,000.</td>\n",
       "      <td>https://www.incometax.gov.in/iec/foportal/help/individual/return-applicable-1#taxdeductions</td>\n",
       "    </tr>\n",
       "  </tbody>\n",
       "</table>\n",
       "</div>"
      ],
      "text/plain": [
       "                                                                                                                                                                                                                                                                                                                                                                                                                                                                                                                                                                                                                                                                                                                                                                                                                                                                                                                                                                                                                                                                                                                                        context  \\\n",
       "0                            dent\\n•    PAN of the Dependent\\n•    Aadhaar of the Dependent\\n•    Acknowledgement no. of form 10 IA filed incase of autism, cerebral palsy, or multiple disabilities.\\n•    UDID number (if available)\\n\\nSection 80DDB\\n\\n\\n \\n\\n\\n \\nDeduction towards payments made towards Medical treatment of Self or Dependant for specified diseases\\n\\n\\n \\n\\nDeduction limit of₹ 40,000\\n\\t\\t\\t\\t\\t\\t(₹ 1,00,000 if Senior Citizen)\\n\\n\\n \\n \\n  \\n\\nSection 80E\\n\\n\\nDeduction towards interest payments made on loan for higher education of Self or relative\\n\\n\\n\\nTotal amount paid towards interest on loan taken\\n\\n\\nNote:\\nFor claiming deduction under section 80E, below details need to be provided in ITR :\\n•    Loan taken from bank / institution\\n•    Name of the institution / bank from which the loan is taken\\n•    Loan Account Number of the bank / institution\\n•    Date of sanction of loan\\n•    Total Amount of loan\\n•    Loan outstanding as on last date of financial year\\n•    Interest u/s 80E\\nPlease note that the deduction u/s 80E can be claimed only if the limit in section   \n",
       "1  income of the whole of the amount so contributed \\n\\n\\n\\n\\nTax deductions in the Old Tax Regime \\nSection 24(b) – Deduction from Income from House Property on interest paid on housing loan & housing improvement loan. In case of self- occupied property, the upper limit for deduction of interest paid on housing loan is  ₹ 2 lakh. Interest on loan u/s 24(b) allowable is tabulated below:\\n\\nNature of Property\\n\\n\\nWhen loan was taken\\n\\n\\nPurpose of loan\\n\\n\\nAllowable (Maximum limit)\\n\\nDetails Required\\n\\nSelf-Occupied\\n\\n\\nOn or after 1/04/1999\\n\\n\\nConstruction or purchase of house property                            \\n\\n\\n₹ 2,00,000\\n\\n•Loan taken from bank / Other than bank\\n\\t\\t\\t•Name of the bank / institution / person from whom the loan is taken\\n\\t\\t\\t•Loan Account Number of the bank / institution .\\n\\t\\t\\t•Date of sanction of loan\\n\\t\\t\\t•Total Amount of loan\\n\\t\\t\\t•Loan outstanding as on last date of financial year\\n\\t\\t\\t•Interest on borrowed capital u/s 24(b)\\n\\nOn or after 1/04/1999\\n\\n\\nFor Repairs of house property          \\n\\n\\n₹ 30,000\\n\\n\\nBefore 1/04/1999\\n\\n\\nCons   \n",
       "\n",
       "                                                                                                                                question  \\\n",
       "0                                                               What is the deduction limit under Section 80DDB for senior citizens?  \\n   \n",
       "1   What is the maximum deduction allowed for interest paid on a housing loan for a self-occupied property under the Old Tax Regime?  \\n   \n",
       "\n",
       "        answer  \\\n",
       "0    ₹1,00,000   \n",
       "1   ₹2,00,000.   \n",
       "\n",
       "                                                                                        source  \n",
       "0  https://www.incometax.gov.in/iec/foportal/help/individual/return-applicable-1#taxdeductions  \n",
       "1  https://www.incometax.gov.in/iec/foportal/help/individual/return-applicable-1#taxdeductions  "
      ]
     },
     "metadata": {},
     "output_type": "display_data"
    }
   ],
   "source": [
    "display(pd.DataFrame(outputs).head(2))"
   ]
  },
  {
   "cell_type": "code",
   "execution_count": null,
   "id": "125dfdbc",
   "metadata": {},
   "outputs": [],
   "source": []
  },
  {
   "cell_type": "code",
   "execution_count": null,
   "id": "31bc9604",
   "metadata": {},
   "outputs": [],
   "source": []
  },
  {
   "cell_type": "code",
   "execution_count": null,
   "id": "dcfaaf97",
   "metadata": {},
   "outputs": [],
   "source": []
  },
  {
   "cell_type": "code",
   "execution_count": null,
   "id": "166ca150",
   "metadata": {},
   "outputs": [],
   "source": []
  },
  {
   "cell_type": "code",
   "execution_count": null,
   "id": "29f068d5",
   "metadata": {},
   "outputs": [],
   "source": []
  },
  {
   "cell_type": "code",
   "execution_count": null,
   "id": "81bf278d",
   "metadata": {},
   "outputs": [],
   "source": []
  },
  {
   "cell_type": "code",
   "execution_count": null,
   "id": "6b7332e6",
   "metadata": {},
   "outputs": [],
   "source": []
  },
  {
   "cell_type": "code",
   "execution_count": null,
   "id": "1870a1cb",
   "metadata": {},
   "outputs": [],
   "source": []
  },
  {
   "cell_type": "code",
   "execution_count": null,
   "id": "a5922053",
   "metadata": {},
   "outputs": [],
   "source": []
  },
  {
   "cell_type": "code",
   "execution_count": null,
   "id": "54a3afbd",
   "metadata": {},
   "outputs": [],
   "source": []
  },
  {
   "cell_type": "code",
   "execution_count": null,
   "id": "e33c73ba",
   "metadata": {},
   "outputs": [],
   "source": []
  },
  {
   "cell_type": "code",
   "execution_count": null,
   "id": "e2be76f1",
   "metadata": {},
   "outputs": [],
   "source": []
  },
  {
   "cell_type": "code",
   "execution_count": null,
   "id": "03b79731",
   "metadata": {},
   "outputs": [],
   "source": []
  },
  {
   "cell_type": "code",
   "execution_count": null,
   "id": "74506166",
   "metadata": {},
   "outputs": [],
   "source": []
  },
  {
   "cell_type": "code",
   "execution_count": null,
   "id": "a21adbe8",
   "metadata": {},
   "outputs": [],
   "source": []
  },
  {
   "cell_type": "code",
   "execution_count": null,
   "id": "1638263d",
   "metadata": {},
   "outputs": [],
   "source": []
  },
  {
   "cell_type": "code",
   "execution_count": null,
   "id": "104eae21",
   "metadata": {},
   "outputs": [],
   "source": []
  },
  {
   "cell_type": "code",
   "execution_count": null,
   "id": "9a3fdd45",
   "metadata": {},
   "outputs": [],
   "source": []
  },
  {
   "cell_type": "code",
   "execution_count": null,
   "id": "bef52ada",
   "metadata": {},
   "outputs": [],
   "source": []
  },
  {
   "cell_type": "code",
   "execution_count": null,
   "id": "fe032b51",
   "metadata": {},
   "outputs": [],
   "source": []
  },
  {
   "cell_type": "code",
   "execution_count": null,
   "id": "7059c527",
   "metadata": {},
   "outputs": [],
   "source": []
  },
  {
   "cell_type": "code",
   "execution_count": null,
   "id": "5b0a0637",
   "metadata": {},
   "outputs": [],
   "source": []
  },
  {
   "cell_type": "code",
   "execution_count": null,
   "id": "dd537094",
   "metadata": {},
   "outputs": [],
   "source": []
  },
  {
   "cell_type": "code",
   "execution_count": null,
   "id": "174043b6",
   "metadata": {},
   "outputs": [],
   "source": []
  },
  {
   "cell_type": "code",
   "execution_count": null,
   "id": "4c38351e",
   "metadata": {},
   "outputs": [],
   "source": []
  },
  {
   "cell_type": "code",
   "execution_count": null,
   "id": "e30347e7",
   "metadata": {},
   "outputs": [],
   "source": []
  },
  {
   "cell_type": "code",
   "execution_count": null,
   "id": "b7687c12",
   "metadata": {},
   "outputs": [],
   "source": []
  },
  {
   "cell_type": "code",
   "execution_count": null,
   "id": "445f48b1",
   "metadata": {},
   "outputs": [],
   "source": []
  },
  {
   "cell_type": "code",
   "execution_count": null,
   "id": "a324d2f8",
   "metadata": {},
   "outputs": [],
   "source": []
  },
  {
   "cell_type": "code",
   "execution_count": null,
   "id": "a5e7a39b",
   "metadata": {},
   "outputs": [],
   "source": []
  },
  {
   "cell_type": "code",
   "execution_count": null,
   "id": "40973517",
   "metadata": {},
   "outputs": [],
   "source": []
  },
  {
   "cell_type": "code",
   "execution_count": null,
   "id": "dcabf2da",
   "metadata": {},
   "outputs": [],
   "source": []
  },
  {
   "cell_type": "code",
   "execution_count": null,
   "id": "66fc0cc8",
   "metadata": {},
   "outputs": [],
   "source": []
  },
  {
   "cell_type": "code",
   "execution_count": null,
   "id": "9a51f167",
   "metadata": {},
   "outputs": [],
   "source": []
  },
  {
   "cell_type": "code",
   "execution_count": null,
   "id": "ce163fe4",
   "metadata": {},
   "outputs": [],
   "source": []
  },
  {
   "cell_type": "code",
   "execution_count": null,
   "id": "067a3e8e",
   "metadata": {},
   "outputs": [],
   "source": []
  },
  {
   "cell_type": "code",
   "execution_count": null,
   "id": "7a87b408",
   "metadata": {},
   "outputs": [],
   "source": []
  },
  {
   "cell_type": "code",
   "execution_count": null,
   "id": "38e126d0",
   "metadata": {},
   "outputs": [],
   "source": []
  },
  {
   "cell_type": "code",
   "execution_count": null,
   "id": "52c2a16e",
   "metadata": {},
   "outputs": [],
   "source": []
  },
  {
   "cell_type": "code",
   "execution_count": null,
   "id": "420d6da6",
   "metadata": {},
   "outputs": [],
   "source": []
  },
  {
   "cell_type": "code",
   "execution_count": null,
   "id": "6aafa3b3",
   "metadata": {},
   "outputs": [],
   "source": []
  },
  {
   "cell_type": "code",
   "execution_count": null,
   "id": "91aa3ee2",
   "metadata": {},
   "outputs": [],
   "source": []
  },
  {
   "cell_type": "code",
   "execution_count": null,
   "id": "07bd42b1",
   "metadata": {},
   "outputs": [],
   "source": []
  },
  {
   "cell_type": "code",
   "execution_count": null,
   "id": "ff1a1017",
   "metadata": {},
   "outputs": [],
   "source": []
  }
 ],
 "metadata": {
  "kernelspec": {
   "display_name": "ai-agent-langgraph-env (3.11.0)",
   "language": "python",
   "name": "python3"
  },
  "language_info": {
   "codemirror_mode": {
    "name": "ipython",
    "version": 3
   },
   "file_extension": ".py",
   "mimetype": "text/x-python",
   "name": "python",
   "nbconvert_exporter": "python",
   "pygments_lexer": "ipython3",
   "version": "3.11.0"
  }
 },
 "nbformat": 4,
 "nbformat_minor": 5
}
