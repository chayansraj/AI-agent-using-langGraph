{
 "cells": [
  {
   "cell_type": "markdown",
   "id": "7677601f",
   "metadata": {},
   "source": [
    "%pip install -q torch transformers langchain sentence-transformers tqdm openpyxl openai pandas datasets langchain-community ragatouille"
   ]
  },
  {
   "cell_type": "code",
   "execution_count": 1,
   "id": "5532d915",
   "metadata": {},
   "outputs": [
    {
     "name": "stdout",
     "output_type": "stream",
     "text": [
      "API key found in .env file for QWEN_API_KEY\n",
      "API key set successfully.\n"
     ]
    },
    {
     "name": "stderr",
     "output_type": "stream",
     "text": [
      "d:\\AI Projects\\AI agent using LangGraph\\AI-agent-using-langGraph\\ai-agent-langgraph-env\\Lib\\site-packages\\tqdm\\auto.py:21: TqdmWarning: IProgress not found. Please update jupyter and ipywidgets. See https://ipywidgets.readthedocs.io/en/stable/user_install.html\n",
      "  from .autonotebook import tqdm as notebook_tqdm\n"
     ]
    }
   ],
   "source": [
    "from dotenv import load_dotenv, find_dotenv\n",
    "import sys\n",
    "import os, getpass\n",
    "from openai import OpenAI\n",
    "\n",
    "\n",
    "# Add the project root directory to Python path\n",
    "project_root = os.path.dirname(os.path.abspath(''))\n",
    "if project_root not in sys.path:\n",
    "    sys.path.append(project_root)\n",
    "\n",
    "from utils import set_api_key\n",
    "\n",
    "\n",
    "load_dotenv(find_dotenv())  \n",
    "\n",
    "QWEN_API_KEY = set_api_key('QWEN_API_KEY')\n",
    "\n",
    "from tqdm.auto import tqdm\n",
    "import pandas as pd\n",
    "from typing import Optional, List, Tuple\n",
    "import json\n",
    "import tiktoken\n",
    "\n",
    "# requirements (example)\n",
    "# pip install requests beautifulsoup4 transformers sentence-transformers faiss-cpu langchain pillow pytesseract\n",
    "\n",
    "import requests\n",
    "from bs4 import BeautifulSoup\n",
    "from PIL import Image\n",
    "from io import BytesIO\n",
    "import os\n",
    "import numpy as np\n",
    "#import torch\n",
    "\n",
    "# Hugging Face tools\n",
    "#from transformers import pipeline, CLIPProcessor, CLIPModel\n",
    "from sentence_transformers import SentenceTransformer  # for text embeddings\n",
    "\n",
    "# LangChain\n",
    "from langchain.schema import Document\n",
    "from langchain.text_splitter import RecursiveCharacterTextSplitter\n",
    "from langchain.vectorstores import FAISS\n",
    "from langchain.text_splitter import RecursiveCharacterTextSplitter\n",
    "from langchain.docstore.document import Document as LangchainDocument\n",
    "import langgraph\n",
    "from langgraph.prebuilt import ToolNode\n",
    "from langchain.chat_models import init_chat_model\n",
    "\n",
    "\n",
    "\n",
    "pd.set_option(\"display.max_colwidth\", None)"
   ]
  },
  {
   "cell_type": "code",
   "execution_count": 2,
   "id": "c6881478",
   "metadata": {},
   "outputs": [
    {
     "name": "stderr",
     "output_type": "stream",
     "text": [
      "USER_AGENT environment variable not set, consider setting it to identify your requests.\n"
     ]
    },
    {
     "name": "stdout",
     "output_type": "stream",
     "text": [
      "Total Characters: 117671\n"
     ]
    }
   ],
   "source": [
    "from langchain_community.document_loaders import WebBaseLoader\n",
    "\n",
    "urls = [\n",
    "    \"https://www.incometax.gov.in/iec/foportal/help/all-topics/tax-payer/individual/how-to-file-tax-returns\",\n",
    "    \"https://www.incometax.gov.in/iec/foportal/help/individual/return-applicable-1#taxdeductions\",\n",
    "    \"https://www.incometax.gov.in/iec/foportal/help/individual/return-applicable-1#taxableincome\",\n",
    "    \"https://www.incometax.gov.in/iec/foportal/help/e-filing-itr1-form-sahaj-faq\",\n",
    "    \"https://www.incometax.gov.in/iec/foportal/help/e-filing-itr4-form-sugam-faq\"\n",
    "\n",
    "]\n",
    "loader = WebBaseLoader(urls)\n",
    "docs = loader.load()\n",
    "assert len(docs) == 5\n",
    "\n",
    "print(f\"Total Characters: {sum([len(doc.page_content) for doc in docs])}\")\n"
   ]
  },
  {
   "cell_type": "code",
   "execution_count": 3,
   "id": "815c127d",
   "metadata": {},
   "outputs": [
    {
     "data": {
      "text/plain": [
       "Document(metadata={'source': 'https://www.incometax.gov.in/iec/foportal/help/all-topics/tax-payer/individual/how-to-file-tax-returns', 'title': 'How to File Tax Returns | Income Tax Department', 'description': 'ITRs', 'language': 'en'}, page_content='\\n\\n\\n\\n\\n\\n\\n\\n\\n\\n\\n\\n\\n\\n\\n\\n\\n\\n\\n\\n\\n\\n\\n\\n\\n\\n\\n\\n\\n\\n\\n\\n\\n\\nHow to File Tax Returns | Income Tax Department\\n\\n\\n\\n\\n\\n\\n\\n\\n\\n\\n\\n\\n\\n\\n\\n\\n\\n\\n      Skip to main content\\n    \\n\\n\\n\\n\\n\\n\\n\\n\\n\\n\\n\\n\\n\\n\\n\\n\\n\\n\\n\\n \\n\\nCall Us\\n\\n\\n\\ne-filing and Centralized Processing Center\\ne-Filing of Income Tax Return or Forms and other value added services & Intimation, Rectification, Refund and other Income Tax Processing Related Queries\\n\\n\\n1800 103 0025 (or)\\n1800 419 0025\\n+91-80-46122000\\n+91-80-61464700\\n\\n\\n08:00 hrs - 20:00 hrs\\n(Monday to Friday)\\n\\n\\n\\n\\nTax Information Network - NSDL\\nQueries related to PAN & TAN application for Issuance / Update through NSDL\\n\\n\\n+91-20-27218080\\n\\n\\n07:00 hrs - 23:00 hrs\\n(All Days)\\n\\n\\n\\n\\nAIS and Reporting Portal\\nQueries related to AIS, TIS, SFT Preliminary response, Response to e-campaigns or e-Verification\\n\\n\\n1800 103 4215\\n\\n\\n09:30 hrs - 18:00 hrs\\n(Monday to Friday)\\n\\n\\nView All\\n\\n\\n\\n\\n\\n    \\n\\n  \\n\\nSelect your language\\nEnglishHindi\\n\\nGo\\n\\n\\n\\n\\n\\n\\n\\n\\nLogin\\nRegister\\n\\n\\n\\n\\n\\u200c \\n\\n\\n\\n\\n\\n\\n\\n\\n\\n\\n\\n\\nHomeIndividual/HUFSalaried EmployeesGuidance to file Tax ReturnReturn / Forms applicable to meTax slabsDeductions on which I can get tax benefitUpdate my profile detailsAssisted filingDownloadsBusiness/ProfessionGuidance to file Tax ReturnReturn / Forms applicable to meTax slabsDeductions on which I can get tax benefitUpdate my profile detailsAssisted filingDownloadsSenior / Super Senior CitizenGuidance to file Tax ReturnReturn / Forms applicable to me Tax slabsDeductions on which I can get tax benefitUpdate my profile detailsAssisted filingDownloadsNon ResidentGuidance to file Tax ReturnReturn / Forms applicable to meTax slabsDeductions on which I can get tax benefitUpdate my profile details Assisted filingDownloadsHindu Undivided Family (HUF)Guidance to file Tax ReturnReturn / Forms applicable to meTax slabsDeductions on which I can get tax benefitUpdate my profile detailsAssisted filingDownloadsCompanyDomestic CompanyGuidance to file Tax ReturnReturn / Forms applicable to meTax slabsDeductions on which I can get tax benefitUpdate my profile detailsDownloadsForeign CompanyGuidance to file Tax returnReturn / Forms applicable to meTax slabsDeductions on which I can get tax benefitUpdate my profile detailsDownloadsNon-CompanyAOP/BOI/Trust/AJPGuidance to file Tax ReturnReturn / Forms applicable to meTax slabsDeductions on which I can get tax benefitUpdate my profile detailsDownloadsFirm/LLPGuidance to file Tax ReturnReturn / Forms applicable to meTax slabsDeductions on which I can get tax benefitUpdate my profile detailsDownloadsLocal AuthorityGuidance to file Tax ReturnReturn / Forms applicable to meTax slabsDeductions on which I can get tax benefitUpdate my profile detailsDownloadsTax Professionals & OthersChartered AccountantsRegistrationService Availablee-Return IntermediariesAPI SpecificationsERI ListExternal AgencyCentral & State Government Department/Approved Undertaking AgencyRBI Approved BanksTax Deductor & CollectorRegistrationService AvailableDownloadsHelp\\n\\n\\n\\nMain navigation\\n\\n\\nHome\\n\\n\\nIndividual/HUF \\n\\n\\nSalaried Employees\\n\\n\\nGuidance to file Tax Return\\n\\n\\nReturn / Forms applicable to me\\n\\n\\nTax slabs\\n\\n\\nDeductions on which I can get tax benefit\\n\\n\\nUpdate my profile details\\n\\n\\nAssisted filing\\n\\n\\nDownloads\\n\\n\\n\\n\\nBusiness/Profession\\n\\n\\nGuidance to file Tax Return\\n\\n\\nReturn / Forms applicable to me\\n\\n\\nTax slabs\\n\\n\\nDeductions on which I can get tax benefit\\n\\n\\nUpdate my profile details\\n\\n\\nAssisted filing\\n\\n\\nDownloads\\n\\n\\n\\n\\nSenior / Super Senior Citizen\\n\\n\\nGuidance to file Tax Return\\n\\n\\nReturn / Forms applicable to me\\n\\n\\n Tax slabs\\n\\n\\nDeductions on which I can get tax benefit\\n\\n\\nUpdate my profile details\\n\\n\\nAssisted filing\\n\\n\\nDownloads\\n\\n\\n\\n\\nNon Resident\\n\\n\\nGuidance to file Tax Return\\n\\n\\nReturn / Forms applicable to me\\n\\n\\nTax slabs\\n\\n\\nDeductions on which I can get tax benefit\\n\\n\\nUpdate my profile details\\n\\n\\n Assisted filing\\n\\n\\nDownloads\\n\\n\\n\\n\\nHindu Undivided Family (HUF)\\n\\n\\nGuidance to file Tax Return\\n\\n\\nReturn / Forms applicable to me\\n\\n\\nTax slabs\\n\\n\\nDeductions on which I can get tax benefit\\n\\n\\nUpdate my profile details\\n\\n\\nAssisted filing\\n\\n\\nDownloads\\n\\n\\n\\n\\n\\n\\nCompany \\n\\n\\nDomestic Company\\n\\n\\nGuidance to file Tax Return\\n\\n\\nReturn / Forms applicable to me\\n\\n\\nTax slabs\\n\\n\\nDeductions on which I can get tax benefit\\n\\n\\nUpdate my profile details\\n\\n\\nDownloads\\n\\n\\n\\n\\nForeign Company\\n\\n\\nGuidance to file Tax return\\n\\n\\nReturn / Forms applicable to me\\n\\n\\nTax slabs\\n\\n\\nDeductions on which I can get tax benefit\\n\\n\\nUpdate my profile details\\n\\n\\nDownloads\\n\\n\\n\\n\\n\\n\\nNon-Company \\n\\n\\nAOP/BOI/Trust/AJP\\n\\n\\nGuidance to file Tax Return\\n\\n\\nReturn / Forms applicable to me\\n\\n\\nTax slabs\\n\\n\\nDeductions on which I can get tax benefit\\n\\n\\nUpdate my profile details\\n\\n\\nDownloads\\n\\n\\n\\n\\nFirm/LLP\\n\\n\\nGuidance to file Tax Return\\n\\n\\nReturn / Forms applicable to me\\n\\n\\nTax slabs\\n\\n\\nDeductions on which I can get tax benefit\\n\\n\\nUpdate my profile details\\n\\n\\nDownloads\\n\\n\\n\\n\\nLocal Authority\\n\\n\\nGuidance to file Tax Return\\n\\n\\nReturn / Forms applicable to me\\n\\n\\nTax slabs\\n\\n\\nDeductions on which I can get tax benefit\\n\\n\\nUpdate my profile details\\n\\n\\nDownloads\\n\\n\\n\\n\\n\\n\\nTax Professionals & Others \\n\\n\\nChartered Accountants\\n\\n\\nRegistration\\n\\n\\nService Available\\n\\n\\n\\n\\ne-Return Intermediaries\\n\\n\\nAPI Specifications\\n\\n\\nERI List\\n\\n\\n\\n\\nExternal Agency\\n\\n\\nCentral & State Government Department/Approved Undertaking Agency\\n\\n\\nRBI Approved Banks\\n\\n\\n\\n\\nTax Deductor & Collector\\n\\n\\nRegistration\\n\\n\\nService Available\\n\\n\\n\\n\\n\\n\\nDownloads\\n\\n\\nHelp\\n\\n\\n\\n\\n\\n\\n\\n\\n\\n\\nDo not have an account?\\nRegister\\nAlready have an account?\\nLogin\\n\\n\\n\\n\\n\\n\\n\\n\\n\\n\\n\\n\\n\\ntest\\n\\n\\nSearch\\n\\n\\n\\n\\n\\n\\n\\n\\n\\n                  How to File Tax Returns\\n              \\n\\n                  How to File Tax Returns\\n              \\n\\nHow to File Tax Returns\\n\\n\\n\\n\\n\\n\\n\\n\\n\\n\\n\\n\\n\\nHow to File Tax Returns\\n\\xa0\\nFor information on How to File Returns, please refer to the following resources:\\nITR-1 User Manual\\nITR-1 Frequently Asked Questions\\xa0\\nITR-4\\xa0User Manual\\xa0\\nITR-4\\xa0Frequently Asked Questions\\xa0\\n\\n\\n\\n\\n\\n\\n\\n\\n\\n\\n\\n\\n\\n\\n\\n\\nFooter\\n\\n\\nAbout Us \\n\\n\\nAbout the Portal\\n\\n\\nHistory of Direct Taxation\\n\\n\\nVision, Mission, Values\\n\\n\\nVision, Mission, Values (Hindi)\\n\\n\\nWho We Are\\n\\n\\nRight to Information\\n\\n\\nOrganization & Functions\\n\\n\\nMedia Reports\\n\\n\\ne-Filing Calender 2025\\n\\n\\nTax Payer Charter\\n\\n\\nTax Payer Charter (Hindi)\\n\\n\\n\\n\\nContact Us \\n\\n\\nHelpdesk Numbers\\n\\n\\nGrievances\\n\\n\\nView Grievance\\n\\n\\nHelp\\n\\n\\n\\n\\nUsing the Portal \\n\\n\\nWebsite Policies\\n\\n\\nAccessibility Statement\\n\\n\\nSite Map\\n\\n\\nBrowser Support\\n\\n\\n\\n\\nRelated Sites \\n\\n\\nIncome Tax India\\n\\n\\nProtean (previously NSDL)\\n\\n\\nTRACES\\n\\n\\n\\n\\n\\n\\nFollow us on\\nFollow us on :         \\n\\n\\n\\n\\n\\n\\n\\n\\n\\nLast reviewed and updated on : current time\\nThis site is best viewed in 1024 * 768 resolution with latest version of Chrome, Firefox, Safari and Microsoft Edge.\\nCopyright @ Income Tax Department, Ministry of Finance, Government of India. All Rights Reserved.\\n\\n\\n\\n\\n\\n\\n\\n\\n\\n\\n\\n\\n\\n\\n\\n\\n\\n\\n\\n\\n\\n\\n\\n\\n\\n\\n\\n\\n\\n\\n\\n\\n\\n\\n\\n\\n\\n\\n\\n\\n\\n\\n\\n\\n\\n\\n\\n\\n\\n\\n\\n\\n\\n\\n\\n\\n\\n\\n\\n\\n\\n\\n\\n\\n\\n\\n\\n\\n\\n\\n\\n\\n\\n\\n\\n\\n\\n\\n\\n\\n\\n\\n\\n\\n\\n\\n\\n\\n\\n\\n\\n\\n\\n\\n\\n\\n\\n')"
      ]
     },
     "execution_count": 3,
     "metadata": {},
     "output_type": "execute_result"
    }
   ],
   "source": [
    "docs[0]"
   ]
  },
  {
   "cell_type": "code",
   "execution_count": 4,
   "id": "522c6b78",
   "metadata": {},
   "outputs": [],
   "source": [
    "# Split the documents\n",
    "#langchain_docs = [LangchainDocument(page_content=doc[\"text\"], metadata={\"source\": doc[\"source\"]}) for doc in tqdm(ds)]\n",
    "\n",
    "\n",
    "text_splitter = RecursiveCharacterTextSplitter(\n",
    "    chunk_size=1000,\n",
    "    chunk_overlap=200,\n",
    "    add_start_index=True,\n",
    "    separators=[ r\"\\n#\", \".\", r\"\\t#\", \" \", \"\"],\n",
    "    length_function= lambda text: len(tiktoken.encoding_for_model(\"gpt-3.5-turbo\").encode(text)),\n",
    "    is_separator_regex=True\n",
    ")\n",
    "\n",
    "docs_processed = []\n",
    "for doc in docs:\n",
    "    docs_processed += text_splitter.split_documents([doc])\n",
    "\n"
   ]
  },
  {
   "cell_type": "code",
   "execution_count": 5,
   "id": "6eb1fa93",
   "metadata": {},
   "outputs": [
    {
     "data": {
      "text/plain": [
       "141"
      ]
     },
     "execution_count": 5,
     "metadata": {},
     "output_type": "execute_result"
    }
   ],
   "source": [
    "len(docs_processed)"
   ]
  },
  {
   "cell_type": "code",
   "execution_count": 6,
   "id": "ea82f6b4",
   "metadata": {},
   "outputs": [
    {
     "data": {
      "text/plain": [
       "[Document(metadata={'source': 'https://www.incometax.gov.in/iec/foportal/help/all-topics/tax-payer/individual/how-to-file-tax-returns', 'title': 'How to File Tax Returns | Income Tax Department', 'description': 'ITRs', 'language': 'en', 'start_index': 34}, page_content='How to File Tax Returns | Income Tax Department\\n\\n\\n\\n\\n\\n\\n\\n\\n\\n\\n\\n\\n\\n\\n\\n\\n\\n\\n      Skip to main content\\n    \\n\\n\\n\\n\\n\\n\\n\\n\\n\\n\\n\\n\\n\\n\\n\\n\\n\\n\\n\\n \\n\\nCall Us\\n\\n\\n\\ne-filing and Centralized Processing Center\\ne-Filing of Income Tax Return or Forms and other value added services & Intimation, Rectification, Refund and other Income Tax Processing Related Queries\\n\\n\\n1800 103 0025 (or)\\n1800 419 0025\\n+91-80-46122000\\n+91-80-61464700\\n\\n\\n08:00 hrs - 20:00 hrs\\n(Monday to Friday)\\n\\n\\n\\n\\nTax Information Network - NSDL\\nQueries related to PAN & TAN application for Issuance / Update through NSDL\\n\\n\\n+91-20-27218080\\n\\n\\n07:00 hrs - 23:00 hrs\\n(All Days)\\n\\n\\n\\n\\nAIS and Reporting Portal\\nQueries related to AIS, TIS, SFT Preliminary response, Response to e-campaigns or e-Verification\\n\\n\\n1800 103 4215\\n\\n\\n09:30 hrs - 18:00 hrs\\n(Monday to Friday)\\n\\n\\nView All\\n\\n\\n\\n\\n\\n    \\n\\n  \\n\\nSelect your language\\nEnglishHindi\\n\\nGo\\n\\n\\n\\n\\n\\n\\n\\n\\nLogin\\nRegister\\n\\n\\n\\n\\n\\u200c \\n\\n\\n\\n\\n\\n\\n\\n\\n\\n\\n\\n\\nHomeIndividual/HUFSalaried EmployeesGuidance to file Tax ReturnReturn / Forms applicable to meTax slabsDeductions on which I can get tax benefitUpdate my profile detailsAssisted filingDownloadsBusiness/P'),\n",
       " Document(metadata={'source': 'https://www.incometax.gov.in/iec/foportal/help/all-topics/tax-payer/individual/how-to-file-tax-returns', 'title': 'How to File Tax Returns | Income Tax Department', 'description': 'ITRs', 'language': 'en', 'start_index': 930}, page_content='eIndividual/HUFSalaried EmployeesGuidance to file Tax ReturnReturn / Forms applicable to meTax slabsDeductions on which I can get tax benefitUpdate my profile detailsAssisted filingDownloadsBusiness/ProfessionGuidance to file Tax ReturnReturn / Forms applicable to meTax slabsDeductions on which I can get tax benefitUpdate my profile detailsAssisted filingDownloadsSenior / Super Senior CitizenGuidance to file Tax ReturnReturn / Forms applicable to me Tax slabsDeductions on which I can get tax benefitUpdate my profile detailsAssisted filingDownloadsNon ResidentGuidance to file Tax ReturnReturn / Forms applicable to meTax slabsDeductions on which I can get tax benefitUpdate my profile details Assisted filingDownloadsHindu Undivided Family (HUF)Guidance to file Tax ReturnReturn / Forms applicable to meTax slabsDeductions on which I can get tax benefitUpdate my profile detailsAssisted filingDownloadsCompanyDomestic CompanyGuidance to file Tax ReturnReturn / Forms applicable to meTax slabsDe'),\n",
       " Document(metadata={'source': 'https://www.incometax.gov.in/iec/foportal/help/all-topics/tax-payer/individual/how-to-file-tax-returns', 'title': 'How to File Tax Returns | Income Tax Department', 'description': 'ITRs', 'language': 'en', 'start_index': 1730}, page_content='ble to meTax slabsDeductions on which I can get tax benefitUpdate my profile detailsAssisted filingDownloadsCompanyDomestic CompanyGuidance to file Tax ReturnReturn / Forms applicable to meTax slabsDeductions on which I can get tax benefitUpdate my profile detailsDownloadsForeign CompanyGuidance to file Tax returnReturn / Forms applicable to meTax slabsDeductions on which I can get tax benefitUpdate my profile detailsDownloadsNon-CompanyAOP/BOI/Trust/AJPGuidance to file Tax ReturnReturn / Forms applicable to meTax slabsDeductions on which I can get tax benefitUpdate my profile detailsDownloadsFirm/LLPGuidance to file Tax ReturnReturn / Forms applicable to meTax slabsDeductions on which I can get tax benefitUpdate my profile detailsDownloadsLocal AuthorityGuidance to file Tax ReturnReturn / Forms applicable to meTax slabsDeductions on which I can get tax benefitUpdate my profile detailsDownloadsTax Professionals & OthersChartered AccountantsRegistrationService Availablee-Return Intermed')]"
      ]
     },
     "execution_count": 6,
     "metadata": {},
     "output_type": "execute_result"
    }
   ],
   "source": [
    "docs_processed[:3]"
   ]
  },
  {
   "cell_type": "markdown",
   "id": "43a69c64",
   "metadata": {},
   "source": [
    "#### Creating a team of agents for different tasks\n",
    "- Question Agent\n",
    "- Critique Agent\n",
    "- Agent as a Judge\n",
    "- Answering Agent"
   ]
  },
  {
   "cell_type": "code",
   "execution_count": 10,
   "id": "316ac190",
   "metadata": {},
   "outputs": [],
   "source": [
    "MISTRAL_KEY = os.environ.get('MISTRAL_KEY')\n",
    "QWEN_API_KEY = os.environ.get('QWEN_API_KEY')"
   ]
  },
  {
   "cell_type": "code",
   "execution_count": 34,
   "id": "38791d64",
   "metadata": {},
   "outputs": [],
   "source": [
    "llm  = init_chat_model(\"mistral-large-latest\", \n",
    "                       model_provider=\"mistralai\", \n",
    "                       timeout = 60, \n",
    "                       streaming = True,\n",
    "                       api_key = MISTRAL_KEY\n",
    "                       )"
   ]
  },
  {
   "cell_type": "code",
   "execution_count": 43,
   "id": "c40c4dc7",
   "metadata": {},
   "outputs": [
    {
     "data": {
      "text/plain": [
       "AIMessage(content='Hey! What\\'s up? 😊 How can I help you today? (Also, love the casual vibe—\"dude\" works for me! 🤙)', additional_kwargs={}, response_metadata={'model_name': 'mistral-large-latest', 'finish_reason': 'stop'}, id='run--edfed2b0-7670-4ebc-8bfd-612dc30e9464-0', usage_metadata={'input_tokens': 6, 'output_tokens': 38, 'total_tokens': 44})"
      ]
     },
     "execution_count": 43,
     "metadata": {},
     "output_type": "execute_result"
    }
   ],
   "source": [
    "llm.invoke(\"Hi dude\")"
   ]
  },
  {
   "cell_type": "code",
   "execution_count": null,
   "id": "45d13c92",
   "metadata": {},
   "outputs": [],
   "source": [
    "\"model\": \"qwen/qwen3-4b:free\","
   ]
  },
  {
   "cell_type": "code",
   "execution_count": 36,
   "id": "6486189e",
   "metadata": {},
   "outputs": [],
   "source": [
    "def openrouter_llm(url:str, model:str, api_key:str, prompt:str):\n",
    "    response = requests.post(\n",
    "        url=\"https://openrouter.ai/api/v1/chat/completions\",\n",
    "        headers={\n",
    "            \"Authorization\": F\"Bearer {api_key}\",\n",
    "            \"Content-Type\": \"application/json\",\n",
    "        },\n",
    "        data=json.dumps({\n",
    "            \"model\": model,\n",
    "            \"messages\": [\n",
    "                {\n",
    "                    \"role\": \"user\",\n",
    "                    \"content\": prompt\n",
    "                }\n",
    "            ],\n",
    "\n",
    "        })\n",
    "    )\n",
    "    return response.json()['choices'][0]['message']['content']"
   ]
  },
  {
   "cell_type": "code",
   "execution_count": 37,
   "id": "d073a670",
   "metadata": {},
   "outputs": [],
   "source": [
    "response = openrouter_llm(\n",
    "    url=\"https://openrouter.ai/api/v1/chat/completions\",\n",
    "    model=\"qwen/qwen3-4b:free\",\n",
    "    api_key=QWEN_API_KEY,\n",
    "    prompt=\"Hi\"\n",
    ")"
   ]
  },
  {
   "cell_type": "code",
   "execution_count": 38,
   "id": "64721d4d",
   "metadata": {},
   "outputs": [
    {
     "data": {
      "text/plain": [
       "'Hello! How can I assist you today? 😊'"
      ]
     },
     "execution_count": 38,
     "metadata": {},
     "output_type": "execute_result"
    }
   ],
   "source": [
    "response"
   ]
  },
  {
   "cell_type": "code",
   "execution_count": 45,
   "id": "3ddcd831",
   "metadata": {},
   "outputs": [],
   "source": [
    "QA_generation_prompt = \"\"\"\n",
    "Your task is to write a factoid question and an answer given a context.\n",
    "Your factoid question should be answerable with a specific, concise piece of factual information from the context.\n",
    "Your factoid question should be formulated in the same style as questions users could ask in a search engine.\n",
    "This means that your factoid question MUST NOT mention something like \"according to the passage\" or \"context\".\n",
    "\n",
    "Provide your answer as follows:\n",
    "\n",
    "Output:::\n",
    "Factoid question: (your factoid question)\n",
    "Answer: (your answer to the factoid question)\n",
    "\n",
    "Now here is the context.\n",
    "\n",
    "Context: {context}\\n\n",
    "Output:::\"\"\""
   ]
  },
  {
   "cell_type": "code",
   "execution_count": 57,
   "id": "d9bb666b",
   "metadata": {},
   "outputs": [
    {
     "name": "stdout",
     "output_type": "stream",
     "text": [
      "Generating 20 QA pairs...\n"
     ]
    },
    {
     "name": "stderr",
     "output_type": "stream",
     "text": [
      "100%|██████████| 20/20 [02:02<00:00,  6.12s/it]\n"
     ]
    }
   ],
   "source": [
    "import random\n",
    "N_QA_COUPLES = 20\n",
    "\n",
    "print(f\"Generating {N_QA_COUPLES} QA pairs...\")\n",
    "\n",
    "outputs = []\n",
    "\n",
    "for sampled_context in tqdm(random.sample(docs_processed, N_QA_COUPLES)):\n",
    "    prompt = QA_generation_prompt.format(context=sampled_context.page_content)\n",
    "    response = openrouter_llm(\n",
    "    url=\"https://openrouter.ai/api/v1/chat/completions\",\n",
    "    model=\"qwen/qwen3-4b:free\",\n",
    "    api_key=QWEN_API_KEY,\n",
    "    prompt=prompt\n",
    ")\n",
    "\n",
    "    try:\n",
    "        question = response.split(\"Factoid question:\")[-1].split(\"Answer:\")[0]\n",
    "        answer = response.split(\"Answer:\")[-1]\n",
    "        assert len(answer) < 300, \"Answer too long\"\n",
    "        outputs.append({\n",
    "            \"context\": sampled_context.page_content,\n",
    "            \"question\": question,\n",
    "            \"answer\": answer,\n",
    "            \"source\": sampled_context.metadata[\"source\"]\n",
    "        })\n",
    "    except Exception as e:\n",
    "        print(f\"Error generating QA pair for context: {sampled_context.page_content}\")\n",
    "        print(f\"Error message: {e}\")\n"
   ]
  },
  {
   "cell_type": "code",
   "execution_count": 58,
   "id": "5c52b1aa",
   "metadata": {},
   "outputs": [
    {
     "data": {
      "text/html": [
       "<div>\n",
       "<style scoped>\n",
       "    .dataframe tbody tr th:only-of-type {\n",
       "        vertical-align: middle;\n",
       "    }\n",
       "\n",
       "    .dataframe tbody tr th {\n",
       "        vertical-align: top;\n",
       "    }\n",
       "\n",
       "    .dataframe thead th {\n",
       "        text-align: right;\n",
       "    }\n",
       "</style>\n",
       "<table border=\"1\" class=\"dataframe\">\n",
       "  <thead>\n",
       "    <tr style=\"text-align: right;\">\n",
       "      <th></th>\n",
       "      <th>context</th>\n",
       "      <th>question</th>\n",
       "      <th>answer</th>\n",
       "      <th>source</th>\n",
       "    </tr>\n",
       "  </thead>\n",
       "  <tbody>\n",
       "    <tr>\n",
       "      <th>0</th>\n",
       "      <td>pproved Undertaking Agency\\n\\n\\nRBI Approved Banks\\n\\n\\n\\n\\nTax Deductor &amp; Collector\\n\\n\\nRegistration\\n\\n\\nService Available\\n\\n\\n\\n\\n\\n\\nDownloads\\n\\n\\nHelp\\n\\n\\n\\n\\n\\n\\n\\n\\n\\n\\nDo not have an account?\\nRegister\\nAlready have an account?\\nLogin\\n\\n\\n\\n\\n\\n\\n\\n\\n\\n\\n\\n\\n\\ntest\\n\\n\\nSearch\\n\\n\\n\\n\\n\\n\\n\\n\\n\\nHelp\\n\\n\\n                  Tax payer\\n              \\n\\n                  Salaried Individuals for AY 2025-26\\n              \\n\\nSalaried Individuals for AY 2025-26\\n\\n\\n\\n\\n\\n\\n\\n\\n\\n\\n\\n\\n \\nReturns and Forms Applicable for Salaried Individuals for AY 2025-26\\n \\nDisclaimer: The content on this page is only to give an overview and general guidance and is not exhaustive. For complete details and guidelines please refer Income Tax Act, Rules and Notifications.\\n \\n \\n \\n\\n1. ITR-1 (SAHAJ) – Applicable only for Individual\\n\\n\\nThis return is applicable for a Resident (other than Not Ordinarily Resident) Individual having Total Income from any of the following sources up to ₹ 50 lakh\\n\\nSalary / Pension\\n\\n\\nOne House Property\\n\\n\\nOther sources (Interest, Family Pension, Dividend etc.)\\n\\n\\nAgricultural Income up to ₹ 5,000\\n\\n Capital Gain income u/s 112 A up to Rs. 125000</td>\n",
       "      <td>What is the income limit for ITR-1 (SAHAJ) applicable to salaried individuals in AY 2025-26?  \\n</td>\n",
       "      <td>₹50 lakh.</td>\n",
       "      <td>https://www.incometax.gov.in/iec/foportal/help/individual/return-applicable-1#taxdeductions</td>\n",
       "    </tr>\n",
       "    <tr>\n",
       "      <th>1</th>\n",
       "      <td>me Tax Department\\n\\n\\n \\n\\n4. Form 67- Statement of Income from a country or specified territory outside India and Foreign Tax Credit\\n\\n\\n\\nSubmitted by\\n\\n\\nDetails provided in the form\\n\\n\\nTaxpayer on or before the due date specified for furnishing the ITRs u/s 139(1)\\n\\n\\nIncome from a country or specified territory outside India and Foreign Tax Credit claimed\\n\\n\\n \\n\\n5. \\n\\n\\n\\nForm 26 AS\\n\\n\\n AIS  (Annual information Statement)\\n\\n\\nProvided by:\\nIncome Tax Department (It is available on e-Filing Portal: \\nLogin &gt; e-File &gt; Income Tax Return &gt; View Form 26AS)\\nDetails provided in the form:\\nTax Deducted / Collected at Source.\\n\\n\\nProvided by:\\nIncome Tax Department (It can be accessed after logging on to Income Tax e-Filing portal)\\n Go to e-filing portal &gt; login &gt; AIS\\nDetails provided in the form:\\nTax Deducted / Collected at Source \\nSFT Information\\nPayment of taxes\\nDemand / Refund\\nOther information (like Pending/Completed proceedings, GST Information, Information received from foreign government etc)\\n\\n\\n \\n\\n6. Form 15G - Declaration by resident taxpayer (</td>\n",
       "      <td>What is the submission deadline for Form 67?  \\n</td>\n",
       "      <td>The form must be submitted on or before the due date specified for furnishing the ITRs u/s 139(1).</td>\n",
       "      <td>https://www.incometax.gov.in/iec/foportal/help/individual/return-applicable-1#taxableincome</td>\n",
       "    </tr>\n",
       "    <tr>\n",
       "      <th>2</th>\n",
       "      <td>sources up to ₹ 50 lakh\\n\\nSalary / Pension\\n\\n\\nOne House Property\\n\\n\\nOther sources (Interest, Family Pension, Dividend etc.)\\n\\n\\nAgricultural Income up to ₹ 5,000\\n\\n Capital Gain income u/s 112 A up to Rs. 125000\\n \\n\\n ​\\n\\n\\n\\nNote: ITR-1 cannot be used by a person who:(a) is a Director in a company \\n\\t\\t\\t\\t\\t\\t\\t\\t\\t(b) has short term capital gain\\n\\t\\t\\t\\t\\t\\t\\t\\t\\t(c ) has Long-term capital gain u/s 112A exceeding Rs.1.25 lakhs\\n\\t\\t\\t\\t\\t\\t\\t\\t\\t(d) has held any unlisted equity shares at any time during the previous year \\n\\t\\t\\t\\t\\t\\t\\t\\t\\t(e) has any asset (including financial interest in any entity) located outside India \\n\\t\\t\\t\\t\\t\\t\\t\\t\\t(f) has signing authority in any account located outside India \\n\\t\\t\\t\\t\\t\\t\\t\\t\\t(g) has income from any source outside India \\n\\t\\t\\t\\t\\t\\t\\t\\t\\t(h) is a person in whose case tax has been deducted u/s 194N \\n\\t\\t\\t\\t\\t\\t\\t\\t\\t(e) is a person in whose case payment or deduction of tax has been deferred on ESOP\\n\\t\\t\\t\\t\\t\\t\\t\\t\\t(i) has any brought forward loss or loss to be carried forward under any head of income\\n(i) has total income exceeding Rs. 50 la</td>\n",
       "      <td>What is the maximum allowable amount for agricultural income in the context?  \\n</td>\n",
       "      <td>₹ 5,000</td>\n",
       "      <td>https://www.incometax.gov.in/iec/foportal/help/individual/return-applicable-1#taxdeductions</td>\n",
       "    </tr>\n",
       "    <tr>\n",
       "      <th>3</th>\n",
       "      <td>ng winning from Lottery and Income from Race Horses): \\nInterest from Savings Account\\nInterest from Deposit (Bank / Post Office / Cooperative Society)\\nInterest from Income Tax Refund\\nFamily Pension\\nInterest received on enhanced compensation\\nAny other Interest Income (e.g., Interest Income from Unsecured Loan)\\n\\n \\n2. Who is not eligible to file ITR-4 for AY 2025-26?\\nITR-4 cannot be filed by an individual / HUF / Firm (Other than LLP) who:\\nis a Resident but Not Ordinarily Resident (RNOR),  or Non-Resident Indian\\nhas total income exceeding ₹ 50 Lakh\\nShort term capital gains;\\nLong-term capital gain u/s 112A exceeding Rs. 1.25 lakhs\\nhas agricultural income in excess of ₹5,000/-\\nis a Director in a Company\\nhas income from more than one House Property;\\nhas income of the following nature: \\nwinnings from lottery;\\nactivity of owning and maintaining race horses;\\nincome taxable at special rates  u/s115BBDA or Section 115BBE;\\n\\nhas held any unlisted equity shares at any time during the previous year\\nhas deferred in</td>\n",
       "      <td>What is one reason an individual is not eligible to file ITR-4 for AY 2025-26?  \\n</td>\n",
       "      <td>winnings from lottery</td>\n",
       "      <td>https://www.incometax.gov.in/iec/foportal/help/e-filing-itr4-form-sugam-faq</td>\n",
       "    </tr>\n",
       "    <tr>\n",
       "      <th>4</th>\n",
       "      <td>ed Undertaking Agency\\n\\n\\nRBI Approved Banks\\n\\n\\n\\n\\nTax Deductor &amp; Collector\\n\\n\\nRegistration\\n\\n\\nService Available\\n\\n\\n\\n\\n\\n\\nDownloads\\n\\n\\nHelp\\n\\n\\n\\n\\n\\n\\n\\n\\n\\n\\nDo not have an account?\\nRegister\\nAlready have an account?\\nLogin\\n\\n\\n\\n\\n\\n\\n\\n\\n\\n\\n\\n\\n\\ntest\\n\\n\\nSearch\\n\\n\\n\\n\\n\\n\\n\\n\\n\\n                  File ITR-4 (Sugam) Online FAQs\\n              \\n\\n                  File ITR-4 (Sugam) Online FAQs\\n              \\n\\nFile ITR-4 (Sugam) Online FAQs\\n\\n\\n\\n\\n\\n\\n\\n\\n\\n\\n\\n\\n\\n1. Who is eligible to file ITR-4 for AY 2025-26?ITR-4 can be filed by a Resident Individual / HUF / Firm (other than LLP) who has:\\nIncome not exceeding ₹50 Lakh during the FY\\nIncome from Business and Profession which is computed on a presumptive basis u/s 44AD, 44ADA or 44AE\\nLong-term capital gain u/s 112A not exceeding Rs.1.25 lakhs\\nIncome from Salary/Pension, one House Property, Agricultural Income (up to ₹ 5000/-)\\nOther Sources which include (excluding winning from Lottery and Income from Race Horses): \\nInterest from Savings Account\\nInterest from Deposit (Bank / Post Office / Cooperative Society)\\nInterest from Income Tax Refund\\nFamily Pension\\nInter</td>\n",
       "      <td>What is the maximum income limit for filing ITR-4 in FY 2025-26?  \\n</td>\n",
       "      <td>₹50 Lakh</td>\n",
       "      <td>https://www.incometax.gov.in/iec/foportal/help/e-filing-itr4-form-sugam-faq</td>\n",
       "    </tr>\n",
       "  </tbody>\n",
       "</table>\n",
       "</div>"
      ],
      "text/plain": [
       "                                                                                                                                                                                                                                                                                                                                                                                                                                                                                                                                                                                                                                                                                                                                                                                                                                                                                                                                                                                                                                                                                                                                                                                                                                        context  \\\n",
       "0  pproved Undertaking Agency\\n\\n\\nRBI Approved Banks\\n\\n\\n\\n\\nTax Deductor & Collector\\n\\n\\nRegistration\\n\\n\\nService Available\\n\\n\\n\\n\\n\\n\\nDownloads\\n\\n\\nHelp\\n\\n\\n\\n\\n\\n\\n\\n\\n\\n\\nDo not have an account?\\nRegister\\nAlready have an account?\\nLogin\\n\\n\\n\\n\\n\\n\\n\\n\\n\\n\\n\\n\\n\\ntest\\n\\n\\nSearch\\n\\n\\n\\n\\n\\n\\n\\n\\n\\nHelp\\n\\n\\n                  Tax payer\\n              \\n\\n                  Salaried Individuals for AY 2025-26\\n              \\n\\nSalaried Individuals for AY 2025-26\\n\\n\\n\\n\\n\\n\\n\\n\\n\\n\\n\\n\\n \\nReturns and Forms Applicable for Salaried Individuals for AY 2025-26\\n \\nDisclaimer: The content on this page is only to give an overview and general guidance and is not exhaustive. For complete details and guidelines please refer Income Tax Act, Rules and Notifications.\\n \\n \\n \\n\\n1. ITR-1 (SAHAJ) – Applicable only for Individual\\n\\n\\nThis return is applicable for a Resident (other than Not Ordinarily Resident) Individual having Total Income from any of the following sources up to ₹ 50 lakh\\n\\nSalary / Pension\\n\\n\\nOne House Property\\n\\n\\nOther sources (Interest, Family Pension, Dividend etc.)\\n\\n\\nAgricultural Income up to ₹ 5,000\\n\\n Capital Gain income u/s 112 A up to Rs. 125000   \n",
       "1                                                                                                          me Tax Department\\n\\n\\n \\n\\n4. Form 67- Statement of Income from a country or specified territory outside India and Foreign Tax Credit\\n\\n\\n\\nSubmitted by\\n\\n\\nDetails provided in the form\\n\\n\\nTaxpayer on or before the due date specified for furnishing the ITRs u/s 139(1)\\n\\n\\nIncome from a country or specified territory outside India and Foreign Tax Credit claimed\\n\\n\\n \\n\\n5. \\n\\n\\n\\nForm 26 AS\\n\\n\\n AIS  (Annual information Statement)\\n\\n\\nProvided by:\\nIncome Tax Department (It is available on e-Filing Portal: \\nLogin > e-File > Income Tax Return > View Form 26AS)\\nDetails provided in the form:\\nTax Deducted / Collected at Source.\\n\\n\\nProvided by:\\nIncome Tax Department (It can be accessed after logging on to Income Tax e-Filing portal)\\n Go to e-filing portal > login > AIS\\nDetails provided in the form:\\nTax Deducted / Collected at Source \\nSFT Information\\nPayment of taxes\\nDemand / Refund\\nOther information (like Pending/Completed proceedings, GST Information, Information received from foreign government etc)\\n\\n\\n \\n\\n6. Form 15G - Declaration by resident taxpayer (   \n",
       "2                                                                       sources up to ₹ 50 lakh\\n\\nSalary / Pension\\n\\n\\nOne House Property\\n\\n\\nOther sources (Interest, Family Pension, Dividend etc.)\\n\\n\\nAgricultural Income up to ₹ 5,000\\n\\n Capital Gain income u/s 112 A up to Rs. 125000\\n \\n\\n ​\\n\\n\\n\\nNote: ITR-1 cannot be used by a person who:(a) is a Director in a company \\n\\t\\t\\t\\t\\t\\t\\t\\t\\t(b) has short term capital gain\\n\\t\\t\\t\\t\\t\\t\\t\\t\\t(c ) has Long-term capital gain u/s 112A exceeding Rs.1.25 lakhs\\n\\t\\t\\t\\t\\t\\t\\t\\t\\t(d) has held any unlisted equity shares at any time during the previous year \\n\\t\\t\\t\\t\\t\\t\\t\\t\\t(e) has any asset (including financial interest in any entity) located outside India \\n\\t\\t\\t\\t\\t\\t\\t\\t\\t(f) has signing authority in any account located outside India \\n\\t\\t\\t\\t\\t\\t\\t\\t\\t(g) has income from any source outside India \\n\\t\\t\\t\\t\\t\\t\\t\\t\\t(h) is a person in whose case tax has been deducted u/s 194N \\n\\t\\t\\t\\t\\t\\t\\t\\t\\t(e) is a person in whose case payment or deduction of tax has been deferred on ESOP\\n\\t\\t\\t\\t\\t\\t\\t\\t\\t(i) has any brought forward loss or loss to be carried forward under any head of income\\n(i) has total income exceeding Rs. 50 la   \n",
       "3                                                                                                                                                                 ng winning from Lottery and Income from Race Horses): \\nInterest from Savings Account\\nInterest from Deposit (Bank / Post Office / Cooperative Society)\\nInterest from Income Tax Refund\\nFamily Pension\\nInterest received on enhanced compensation\\nAny other Interest Income (e.g., Interest Income from Unsecured Loan)\\n\\n \\n2. Who is not eligible to file ITR-4 for AY 2025-26?\\nITR-4 cannot be filed by an individual / HUF / Firm (Other than LLP) who:\\nis a Resident but Not Ordinarily Resident (RNOR),  or Non-Resident Indian\\nhas total income exceeding ₹ 50 Lakh\\nShort term capital gains;\\nLong-term capital gain u/s 112A exceeding Rs. 1.25 lakhs\\nhas agricultural income in excess of ₹5,000/-\\nis a Director in a Company\\nhas income from more than one House Property;\\nhas income of the following nature: \\nwinnings from lottery;\\nactivity of owning and maintaining race horses;\\nincome taxable at special rates  u/s115BBDA or Section 115BBE;\\n\\nhas held any unlisted equity shares at any time during the previous year\\nhas deferred in   \n",
       "4                              ed Undertaking Agency\\n\\n\\nRBI Approved Banks\\n\\n\\n\\n\\nTax Deductor & Collector\\n\\n\\nRegistration\\n\\n\\nService Available\\n\\n\\n\\n\\n\\n\\nDownloads\\n\\n\\nHelp\\n\\n\\n\\n\\n\\n\\n\\n\\n\\n\\nDo not have an account?\\nRegister\\nAlready have an account?\\nLogin\\n\\n\\n\\n\\n\\n\\n\\n\\n\\n\\n\\n\\n\\ntest\\n\\n\\nSearch\\n\\n\\n\\n\\n\\n\\n\\n\\n\\n                  File ITR-4 (Sugam) Online FAQs\\n              \\n\\n                  File ITR-4 (Sugam) Online FAQs\\n              \\n\\nFile ITR-4 (Sugam) Online FAQs\\n\\n\\n\\n\\n\\n\\n\\n\\n\\n\\n\\n\\n\\n1. Who is eligible to file ITR-4 for AY 2025-26?ITR-4 can be filed by a Resident Individual / HUF / Firm (other than LLP) who has:\\nIncome not exceeding ₹50 Lakh during the FY\\nIncome from Business and Profession which is computed on a presumptive basis u/s 44AD, 44ADA or 44AE\\nLong-term capital gain u/s 112A not exceeding Rs.1.25 lakhs\\nIncome from Salary/Pension, one House Property, Agricultural Income (up to ₹ 5000/-)\\nOther Sources which include (excluding winning from Lottery and Income from Race Horses): \\nInterest from Savings Account\\nInterest from Deposit (Bank / Post Office / Cooperative Society)\\nInterest from Income Tax Refund\\nFamily Pension\\nInter   \n",
       "\n",
       "                                                                                            question  \\\n",
       "0   What is the income limit for ITR-1 (SAHAJ) applicable to salaried individuals in AY 2025-26?  \\n   \n",
       "1                                                   What is the submission deadline for Form 67?  \\n   \n",
       "2                   What is the maximum allowable amount for agricultural income in the context?  \\n   \n",
       "3                 What is one reason an individual is not eligible to file ITR-4 for AY 2025-26?  \\n   \n",
       "4                               What is the maximum income limit for filing ITR-4 in FY 2025-26?  \\n   \n",
       "\n",
       "                                                                                                answer  \\\n",
       "0                                                                                            ₹50 lakh.   \n",
       "1   The form must be submitted on or before the due date specified for furnishing the ITRs u/s 139(1).   \n",
       "2                                                                                              ₹ 5,000   \n",
       "3                                                                                winnings from lottery   \n",
       "4                                                                                             ₹50 Lakh   \n",
       "\n",
       "                                                                                        source  \n",
       "0  https://www.incometax.gov.in/iec/foportal/help/individual/return-applicable-1#taxdeductions  \n",
       "1  https://www.incometax.gov.in/iec/foportal/help/individual/return-applicable-1#taxableincome  \n",
       "2  https://www.incometax.gov.in/iec/foportal/help/individual/return-applicable-1#taxdeductions  \n",
       "3                  https://www.incometax.gov.in/iec/foportal/help/e-filing-itr4-form-sugam-faq  \n",
       "4                  https://www.incometax.gov.in/iec/foportal/help/e-filing-itr4-form-sugam-faq  "
      ]
     },
     "metadata": {},
     "output_type": "display_data"
    }
   ],
   "source": [
    "display(pd.DataFrame(outputs).head(5))"
   ]
  },
  {
   "cell_type": "markdown",
   "id": "125dfdbc",
   "metadata": {},
   "source": [
    "##### Building critique agents: We cannot blindly trust the questions generated by the LLM, we must do a quality check to validate them.\n",
    "We follow this paper - https://huggingface.co/papers/2312.10003\n",
    "\n",
    "Criteria - \n",
    "- Groundedness: can the question be answered from the given context?\n",
    "- Relevance: is the question relevant to users? For instance, \"What is the date when transformers 4.29.1 was released?\" is not relevant for ML practitioners.\n",
    "One last failure case we’ve noticed is when a function is tailored for the particular setting where the question was generated, but undecipherable by itself.\n",
    "- Stand-alone: is the question understandable free of any context, for someone with domain knowledge/Internet access? "
   ]
  },
  {
   "cell_type": "code",
   "execution_count": null,
   "id": "31bc9604",
   "metadata": {},
   "outputs": [],
   "source": [
    "groundedness_critique_prompt = \"\"\"\n",
    "You will be given a context and a question.\n",
    "Your task is to provide a 'total rating' scoring how well one can answer the given question unambiguously with the given context.\n",
    "Give your answer on a scale of 1 to 5, where 1 means that the question is not answerable at all given the context, and 5 means that the question is clearly and unambiguously answerable with the context.\n",
    "\n",
    "Provide your answer as follows:\n",
    "\n",
    "Answer:::\n",
    "Evaluation: (your rationale for the rating, as a text)\n",
    "Total rating: (your rating, as a number between 1 and 5)\n",
    "\n",
    "You MUST provide values for 'Evaluation:' and 'Total rating:' in your answer.\n",
    "\n",
    "Now here are the question and context.\n",
    "\n",
    "Question: {question}\\n\n",
    "Context: {context}\\n\n",
    "Answer::: \"\"\""
   ]
  },
  {
   "cell_type": "code",
   "execution_count": null,
   "id": "dcfaaf97",
   "metadata": {},
   "outputs": [],
   "source": []
  },
  {
   "cell_type": "code",
   "execution_count": null,
   "id": "166ca150",
   "metadata": {},
   "outputs": [],
   "source": []
  },
  {
   "cell_type": "code",
   "execution_count": null,
   "id": "29f068d5",
   "metadata": {},
   "outputs": [],
   "source": []
  },
  {
   "cell_type": "code",
   "execution_count": null,
   "id": "81bf278d",
   "metadata": {},
   "outputs": [],
   "source": []
  },
  {
   "cell_type": "code",
   "execution_count": null,
   "id": "6b7332e6",
   "metadata": {},
   "outputs": [],
   "source": []
  },
  {
   "cell_type": "code",
   "execution_count": null,
   "id": "1870a1cb",
   "metadata": {},
   "outputs": [],
   "source": []
  },
  {
   "cell_type": "code",
   "execution_count": null,
   "id": "a5922053",
   "metadata": {},
   "outputs": [],
   "source": []
  },
  {
   "cell_type": "code",
   "execution_count": null,
   "id": "54a3afbd",
   "metadata": {},
   "outputs": [],
   "source": []
  },
  {
   "cell_type": "code",
   "execution_count": null,
   "id": "e33c73ba",
   "metadata": {},
   "outputs": [],
   "source": []
  },
  {
   "cell_type": "code",
   "execution_count": null,
   "id": "e2be76f1",
   "metadata": {},
   "outputs": [],
   "source": []
  },
  {
   "cell_type": "code",
   "execution_count": null,
   "id": "03b79731",
   "metadata": {},
   "outputs": [],
   "source": []
  },
  {
   "cell_type": "code",
   "execution_count": null,
   "id": "74506166",
   "metadata": {},
   "outputs": [],
   "source": []
  },
  {
   "cell_type": "code",
   "execution_count": null,
   "id": "a21adbe8",
   "metadata": {},
   "outputs": [],
   "source": []
  },
  {
   "cell_type": "code",
   "execution_count": null,
   "id": "1638263d",
   "metadata": {},
   "outputs": [],
   "source": []
  },
  {
   "cell_type": "code",
   "execution_count": null,
   "id": "104eae21",
   "metadata": {},
   "outputs": [],
   "source": []
  },
  {
   "cell_type": "code",
   "execution_count": null,
   "id": "9a3fdd45",
   "metadata": {},
   "outputs": [],
   "source": []
  },
  {
   "cell_type": "code",
   "execution_count": null,
   "id": "bef52ada",
   "metadata": {},
   "outputs": [],
   "source": []
  },
  {
   "cell_type": "code",
   "execution_count": null,
   "id": "fe032b51",
   "metadata": {},
   "outputs": [],
   "source": []
  },
  {
   "cell_type": "code",
   "execution_count": null,
   "id": "7059c527",
   "metadata": {},
   "outputs": [],
   "source": []
  },
  {
   "cell_type": "code",
   "execution_count": null,
   "id": "5b0a0637",
   "metadata": {},
   "outputs": [],
   "source": []
  },
  {
   "cell_type": "code",
   "execution_count": null,
   "id": "dd537094",
   "metadata": {},
   "outputs": [],
   "source": []
  },
  {
   "cell_type": "code",
   "execution_count": null,
   "id": "174043b6",
   "metadata": {},
   "outputs": [],
   "source": []
  },
  {
   "cell_type": "code",
   "execution_count": null,
   "id": "4c38351e",
   "metadata": {},
   "outputs": [],
   "source": []
  },
  {
   "cell_type": "code",
   "execution_count": null,
   "id": "e30347e7",
   "metadata": {},
   "outputs": [],
   "source": []
  },
  {
   "cell_type": "code",
   "execution_count": null,
   "id": "b7687c12",
   "metadata": {},
   "outputs": [],
   "source": []
  },
  {
   "cell_type": "code",
   "execution_count": null,
   "id": "445f48b1",
   "metadata": {},
   "outputs": [],
   "source": []
  },
  {
   "cell_type": "code",
   "execution_count": null,
   "id": "a324d2f8",
   "metadata": {},
   "outputs": [],
   "source": []
  },
  {
   "cell_type": "code",
   "execution_count": null,
   "id": "a5e7a39b",
   "metadata": {},
   "outputs": [],
   "source": []
  },
  {
   "cell_type": "code",
   "execution_count": null,
   "id": "40973517",
   "metadata": {},
   "outputs": [],
   "source": []
  },
  {
   "cell_type": "code",
   "execution_count": null,
   "id": "dcabf2da",
   "metadata": {},
   "outputs": [],
   "source": []
  },
  {
   "cell_type": "code",
   "execution_count": null,
   "id": "66fc0cc8",
   "metadata": {},
   "outputs": [],
   "source": []
  },
  {
   "cell_type": "code",
   "execution_count": null,
   "id": "9a51f167",
   "metadata": {},
   "outputs": [],
   "source": []
  },
  {
   "cell_type": "code",
   "execution_count": null,
   "id": "ce163fe4",
   "metadata": {},
   "outputs": [],
   "source": []
  },
  {
   "cell_type": "code",
   "execution_count": null,
   "id": "067a3e8e",
   "metadata": {},
   "outputs": [],
   "source": []
  },
  {
   "cell_type": "code",
   "execution_count": null,
   "id": "7a87b408",
   "metadata": {},
   "outputs": [],
   "source": []
  },
  {
   "cell_type": "code",
   "execution_count": null,
   "id": "38e126d0",
   "metadata": {},
   "outputs": [],
   "source": []
  },
  {
   "cell_type": "code",
   "execution_count": null,
   "id": "52c2a16e",
   "metadata": {},
   "outputs": [],
   "source": []
  },
  {
   "cell_type": "code",
   "execution_count": null,
   "id": "420d6da6",
   "metadata": {},
   "outputs": [],
   "source": []
  },
  {
   "cell_type": "code",
   "execution_count": null,
   "id": "6aafa3b3",
   "metadata": {},
   "outputs": [],
   "source": []
  },
  {
   "cell_type": "code",
   "execution_count": null,
   "id": "91aa3ee2",
   "metadata": {},
   "outputs": [],
   "source": []
  },
  {
   "cell_type": "code",
   "execution_count": null,
   "id": "07bd42b1",
   "metadata": {},
   "outputs": [],
   "source": []
  },
  {
   "cell_type": "code",
   "execution_count": null,
   "id": "ff1a1017",
   "metadata": {},
   "outputs": [],
   "source": []
  }
 ],
 "metadata": {
  "kernelspec": {
   "display_name": "ai-agent-langgraph-env (3.11.0)",
   "language": "python",
   "name": "python3"
  },
  "language_info": {
   "codemirror_mode": {
    "name": "ipython",
    "version": 3
   },
   "file_extension": ".py",
   "mimetype": "text/x-python",
   "name": "python",
   "nbconvert_exporter": "python",
   "pygments_lexer": "ipython3",
   "version": "3.11.0"
  }
 },
 "nbformat": 4,
 "nbformat_minor": 5
}
